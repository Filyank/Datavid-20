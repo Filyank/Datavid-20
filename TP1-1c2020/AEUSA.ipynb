{
 "cells": [
  {
   "cell_type": "markdown",
   "metadata": {},
   "source": [
    "# Analisis exploratorio: Tweets Estatos Unidos\n",
    "\n"
   ]
  },
  {
   "cell_type": "markdown",
   "metadata": {},
   "source": [
    "## Importación de librerías"
   ]
  },
  {
   "cell_type": "code",
   "execution_count": 406,
   "metadata": {},
   "outputs": [],
   "source": [
    "import pandas as pd\n",
    "import numpy as np\n",
    "import seaborn as sns\n",
    "import matplotlib.pyplot as plt\n",
    "import geopandas as gpd\n",
    "from mpl_toolkits.axes_grid1 import make_axes_locatable\n",
    "import matplotlib.colors as colors"
   ]
  },
  {
   "cell_type": "markdown",
   "metadata": {},
   "source": [
    "## Lectura de datos"
   ]
  },
  {
   "cell_type": "code",
   "execution_count": 407,
   "metadata": {},
   "outputs": [],
   "source": [
    "tweets = pd.read_csv(\"train.csv\")"
   ]
  },
  {
   "cell_type": "code",
   "execution_count": 408,
   "metadata": {},
   "outputs": [
    {
     "data": {
      "text/html": [
       "<div>\n",
       "<style scoped>\n",
       "    .dataframe tbody tr th:only-of-type {\n",
       "        vertical-align: middle;\n",
       "    }\n",
       "\n",
       "    .dataframe tbody tr th {\n",
       "        vertical-align: top;\n",
       "    }\n",
       "\n",
       "    .dataframe thead th {\n",
       "        text-align: right;\n",
       "    }\n",
       "</style>\n",
       "<table border=\"1\" class=\"dataframe\">\n",
       "  <thead>\n",
       "    <tr style=\"text-align: right;\">\n",
       "      <th></th>\n",
       "      <th>id</th>\n",
       "      <th>keyword</th>\n",
       "      <th>location</th>\n",
       "      <th>text</th>\n",
       "      <th>target</th>\n",
       "    </tr>\n",
       "  </thead>\n",
       "  <tbody>\n",
       "    <tr>\n",
       "      <th>0</th>\n",
       "      <td>1</td>\n",
       "      <td>NaN</td>\n",
       "      <td>NaN</td>\n",
       "      <td>Our Deeds are the Reason of this #earthquake M...</td>\n",
       "      <td>1</td>\n",
       "    </tr>\n",
       "    <tr>\n",
       "      <th>1</th>\n",
       "      <td>4</td>\n",
       "      <td>NaN</td>\n",
       "      <td>NaN</td>\n",
       "      <td>Forest fire near La Ronge Sask. Canada</td>\n",
       "      <td>1</td>\n",
       "    </tr>\n",
       "    <tr>\n",
       "      <th>2</th>\n",
       "      <td>5</td>\n",
       "      <td>NaN</td>\n",
       "      <td>NaN</td>\n",
       "      <td>All residents asked to 'shelter in place' are ...</td>\n",
       "      <td>1</td>\n",
       "    </tr>\n",
       "    <tr>\n",
       "      <th>3</th>\n",
       "      <td>6</td>\n",
       "      <td>NaN</td>\n",
       "      <td>NaN</td>\n",
       "      <td>13,000 people receive #wildfires evacuation or...</td>\n",
       "      <td>1</td>\n",
       "    </tr>\n",
       "    <tr>\n",
       "      <th>4</th>\n",
       "      <td>7</td>\n",
       "      <td>NaN</td>\n",
       "      <td>NaN</td>\n",
       "      <td>Just got sent this photo from Ruby #Alaska as ...</td>\n",
       "      <td>1</td>\n",
       "    </tr>\n",
       "    <tr>\n",
       "      <th>...</th>\n",
       "      <td>...</td>\n",
       "      <td>...</td>\n",
       "      <td>...</td>\n",
       "      <td>...</td>\n",
       "      <td>...</td>\n",
       "    </tr>\n",
       "    <tr>\n",
       "      <th>7608</th>\n",
       "      <td>10869</td>\n",
       "      <td>NaN</td>\n",
       "      <td>NaN</td>\n",
       "      <td>Two giant cranes holding a bridge collapse int...</td>\n",
       "      <td>1</td>\n",
       "    </tr>\n",
       "    <tr>\n",
       "      <th>7609</th>\n",
       "      <td>10870</td>\n",
       "      <td>NaN</td>\n",
       "      <td>NaN</td>\n",
       "      <td>@aria_ahrary @TheTawniest The out of control w...</td>\n",
       "      <td>1</td>\n",
       "    </tr>\n",
       "    <tr>\n",
       "      <th>7610</th>\n",
       "      <td>10871</td>\n",
       "      <td>NaN</td>\n",
       "      <td>NaN</td>\n",
       "      <td>M1.94 [01:04 UTC]?5km S of Volcano Hawaii. htt...</td>\n",
       "      <td>1</td>\n",
       "    </tr>\n",
       "    <tr>\n",
       "      <th>7611</th>\n",
       "      <td>10872</td>\n",
       "      <td>NaN</td>\n",
       "      <td>NaN</td>\n",
       "      <td>Police investigating after an e-bike collided ...</td>\n",
       "      <td>1</td>\n",
       "    </tr>\n",
       "    <tr>\n",
       "      <th>7612</th>\n",
       "      <td>10873</td>\n",
       "      <td>NaN</td>\n",
       "      <td>NaN</td>\n",
       "      <td>The Latest: More Homes Razed by Northern Calif...</td>\n",
       "      <td>1</td>\n",
       "    </tr>\n",
       "  </tbody>\n",
       "</table>\n",
       "<p>7613 rows × 5 columns</p>\n",
       "</div>"
      ],
      "text/plain": [
       "         id keyword location  \\\n",
       "0         1     NaN      NaN   \n",
       "1         4     NaN      NaN   \n",
       "2         5     NaN      NaN   \n",
       "3         6     NaN      NaN   \n",
       "4         7     NaN      NaN   \n",
       "...     ...     ...      ...   \n",
       "7608  10869     NaN      NaN   \n",
       "7609  10870     NaN      NaN   \n",
       "7610  10871     NaN      NaN   \n",
       "7611  10872     NaN      NaN   \n",
       "7612  10873     NaN      NaN   \n",
       "\n",
       "                                                   text  target  \n",
       "0     Our Deeds are the Reason of this #earthquake M...       1  \n",
       "1                Forest fire near La Ronge Sask. Canada       1  \n",
       "2     All residents asked to 'shelter in place' are ...       1  \n",
       "3     13,000 people receive #wildfires evacuation or...       1  \n",
       "4     Just got sent this photo from Ruby #Alaska as ...       1  \n",
       "...                                                 ...     ...  \n",
       "7608  Two giant cranes holding a bridge collapse int...       1  \n",
       "7609  @aria_ahrary @TheTawniest The out of control w...       1  \n",
       "7610  M1.94 [01:04 UTC]?5km S of Volcano Hawaii. htt...       1  \n",
       "7611  Police investigating after an e-bike collided ...       1  \n",
       "7612  The Latest: More Homes Razed by Northern Calif...       1  \n",
       "\n",
       "[7613 rows x 5 columns]"
      ]
     },
     "execution_count": 408,
     "metadata": {},
     "output_type": "execute_result"
    }
   ],
   "source": [
    "tweets=tweets.drop_duplicates()\n",
    "tweets"
   ]
  },
  {
   "cell_type": "markdown",
   "metadata": {},
   "source": [
    "Hay 7613 registros"
   ]
  },
  {
   "cell_type": "markdown",
   "metadata": {},
   "source": [
    "## El porqué de este análisis"
   ]
  },
  {
   "cell_type": "markdown",
   "metadata": {},
   "source": [
    "Observemos detenidamente la ubicación de los tweets de nuestro set de datos:"
   ]
  },
  {
   "cell_type": "code",
   "execution_count": 409,
   "metadata": {},
   "outputs": [
    {
     "data": {
      "text/plain": [
       "USA                104\n",
       "New York            71\n",
       "United States       50\n",
       "London              45\n",
       "Canada              29\n",
       "Nigeria             28\n",
       "UK                  27\n",
       "Los Angeles, CA     26\n",
       "India               24\n",
       "Mumbai              22\n",
       "Washington, DC      21\n",
       "Kenya               20\n",
       "Worldwide           19\n",
       "Australia           18\n",
       "Chicago, IL         18\n",
       "California          17\n",
       "New York, NY        15\n",
       "California, USA     15\n",
       "Everywhere          15\n",
       "Florida             14\n",
       "Name: location, dtype: int64"
      ]
     },
     "execution_count": 409,
     "metadata": {},
     "output_type": "execute_result"
    }
   ],
   "source": [
    "tweets['location'].value_counts().head(20)"
   ]
  },
  {
   "cell_type": "markdown",
   "metadata": {},
   "source": [
    "Notamos que para un gran porcentje de tweets la ubicación conocida es o bien su país de procedencia, siendo este Estados Unidos, o bien un estado o ciudad  ubicados dentro del territorio estadounidense"
   ]
  },
  {
   "cell_type": "markdown",
   "metadata": {},
   "source": [
    "## Acomodando nuestros datos"
   ]
  },
  {
   "cell_type": "markdown",
   "metadata": {},
   "source": [
    "La información con la que contamos en la columna location de nuestro set de datos es muy variada. En algunos casos conocemos la ciudad de origen del tweet, en otros conocemos el estado o provincia , en otros el país y en otros información extraña que no se corresponde con ninguna ubicación. En esta sección acomodaremos el set de datos para contar con toda la información necesaria para poder hacer un análisis exaustivo de la emision de tweets en el país Estados Unidos"
   ]
  },
  {
   "cell_type": "markdown",
   "metadata": {},
   "source": [
    "En principio veamos si tenemos registros que contengan datos nulos en la columna location"
   ]
  },
  {
   "cell_type": "code",
   "execution_count": 410,
   "metadata": {},
   "outputs": [
    {
     "data": {
      "text/plain": [
       "False    5080\n",
       "True     2533\n",
       "Name: location, dtype: int64"
      ]
     },
     "execution_count": 410,
     "metadata": {},
     "output_type": "execute_result"
    }
   ],
   "source": [
    "tweets['location'].isnull().value_counts()"
   ]
  },
  {
   "cell_type": "markdown",
   "metadata": {},
   "source": [
    "Se observa que 2533 registros contienen datos nulos en esta columna. Estos registros no serán de utilidad para el\n",
    "objetivo de este análisis por lo que serán descartados"
   ]
  },
  {
   "cell_type": "code",
   "execution_count": 411,
   "metadata": {},
   "outputs": [],
   "source": [
    "tweets.drop(tweets[tweets.location.isnull()].index, inplace = True)"
   ]
  },
  {
   "cell_type": "markdown",
   "metadata": {},
   "source": [
    "De los 7613 registros que teniamos inicialmente, quedaron 5080"
   ]
  },
  {
   "cell_type": "markdown",
   "metadata": {},
   "source": [
    "Agrego al dataframe dos columnas:1.Columna **located:** contendrá la ubicación detectada 2.Columna **location_type:**  me servirá para saber el tipo de ubicación, es decir si corresponde al pais(P), al estado(E) o a la ciudad(C) "
   ]
  },
  {
   "cell_type": "code",
   "execution_count": 412,
   "metadata": {},
   "outputs": [],
   "source": [
    "tweets['located']=\"-\"\n",
    "tweets['location_type']=\"-\""
   ]
  },
  {
   "cell_type": "markdown",
   "metadata": {},
   "source": [
    "Se comenzará con el proceso de detección de ubicaciones relacionadas a Estados Unidos. Se irá de lo más específico a \n",
    "lo más global(ciudad->estado->pais) con el objetivo de no perder información en el camino."
   ]
  },
  {
   "cell_type": "markdown",
   "metadata": {},
   "source": [
    "Para ayudarnos en el análisis vamos a utilizar un archivo csv el cual contiene todos los estados y ciudades de Estados unidos"
   ]
  },
  {
   "cell_type": "code",
   "execution_count": 413,
   "metadata": {},
   "outputs": [
    {
     "data": {
      "text/html": [
       "<div>\n",
       "<style scoped>\n",
       "    .dataframe tbody tr th:only-of-type {\n",
       "        vertical-align: middle;\n",
       "    }\n",
       "\n",
       "    .dataframe tbody tr th {\n",
       "        vertical-align: top;\n",
       "    }\n",
       "\n",
       "    .dataframe thead th {\n",
       "        text-align: right;\n",
       "    }\n",
       "</style>\n",
       "<table border=\"1\" class=\"dataframe\">\n",
       "  <thead>\n",
       "    <tr style=\"text-align: right;\">\n",
       "      <th></th>\n",
       "      <th>City</th>\n",
       "      <th>State</th>\n",
       "    </tr>\n",
       "  </thead>\n",
       "  <tbody>\n",
       "    <tr>\n",
       "      <th>0</th>\n",
       "      <td>Abilene</td>\n",
       "      <td>Texas</td>\n",
       "    </tr>\n",
       "    <tr>\n",
       "      <th>1</th>\n",
       "      <td>Akron</td>\n",
       "      <td>Ohio</td>\n",
       "    </tr>\n",
       "    <tr>\n",
       "      <th>2</th>\n",
       "      <td>Albuquerque</td>\n",
       "      <td>New Mexico</td>\n",
       "    </tr>\n",
       "    <tr>\n",
       "      <th>3</th>\n",
       "      <td>Alexandria</td>\n",
       "      <td>Virginia</td>\n",
       "    </tr>\n",
       "    <tr>\n",
       "      <th>4</th>\n",
       "      <td>Allentown</td>\n",
       "      <td>Pennsylvania</td>\n",
       "    </tr>\n",
       "  </tbody>\n",
       "</table>\n",
       "</div>"
      ],
      "text/plain": [
       "          City         State\n",
       "0      Abilene         Texas\n",
       "1        Akron          Ohio\n",
       "2  Albuquerque    New Mexico\n",
       "3   Alexandria      Virginia\n",
       "4    Allentown  Pennsylvania"
      ]
     },
     "execution_count": 413,
     "metadata": {},
     "output_type": "execute_result"
    }
   ],
   "source": [
    "archivo = pd.read_csv('archivo.csv')\n",
    "archivo.dropna(inplace=True)\n",
    "archivo.head(5)"
   ]
  },
  {
   "cell_type": "markdown",
   "metadata": {},
   "source": [
    "**OBSERVACIÓN IMPORTANTE**\n"
   ]
  },
  {
   "cell_type": "markdown",
   "metadata": {},
   "source": [
    "OBS1: **New York** es nombre tanto de ciudad como de estado. Los registros que se correspondan con este string serán considerados que pertenecen a la ciudad de Nueva York y seran considerados tambien cuando se haga referencia a dicho estado."
   ]
  },
  {
   "cell_type": "code",
   "execution_count": 414,
   "metadata": {},
   "outputs": [
    {
     "data": {
      "text/plain": [
       "New York    1\n",
       "Name: City, dtype: int64"
      ]
     },
     "execution_count": 414,
     "metadata": {},
     "output_type": "execute_result"
    }
   ],
   "source": [
    "def detectar_iguales(ciudad):\n",
    "    estados=archivo['State'].drop_duplicates().tolist()\n",
    "    if str(ciudad) in estados:\n",
    "        return ciudad\n",
    "    return None\n",
    "\n",
    "archivo['City'].transform(detectar_iguales).value_counts()\n"
   ]
  },
  {
   "cell_type": "markdown",
   "metadata": {},
   "source": [
    "### Paso 1: Detectar ciudad"
   ]
  },
  {
   "cell_type": "markdown",
   "metadata": {},
   "source": [
    "En primer lugar vamos detectar todos aquellos registros cuya ubicación contenga el nombre de alguna ciudad de Estados Unidos. Con este objetivo se define la siguiente función:"
   ]
  },
  {
   "cell_type": "code",
   "execution_count": 415,
   "metadata": {},
   "outputs": [],
   "source": [
    "def detectar_ciudades(x):\n",
    "    cities = archivo['City'].tolist()\n",
    "    for city in cities:\n",
    "        if city.upper() in str(x).upper():\n",
    "            return city\n",
    "    return \"-\""
   ]
  },
  {
   "cell_type": "code",
   "execution_count": 416,
   "metadata": {},
   "outputs": [],
   "source": [
    "resultado = tweets[tweets['located']==\"-\"]['location'].transform(detectar_ciudades)\n",
    "for indice in resultado.index.tolist():\n",
    "    detection= resultado.loc[indice]\n",
    "    if detection!='-':\n",
    "        tweets.loc[indice,'located']= detection\n",
    "        tweets.loc[indice,'location_type']='C'"
   ]
  },
  {
   "cell_type": "code",
   "execution_count": 417,
   "metadata": {},
   "outputs": [
    {
     "data": {
      "text/plain": [
       "-    3987\n",
       "C    1093\n",
       "Name: location_type, dtype: int64"
      ]
     },
     "execution_count": 417,
     "metadata": {},
     "output_type": "execute_result"
    }
   ],
   "source": [
    "tweets['location_type'].value_counts()"
   ]
  },
  {
   "cell_type": "markdown",
   "metadata": {},
   "source": [
    "Hasta el momento tenemos detectada la procedencia de 1093 registros provenientes de Estados Unidos."
   ]
  },
  {
   "cell_type": "markdown",
   "metadata": {},
   "source": [
    "### Paso 2: Detectar Estados"
   ]
  },
  {
   "cell_type": "markdown",
   "metadata": {},
   "source": [
    "Vamos a investigar los registros que aún  fueron localizados. La intención es detectar todos aquellos registros cuya ubicación contenga un Estado de Estados Unidos."
   ]
  },
  {
   "cell_type": "markdown",
   "metadata": {},
   "source": [
    "Definamos una función que me permita detectar si un string coincide con el nombre de un estado de Estados Unidos.\n"
   ]
  },
  {
   "cell_type": "code",
   "execution_count": 418,
   "metadata": {},
   "outputs": [],
   "source": [
    "def detectar_estados(x):\n",
    "    \"\"\"indica si una cadena es exactamente igual al nombre de un estado de Estados Unidos\"\"\"\n",
    "    estados=archivo['State'].drop_duplicates().tolist()\n",
    "    \n",
    "    for estado in estados:\n",
    "        if estado.upper() in str(x).upper():\n",
    "            return estado\n",
    "    return \"-\""
   ]
  },
  {
   "cell_type": "code",
   "execution_count": 419,
   "metadata": {},
   "outputs": [],
   "source": [
    "resultado = tweets[tweets['located']=='-']['location'].transform(detectar_estados)\n",
    "for indice in resultado.index.tolist():\n",
    "    detection= resultado.loc[indice]\n",
    "    if detection!='-':\n",
    "        tweets.loc[indice,'located']= detection\n",
    "        tweets.loc[indice,'location_type']='E'"
   ]
  },
  {
   "cell_type": "code",
   "execution_count": 420,
   "metadata": {},
   "outputs": [
    {
     "data": {
      "text/plain": [
       "-    3527\n",
       "C    1093\n",
       "E     460\n",
       "Name: location_type, dtype: int64"
      ]
     },
     "execution_count": 420,
     "metadata": {},
     "output_type": "execute_result"
    }
   ],
   "source": [
    "tweets['location_type'].value_counts()"
   ]
  },
  {
   "cell_type": "markdown",
   "metadata": {},
   "source": [
    "Hasta el momento se han localizado 1553 registros"
   ]
  },
  {
   "cell_type": "markdown",
   "metadata": {},
   "source": [
    "### Paso 3: Detectar país"
   ]
  },
  {
   "cell_type": "markdown",
   "metadata": {},
   "source": [
    "Solo nos queda detectar todos aquellos registros que contienen explicitamente el nombre del pais en Estados Unidos en\n",
    "cualquiera de sus variantes"
   ]
  },
  {
   "cell_type": "markdown",
   "metadata": {},
   "source": [
    "Se crea entonces una función que será la encargada de hacer las comparaciones:"
   ]
  },
  {
   "cell_type": "code",
   "execution_count": 421,
   "metadata": {},
   "outputs": [],
   "source": [
    "def reconocer_United_States(x):\n",
    "    \"Indica si una cadena contiene la palabra estados unidos en alguna de sus variantes\"\n",
    "    posibilidades=['UNITED STATES','USA','US','U.S.A','EE.UU.','EEUU','EE UU','ESTADOS UNIDOS','840']\n",
    "    for posibilidad in posibilidades:\n",
    "        if posibilidad.upper() == str(x).upper():\n",
    "            return 'United States'\n",
    "    return \"-\""
   ]
  },
  {
   "cell_type": "code",
   "execution_count": 422,
   "metadata": {},
   "outputs": [],
   "source": [
    "resultado=tweets[tweets['located']=='-']['location'].transform(reconocer_United_States)\n",
    "for indice in resultado.index.tolist():\n",
    "    detection= resultado.loc[indice]\n",
    "    if detection!='-':\n",
    "        tweets.loc[indice,'located']= detection\n",
    "        tweets.loc[indice,'location_type']='P'"
   ]
  },
  {
   "cell_type": "code",
   "execution_count": 423,
   "metadata": {},
   "outputs": [
    {
     "data": {
      "text/plain": [
       "-    3358\n",
       "C    1093\n",
       "E     460\n",
       "P     169\n",
       "Name: location_type, dtype: int64"
      ]
     },
     "execution_count": 423,
     "metadata": {},
     "output_type": "execute_result"
    }
   ],
   "source": [
    "tweets['location_type'].value_counts()"
   ]
  },
  {
   "cell_type": "markdown",
   "metadata": {},
   "source": [
    "Se detectaron 169 registros contienen como ubicación alguna referencia a Estados Unidos.\n",
    "Total detectados: 1722\n"
   ]
  },
  {
   "cell_type": "markdown",
   "metadata": {},
   "source": [
    "### Paso 4: agregamos algunos manualmente"
   ]
  },
  {
   "cell_type": "markdown",
   "metadata": {},
   "source": [
    "Se revisan algunos casos particulares"
   ]
  },
  {
   "cell_type": "markdown",
   "metadata": {},
   "source": [
    "Se observa  algunos registros que no fueron detectados, podemos agregarlos a mano"
   ]
  },
  {
   "cell_type": "code",
   "execution_count": 424,
   "metadata": {},
   "outputs": [],
   "source": [
    "lista1=['NYC','NY','Brooklyn, NY']\n",
    "indices= tweets[tweets['location'].isin(lista1)].index.tolist()\n",
    "for indice in indices:\n",
    "    tweets.loc[indice,'located']='New York'\n",
    "    tweets.loc[indice,'location_type']='C'\n",
    "indices=tweets[tweets['location']==\"Haddonfield, NJ\"].index.tolist()\n",
    "for indice in indices:\n",
    "    tweets.loc[indice,'located']='New Jersey'\n",
    "    tweets.loc[indice,'location_type']='E'"
   ]
  },
  {
   "cell_type": "code",
   "execution_count": 425,
   "metadata": {},
   "outputs": [
    {
     "data": {
      "text/plain": [
       "-    3331\n",
       "C    1116\n",
       "E     464\n",
       "P     169\n",
       "Name: location_type, dtype: int64"
      ]
     },
     "execution_count": 425,
     "metadata": {},
     "output_type": "execute_result"
    }
   ],
   "source": [
    "tweets['location_type'].value_counts()"
   ]
  },
  {
   "cell_type": "markdown",
   "metadata": {},
   "source": [
    "**RESULTADO FINAL: 1749 REGISTROS LOCALIZADOS**"
   ]
  },
  {
   "cell_type": "markdown",
   "metadata": {},
   "source": [
    "Luego de limpiar los datos, hechemos un vistazo a como quedó el set de datos con el que estaremos trabajando en nuestro\n",
    "análisis exploratorio"
   ]
  },
  {
   "cell_type": "code",
   "execution_count": 426,
   "metadata": {},
   "outputs": [
    {
     "data": {
      "text/html": [
       "<div>\n",
       "<style scoped>\n",
       "    .dataframe tbody tr th:only-of-type {\n",
       "        vertical-align: middle;\n",
       "    }\n",
       "\n",
       "    .dataframe tbody tr th {\n",
       "        vertical-align: top;\n",
       "    }\n",
       "\n",
       "    .dataframe thead th {\n",
       "        text-align: right;\n",
       "    }\n",
       "</style>\n",
       "<table border=\"1\" class=\"dataframe\">\n",
       "  <thead>\n",
       "    <tr style=\"text-align: right;\">\n",
       "      <th></th>\n",
       "      <th>id</th>\n",
       "      <th>keyword</th>\n",
       "      <th>location</th>\n",
       "      <th>text</th>\n",
       "      <th>target</th>\n",
       "      <th>located</th>\n",
       "      <th>location_type</th>\n",
       "    </tr>\n",
       "  </thead>\n",
       "  <tbody>\n",
       "    <tr>\n",
       "      <th>31</th>\n",
       "      <td>48</td>\n",
       "      <td>ablaze</td>\n",
       "      <td>Birmingham</td>\n",
       "      <td>@bbcmtd Wholesale Markets ablaze http://t.co/l...</td>\n",
       "      <td>1</td>\n",
       "      <td>Birmingham</td>\n",
       "      <td>C</td>\n",
       "    </tr>\n",
       "    <tr>\n",
       "      <th>34</th>\n",
       "      <td>52</td>\n",
       "      <td>ablaze</td>\n",
       "      <td>Philadelphia, PA</td>\n",
       "      <td>Crying out for more! Set me ablaze</td>\n",
       "      <td>0</td>\n",
       "      <td>Philadelphia</td>\n",
       "      <td>C</td>\n",
       "    </tr>\n",
       "    <tr>\n",
       "      <th>46</th>\n",
       "      <td>66</td>\n",
       "      <td>ablaze</td>\n",
       "      <td>GREENSBORO,NORTH CAROLINA</td>\n",
       "      <td>How the West was burned: Thousands of wildfire...</td>\n",
       "      <td>1</td>\n",
       "      <td>Greensboro</td>\n",
       "      <td>C</td>\n",
       "    </tr>\n",
       "    <tr>\n",
       "      <th>50</th>\n",
       "      <td>73</td>\n",
       "      <td>ablaze</td>\n",
       "      <td>Sheffield Township, Ohio</td>\n",
       "      <td>Deputies: Man shot before Brighton home set ab...</td>\n",
       "      <td>1</td>\n",
       "      <td>Ohio</td>\n",
       "      <td>E</td>\n",
       "    </tr>\n",
       "    <tr>\n",
       "      <th>53</th>\n",
       "      <td>77</td>\n",
       "      <td>ablaze</td>\n",
       "      <td>Anaheim</td>\n",
       "      <td>Police: Arsonist Deliberately Set Black Church...</td>\n",
       "      <td>1</td>\n",
       "      <td>Anaheim</td>\n",
       "      <td>C</td>\n",
       "    </tr>\n",
       "    <tr>\n",
       "      <th>...</th>\n",
       "      <td>...</td>\n",
       "      <td>...</td>\n",
       "      <td>...</td>\n",
       "      <td>...</td>\n",
       "      <td>...</td>\n",
       "      <td>...</td>\n",
       "      <td>...</td>\n",
       "    </tr>\n",
       "    <tr>\n",
       "      <th>7566</th>\n",
       "      <td>10815</td>\n",
       "      <td>wrecked</td>\n",
       "      <td>United States</td>\n",
       "      <td>http://t.co/qVx0VQTPz0 Cramer: Iger's 3 words ...</td>\n",
       "      <td>0</td>\n",
       "      <td>United States</td>\n",
       "      <td>P</td>\n",
       "    </tr>\n",
       "    <tr>\n",
       "      <th>7570</th>\n",
       "      <td>10821</td>\n",
       "      <td>wrecked</td>\n",
       "      <td>California</td>\n",
       "      <td>Cramer: Iger's 3 words that wrecked Disney's s...</td>\n",
       "      <td>0</td>\n",
       "      <td>California</td>\n",
       "      <td>E</td>\n",
       "    </tr>\n",
       "    <tr>\n",
       "      <th>7573</th>\n",
       "      <td>10824</td>\n",
       "      <td>wrecked</td>\n",
       "      <td>Denton, Texas</td>\n",
       "      <td>Had an awesome time gettin wrecked at bowling ...</td>\n",
       "      <td>0</td>\n",
       "      <td>Denton</td>\n",
       "      <td>C</td>\n",
       "    </tr>\n",
       "    <tr>\n",
       "      <th>7579</th>\n",
       "      <td>10831</td>\n",
       "      <td>wrecked</td>\n",
       "      <td>Vancouver, Canada</td>\n",
       "      <td>Three days off from work and they've pretty mu...</td>\n",
       "      <td>0</td>\n",
       "      <td>Vancouver</td>\n",
       "      <td>C</td>\n",
       "    </tr>\n",
       "    <tr>\n",
       "      <th>7581</th>\n",
       "      <td>10833</td>\n",
       "      <td>wrecked</td>\n",
       "      <td>Lincoln</td>\n",
       "      <td>@engineshed Great atmosphere at the British Li...</td>\n",
       "      <td>0</td>\n",
       "      <td>Lincoln</td>\n",
       "      <td>C</td>\n",
       "    </tr>\n",
       "  </tbody>\n",
       "</table>\n",
       "<p>1749 rows × 7 columns</p>\n",
       "</div>"
      ],
      "text/plain": [
       "         id  keyword                   location  \\\n",
       "31       48   ablaze                 Birmingham   \n",
       "34       52   ablaze           Philadelphia, PA   \n",
       "46       66   ablaze  GREENSBORO,NORTH CAROLINA   \n",
       "50       73   ablaze   Sheffield Township, Ohio   \n",
       "53       77   ablaze                    Anaheim   \n",
       "...     ...      ...                        ...   \n",
       "7566  10815  wrecked              United States   \n",
       "7570  10821  wrecked                 California   \n",
       "7573  10824  wrecked              Denton, Texas   \n",
       "7579  10831  wrecked          Vancouver, Canada   \n",
       "7581  10833  wrecked                    Lincoln   \n",
       "\n",
       "                                                   text  target  \\\n",
       "31    @bbcmtd Wholesale Markets ablaze http://t.co/l...       1   \n",
       "34                   Crying out for more! Set me ablaze       0   \n",
       "46    How the West was burned: Thousands of wildfire...       1   \n",
       "50    Deputies: Man shot before Brighton home set ab...       1   \n",
       "53    Police: Arsonist Deliberately Set Black Church...       1   \n",
       "...                                                 ...     ...   \n",
       "7566  http://t.co/qVx0VQTPz0 Cramer: Iger's 3 words ...       0   \n",
       "7570  Cramer: Iger's 3 words that wrecked Disney's s...       0   \n",
       "7573  Had an awesome time gettin wrecked at bowling ...       0   \n",
       "7579  Three days off from work and they've pretty mu...       0   \n",
       "7581  @engineshed Great atmosphere at the British Li...       0   \n",
       "\n",
       "            located location_type  \n",
       "31       Birmingham             C  \n",
       "34     Philadelphia             C  \n",
       "46       Greensboro             C  \n",
       "50             Ohio             E  \n",
       "53          Anaheim             C  \n",
       "...             ...           ...  \n",
       "7566  United States             P  \n",
       "7570     California             E  \n",
       "7573         Denton             C  \n",
       "7579      Vancouver             C  \n",
       "7581        Lincoln             C  \n",
       "\n",
       "[1749 rows x 7 columns]"
      ]
     },
     "execution_count": 426,
     "metadata": {},
     "output_type": "execute_result"
    }
   ],
   "source": [
    "datos=tweets[tweets['location_type']!=\"-\"].copy()\n",
    "datos"
   ]
  },
  {
   "cell_type": "markdown",
   "metadata": {},
   "source": [
    "## Análisis exploratorio"
   ]
  },
  {
   "cell_type": "markdown",
   "metadata": {},
   "source": [
    "Ya limpio nuestro set de datos iniciaremos un análisis sobre la veracidad de los tweets sobre desastres emitidos desde Estados Unidos. La idea es analizar la veracidad de los tweet a nivel país e intentar identificar fuentes de tweets falsos dentro del territorio estadounidense. Por otra parte se intentará descifrar si hay alguna relación entre la longitud de los tweet y su contenido con la veracidad o la falsedad de los mismos. Dividiremos el análisis en varias categorías. Para cada una de ellas se irá desde un análisis más global en el que se observará el comportamiento a nivel país hasa llegar a analizar algunos estados y ciudades cuya información llame la atención a la hora de hacer el análisis"
   ]
  },
  {
   "cell_type": "markdown",
   "metadata": {},
   "source": [
    "### CANTIDAD"
   ]
  },
  {
   "cell_type": "markdown",
   "metadata": {},
   "source": [
    "**Nivel pais**"
   ]
  },
  {
   "cell_type": "markdown",
   "metadata": {},
   "source": [
    "Veamos a nivel país si tenemos más tweets falsos o más tweets verdaderos. Recordemos que para cada registro la columna target puede contener unicamente dos valores:\n",
    "**0: tweet falso** o **1:tweet verdadero**"
   ]
  },
  {
   "cell_type": "code",
   "execution_count": 427,
   "metadata": {},
   "outputs": [
    {
     "name": "stdout",
     "output_type": "stream",
     "text": [
      "tweets totales: 1749\n"
     ]
    },
    {
     "data": {
      "text/plain": [
       "0    962\n",
       "1    787\n",
       "Name: target, dtype: int64"
      ]
     },
     "execution_count": 427,
     "metadata": {},
     "output_type": "execute_result"
    }
   ],
   "source": [
    "resultado = datos['target'].value_counts()\n",
    "print(\"tweets totales: \" + str(len(datos)))\n",
    "resultado"
   ]
  },
  {
   "cell_type": "code",
   "execution_count": 428,
   "metadata": {},
   "outputs": [
    {
     "data": {
      "image/png": "[encoded data removed]",
      "text/plain": [
       "<Figure size 432x288 with 1 Axes>"
      ]
     },
     "metadata": {},
     "output_type": "display_data"
    }
   ],
   "source": [
    "colores = ['red','lime']\n",
    "plt.title('Veracidad de tweets emitidos en Estados Unidos',fontsize=16,fontweight='bold')\n",
    "plt.pie(resultado, labels=['tweets falsos','tweets verdaderos'],autopct=\"%0.1f %%\",colors = colores,)\n",
    "plt.show()"
   ]
  },
  {
   "cell_type": "markdown",
   "metadata": {},
   "source": [
    "Si bien se observa una mayor cantidad de tweets falsos, la diferencia  es tan solo de un 5%."
   ]
  },
  {
   "cell_type": "markdown",
   "metadata": {},
   "source": [
    "**Nivel Estados**"
   ]
  },
  {
   "cell_type": "markdown",
   "metadata": {},
   "source": [
    "Pasemos ahora a analizar la veracidad de los tweets por estados. Veamos si encontramos algún estado en donde o bien la diferencia porcentual eneocntrada a nivel país se agrende o bien se invierta la tendencia y detectemos que la cantidad de tweets verdaderos supera a los falsos. "
   ]
  },
  {
   "cell_type": "markdown",
   "metadata": {},
   "source": [
    "Seleccionemos aquellos tweets para los que tenemos información sobre su estado "
   ]
  },
  {
   "cell_type": "code",
   "execution_count": 429,
   "metadata": {},
   "outputs": [
    {
     "data": {
      "text/html": [
       "<div>\n",
       "<style scoped>\n",
       "    .dataframe tbody tr th:only-of-type {\n",
       "        vertical-align: middle;\n",
       "    }\n",
       "\n",
       "    .dataframe tbody tr th {\n",
       "        vertical-align: top;\n",
       "    }\n",
       "\n",
       "    .dataframe thead th {\n",
       "        text-align: right;\n",
       "    }\n",
       "</style>\n",
       "<table border=\"1\" class=\"dataframe\">\n",
       "  <thead>\n",
       "    <tr style=\"text-align: right;\">\n",
       "      <th></th>\n",
       "      <th>id</th>\n",
       "      <th>keyword</th>\n",
       "      <th>location</th>\n",
       "      <th>text</th>\n",
       "      <th>target</th>\n",
       "      <th>State</th>\n",
       "      <th>location_type</th>\n",
       "    </tr>\n",
       "  </thead>\n",
       "  <tbody>\n",
       "    <tr>\n",
       "      <th>50</th>\n",
       "      <td>73</td>\n",
       "      <td>ablaze</td>\n",
       "      <td>Sheffield Township, Ohio</td>\n",
       "      <td>Deputies: Man shot before Brighton home set ab...</td>\n",
       "      <td>1</td>\n",
       "      <td>Ohio</td>\n",
       "      <td>E</td>\n",
       "    </tr>\n",
       "    <tr>\n",
       "      <th>72</th>\n",
       "      <td>104</td>\n",
       "      <td>accident</td>\n",
       "      <td>Walker County, Alabama</td>\n",
       "      <td>Reported motor vehicle accident in Curry on He...</td>\n",
       "      <td>1</td>\n",
       "      <td>Alabama</td>\n",
       "      <td>E</td>\n",
       "    </tr>\n",
       "    <tr>\n",
       "      <th>74</th>\n",
       "      <td>107</td>\n",
       "      <td>accident</td>\n",
       "      <td>North Carolina</td>\n",
       "      <td>I-77 Mile Marker 31 South Mooresville  Iredell...</td>\n",
       "      <td>1</td>\n",
       "      <td>North Carolina</td>\n",
       "      <td>E</td>\n",
       "    </tr>\n",
       "    <tr>\n",
       "      <th>78</th>\n",
       "      <td>113</td>\n",
       "      <td>accident</td>\n",
       "      <td>North Carolina</td>\n",
       "      <td>I-77 Mile Marker 31 to 40 South Mooresville  I...</td>\n",
       "      <td>1</td>\n",
       "      <td>North Carolina</td>\n",
       "      <td>E</td>\n",
       "    </tr>\n",
       "    <tr>\n",
       "      <th>94</th>\n",
       "      <td>136</td>\n",
       "      <td>accident</td>\n",
       "      <td>Alberta | Sask. | Montana</td>\n",
       "      <td>Suffield Alberta Accident https://t.co/bPTmlF4P10</td>\n",
       "      <td>1</td>\n",
       "      <td>Montana</td>\n",
       "      <td>E</td>\n",
       "    </tr>\n",
       "  </tbody>\n",
       "</table>\n",
       "</div>"
      ],
      "text/plain": [
       "     id   keyword                   location  \\\n",
       "50   73    ablaze   Sheffield Township, Ohio   \n",
       "72  104  accident     Walker County, Alabama   \n",
       "74  107  accident             North Carolina   \n",
       "78  113  accident             North Carolina   \n",
       "94  136  accident  Alberta | Sask. | Montana   \n",
       "\n",
       "                                                 text  target           State  \\\n",
       "50  Deputies: Man shot before Brighton home set ab...       1            Ohio   \n",
       "72  Reported motor vehicle accident in Curry on He...       1         Alabama   \n",
       "74  I-77 Mile Marker 31 South Mooresville  Iredell...       1  North Carolina   \n",
       "78  I-77 Mile Marker 31 to 40 South Mooresville  I...       1  North Carolina   \n",
       "94  Suffield Alberta Accident https://t.co/bPTmlF4P10       1         Montana   \n",
       "\n",
       "   location_type  \n",
       "50             E  \n",
       "72             E  \n",
       "74             E  \n",
       "78             E  \n",
       "94             E  "
      ]
     },
     "execution_count": 429,
     "metadata": {},
     "output_type": "execute_result"
    }
   ],
   "source": [
    "seleccion1= tweets[tweets['location_type']=='E']\n",
    "seleccion1=seleccion1.rename(columns={'located':'State'})\n",
    "seleccion1.head(5)"
   ]
  },
  {
   "cell_type": "markdown",
   "metadata": {},
   "source": [
    "Seleccionemos ahora aquellos tweets para los que conocemos su ciudad pero a priori no su estado y obtengamos el estado desde el archivo que utilizamos anteriormente"
   ]
  },
  {
   "cell_type": "code",
   "execution_count": 430,
   "metadata": {},
   "outputs": [
    {
     "data": {
      "text/html": [
       "<div>\n",
       "<style scoped>\n",
       "    .dataframe tbody tr th:only-of-type {\n",
       "        vertical-align: middle;\n",
       "    }\n",
       "\n",
       "    .dataframe tbody tr th {\n",
       "        vertical-align: top;\n",
       "    }\n",
       "\n",
       "    .dataframe thead th {\n",
       "        text-align: right;\n",
       "    }\n",
       "</style>\n",
       "<table border=\"1\" class=\"dataframe\">\n",
       "  <thead>\n",
       "    <tr style=\"text-align: right;\">\n",
       "      <th></th>\n",
       "      <th>id</th>\n",
       "      <th>keyword</th>\n",
       "      <th>location</th>\n",
       "      <th>text</th>\n",
       "      <th>target</th>\n",
       "      <th>State</th>\n",
       "      <th>location_type</th>\n",
       "      <th>City</th>\n",
       "    </tr>\n",
       "  </thead>\n",
       "  <tbody>\n",
       "    <tr>\n",
       "      <th>0</th>\n",
       "      <td>48</td>\n",
       "      <td>ablaze</td>\n",
       "      <td>Birmingham</td>\n",
       "      <td>@bbcmtd Wholesale Markets ablaze http://t.co/l...</td>\n",
       "      <td>1</td>\n",
       "      <td>Alabama</td>\n",
       "      <td>C</td>\n",
       "      <td>Birmingham</td>\n",
       "    </tr>\n",
       "    <tr>\n",
       "      <th>1</th>\n",
       "      <td>52</td>\n",
       "      <td>ablaze</td>\n",
       "      <td>Philadelphia, PA</td>\n",
       "      <td>Crying out for more! Set me ablaze</td>\n",
       "      <td>0</td>\n",
       "      <td>Pennsylvania</td>\n",
       "      <td>C</td>\n",
       "      <td>Philadelphia</td>\n",
       "    </tr>\n",
       "    <tr>\n",
       "      <th>2</th>\n",
       "      <td>66</td>\n",
       "      <td>ablaze</td>\n",
       "      <td>GREENSBORO,NORTH CAROLINA</td>\n",
       "      <td>How the West was burned: Thousands of wildfire...</td>\n",
       "      <td>1</td>\n",
       "      <td>North Carolina</td>\n",
       "      <td>C</td>\n",
       "      <td>Greensboro</td>\n",
       "    </tr>\n",
       "    <tr>\n",
       "      <th>3</th>\n",
       "      <td>77</td>\n",
       "      <td>ablaze</td>\n",
       "      <td>Anaheim</td>\n",
       "      <td>Police: Arsonist Deliberately Set Black Church...</td>\n",
       "      <td>1</td>\n",
       "      <td>California</td>\n",
       "      <td>C</td>\n",
       "      <td>Anaheim</td>\n",
       "    </tr>\n",
       "    <tr>\n",
       "      <th>4</th>\n",
       "      <td>82</td>\n",
       "      <td>ablaze</td>\n",
       "      <td>hollywoodland</td>\n",
       "      <td>They sky was ablaze tonight in Los Angeles. I'...</td>\n",
       "      <td>0</td>\n",
       "      <td>Florida</td>\n",
       "      <td>C</td>\n",
       "      <td>Hollywood</td>\n",
       "    </tr>\n",
       "  </tbody>\n",
       "</table>\n",
       "</div>"
      ],
      "text/plain": [
       "   id keyword                   location  \\\n",
       "0  48  ablaze                 Birmingham   \n",
       "1  52  ablaze           Philadelphia, PA   \n",
       "2  66  ablaze  GREENSBORO,NORTH CAROLINA   \n",
       "3  77  ablaze                    Anaheim   \n",
       "4  82  ablaze             hollywoodland    \n",
       "\n",
       "                                                text  target           State  \\\n",
       "0  @bbcmtd Wholesale Markets ablaze http://t.co/l...       1         Alabama   \n",
       "1                 Crying out for more! Set me ablaze       0    Pennsylvania   \n",
       "2  How the West was burned: Thousands of wildfire...       1  North Carolina   \n",
       "3  Police: Arsonist Deliberately Set Black Church...       1      California   \n",
       "4  They sky was ablaze tonight in Los Angeles. I'...       0         Florida   \n",
       "\n",
       "  location_type          City  \n",
       "0             C    Birmingham  \n",
       "1             C  Philadelphia  \n",
       "2             C    Greensboro  \n",
       "3             C       Anaheim  \n",
       "4             C     Hollywood  "
      ]
     },
     "execution_count": 430,
     "metadata": {},
     "output_type": "execute_result"
    }
   ],
   "source": [
    "seleccion2=tweets[tweets['location_type']=='C'].merge(archivo,left_on='located',right_on='City',how='left')\n",
    "seleccion2['located']=seleccion2['State']\n",
    "seleccion2=seleccion2.drop(columns=['State'])\n",
    "seleccion2=seleccion2.rename(columns={'located':'State'})\n",
    "seleccion2.head(5)"
   ]
  },
  {
   "cell_type": "markdown",
   "metadata": {},
   "source": [
    "Combinanado ambas selecciones en una unica tabla"
   ]
  },
  {
   "cell_type": "code",
   "execution_count": 431,
   "metadata": {},
   "outputs": [
    {
     "data": {
      "text/html": [
       "<div>\n",
       "<style scoped>\n",
       "    .dataframe tbody tr th:only-of-type {\n",
       "        vertical-align: middle;\n",
       "    }\n",
       "\n",
       "    .dataframe tbody tr th {\n",
       "        vertical-align: top;\n",
       "    }\n",
       "\n",
       "    .dataframe thead th {\n",
       "        text-align: right;\n",
       "    }\n",
       "</style>\n",
       "<table border=\"1\" class=\"dataframe\">\n",
       "  <thead>\n",
       "    <tr style=\"text-align: right;\">\n",
       "      <th></th>\n",
       "      <th>id</th>\n",
       "      <th>keyword</th>\n",
       "      <th>location</th>\n",
       "      <th>text</th>\n",
       "      <th>target</th>\n",
       "      <th>State</th>\n",
       "      <th>location_type</th>\n",
       "      <th>City</th>\n",
       "    </tr>\n",
       "  </thead>\n",
       "  <tbody>\n",
       "    <tr>\n",
       "      <th>50</th>\n",
       "      <td>73</td>\n",
       "      <td>ablaze</td>\n",
       "      <td>Sheffield Township, Ohio</td>\n",
       "      <td>Deputies: Man shot before Brighton home set ab...</td>\n",
       "      <td>1</td>\n",
       "      <td>Ohio</td>\n",
       "      <td>E</td>\n",
       "      <td>NaN</td>\n",
       "    </tr>\n",
       "    <tr>\n",
       "      <th>72</th>\n",
       "      <td>104</td>\n",
       "      <td>accident</td>\n",
       "      <td>Walker County, Alabama</td>\n",
       "      <td>Reported motor vehicle accident in Curry on He...</td>\n",
       "      <td>1</td>\n",
       "      <td>Alabama</td>\n",
       "      <td>E</td>\n",
       "      <td>NaN</td>\n",
       "    </tr>\n",
       "    <tr>\n",
       "      <th>74</th>\n",
       "      <td>107</td>\n",
       "      <td>accident</td>\n",
       "      <td>North Carolina</td>\n",
       "      <td>I-77 Mile Marker 31 South Mooresville  Iredell...</td>\n",
       "      <td>1</td>\n",
       "      <td>North Carolina</td>\n",
       "      <td>E</td>\n",
       "      <td>NaN</td>\n",
       "    </tr>\n",
       "    <tr>\n",
       "      <th>78</th>\n",
       "      <td>113</td>\n",
       "      <td>accident</td>\n",
       "      <td>North Carolina</td>\n",
       "      <td>I-77 Mile Marker 31 to 40 South Mooresville  I...</td>\n",
       "      <td>1</td>\n",
       "      <td>North Carolina</td>\n",
       "      <td>E</td>\n",
       "      <td>NaN</td>\n",
       "    </tr>\n",
       "    <tr>\n",
       "      <th>94</th>\n",
       "      <td>136</td>\n",
       "      <td>accident</td>\n",
       "      <td>Alberta | Sask. | Montana</td>\n",
       "      <td>Suffield Alberta Accident https://t.co/bPTmlF4P10</td>\n",
       "      <td>1</td>\n",
       "      <td>Montana</td>\n",
       "      <td>E</td>\n",
       "      <td>NaN</td>\n",
       "    </tr>\n",
       "    <tr>\n",
       "      <th>...</th>\n",
       "      <td>...</td>\n",
       "      <td>...</td>\n",
       "      <td>...</td>\n",
       "      <td>...</td>\n",
       "      <td>...</td>\n",
       "      <td>...</td>\n",
       "      <td>...</td>\n",
       "      <td>...</td>\n",
       "    </tr>\n",
       "    <tr>\n",
       "      <th>1111</th>\n",
       "      <td>10785</td>\n",
       "      <td>wrecked</td>\n",
       "      <td>Brooklyn, NY</td>\n",
       "      <td>Wrecked an hour on YouTube with @julian_lage @...</td>\n",
       "      <td>0</td>\n",
       "      <td>New York</td>\n",
       "      <td>C</td>\n",
       "      <td>New York</td>\n",
       "    </tr>\n",
       "    <tr>\n",
       "      <th>1112</th>\n",
       "      <td>10800</td>\n",
       "      <td>wrecked</td>\n",
       "      <td>Milwaukee County</td>\n",
       "      <td>http://t.co/DeQQOpSP4f: Iger's 3 words that wr...</td>\n",
       "      <td>0</td>\n",
       "      <td>Wisconsin</td>\n",
       "      <td>C</td>\n",
       "      <td>Milwaukee</td>\n",
       "    </tr>\n",
       "    <tr>\n",
       "      <th>1113</th>\n",
       "      <td>10824</td>\n",
       "      <td>wrecked</td>\n",
       "      <td>Denton, Texas</td>\n",
       "      <td>Had an awesome time gettin wrecked at bowling ...</td>\n",
       "      <td>0</td>\n",
       "      <td>Texas</td>\n",
       "      <td>C</td>\n",
       "      <td>Denton</td>\n",
       "    </tr>\n",
       "    <tr>\n",
       "      <th>1114</th>\n",
       "      <td>10831</td>\n",
       "      <td>wrecked</td>\n",
       "      <td>Vancouver, Canada</td>\n",
       "      <td>Three days off from work and they've pretty mu...</td>\n",
       "      <td>0</td>\n",
       "      <td>Washington</td>\n",
       "      <td>C</td>\n",
       "      <td>Vancouver</td>\n",
       "    </tr>\n",
       "    <tr>\n",
       "      <th>1115</th>\n",
       "      <td>10833</td>\n",
       "      <td>wrecked</td>\n",
       "      <td>Lincoln</td>\n",
       "      <td>@engineshed Great atmosphere at the British Li...</td>\n",
       "      <td>0</td>\n",
       "      <td>Nebraska</td>\n",
       "      <td>C</td>\n",
       "      <td>Lincoln</td>\n",
       "    </tr>\n",
       "  </tbody>\n",
       "</table>\n",
       "<p>1580 rows × 8 columns</p>\n",
       "</div>"
      ],
      "text/plain": [
       "         id   keyword                   location  \\\n",
       "50       73    ablaze   Sheffield Township, Ohio   \n",
       "72      104  accident     Walker County, Alabama   \n",
       "74      107  accident             North Carolina   \n",
       "78      113  accident             North Carolina   \n",
       "94      136  accident  Alberta | Sask. | Montana   \n",
       "...     ...       ...                        ...   \n",
       "1111  10785   wrecked               Brooklyn, NY   \n",
       "1112  10800   wrecked           Milwaukee County   \n",
       "1113  10824   wrecked              Denton, Texas   \n",
       "1114  10831   wrecked          Vancouver, Canada   \n",
       "1115  10833   wrecked                    Lincoln   \n",
       "\n",
       "                                                   text  target  \\\n",
       "50    Deputies: Man shot before Brighton home set ab...       1   \n",
       "72    Reported motor vehicle accident in Curry on He...       1   \n",
       "74    I-77 Mile Marker 31 South Mooresville  Iredell...       1   \n",
       "78    I-77 Mile Marker 31 to 40 South Mooresville  I...       1   \n",
       "94    Suffield Alberta Accident https://t.co/bPTmlF4P10       1   \n",
       "...                                                 ...     ...   \n",
       "1111  Wrecked an hour on YouTube with @julian_lage @...       0   \n",
       "1112  http://t.co/DeQQOpSP4f: Iger's 3 words that wr...       0   \n",
       "1113  Had an awesome time gettin wrecked at bowling ...       0   \n",
       "1114  Three days off from work and they've pretty mu...       0   \n",
       "1115  @engineshed Great atmosphere at the British Li...       0   \n",
       "\n",
       "               State location_type       City  \n",
       "50              Ohio             E        NaN  \n",
       "72           Alabama             E        NaN  \n",
       "74    North Carolina             E        NaN  \n",
       "78    North Carolina             E        NaN  \n",
       "94           Montana             E        NaN  \n",
       "...              ...           ...        ...  \n",
       "1111        New York             C   New York  \n",
       "1112       Wisconsin             C  Milwaukee  \n",
       "1113           Texas             C     Denton  \n",
       "1114      Washington             C  Vancouver  \n",
       "1115        Nebraska             C    Lincoln  \n",
       "\n",
       "[1580 rows x 8 columns]"
      ]
     },
     "execution_count": 431,
     "metadata": {},
     "output_type": "execute_result"
    }
   ],
   "source": [
    "seleccionados=pd.concat([seleccion1,seleccion2])\n",
    "seleccionados"
   ]
  },
  {
   "cell_type": "markdown",
   "metadata": {},
   "source": [
    "Calculamos la cantidad de tweets falsos y verdaderos por estado"
   ]
  },
  {
   "cell_type": "code",
   "execution_count": 527,
   "metadata": {},
   "outputs": [
    {
     "data": {
      "text/html": [
       "<div>\n",
       "<style scoped>\n",
       "    .dataframe tbody tr th:only-of-type {\n",
       "        vertical-align: middle;\n",
       "    }\n",
       "\n",
       "    .dataframe tbody tr th {\n",
       "        vertical-align: top;\n",
       "    }\n",
       "\n",
       "    .dataframe thead th {\n",
       "        text-align: right;\n",
       "    }\n",
       "</style>\n",
       "<table border=\"1\" class=\"dataframe\">\n",
       "  <thead>\n",
       "    <tr style=\"text-align: right;\">\n",
       "      <th></th>\n",
       "      <th></th>\n",
       "      <th>cantidad</th>\n",
       "    </tr>\n",
       "    <tr>\n",
       "      <th>State</th>\n",
       "      <th>target</th>\n",
       "      <th></th>\n",
       "    </tr>\n",
       "  </thead>\n",
       "  <tbody>\n",
       "    <tr>\n",
       "      <th rowspan=\"2\" valign=\"top\">Alabama</th>\n",
       "      <th>1</th>\n",
       "      <td>17</td>\n",
       "    </tr>\n",
       "    <tr>\n",
       "      <th>0</th>\n",
       "      <td>10</td>\n",
       "    </tr>\n",
       "    <tr>\n",
       "      <th rowspan=\"2\" valign=\"top\">Alaska</th>\n",
       "      <th>1</th>\n",
       "      <td>4</td>\n",
       "    </tr>\n",
       "    <tr>\n",
       "      <th>0</th>\n",
       "      <td>3</td>\n",
       "    </tr>\n",
       "    <tr>\n",
       "      <th>Arizona</th>\n",
       "      <th>1</th>\n",
       "      <td>15</td>\n",
       "    </tr>\n",
       "  </tbody>\n",
       "</table>\n",
       "</div>"
      ],
      "text/plain": [
       "                cantidad\n",
       "State   target          \n",
       "Alabama 1             17\n",
       "        0             10\n",
       "Alaska  1              4\n",
       "        0              3\n",
       "Arizona 1             15"
      ]
     },
     "execution_count": 527,
     "metadata": {},
     "output_type": "execute_result"
    }
   ],
   "source": [
    "cantidades = seleccionados.groupby('State').agg({'target':'value_counts'})\n",
    "cantidades.columns =['cantidad']\n",
    "cantidades.head(5)\n",
    "#Ejemplo:"
   ]
  },
  {
   "cell_type": "markdown",
   "metadata": {},
   "source": [
    "Calculamos la diferencia entre la cantidad de tweets verdaderos y falsos (verdaderos - falsos). De esta forma en todos aquellos estados en donde haya más tweet verdaderos que verdaderos el resultado será negativo y será positivo en el caso contrario."
   ]
  },
  {
   "cell_type": "code",
   "execution_count": 528,
   "metadata": {},
   "outputs": [
    {
     "data": {
      "text/html": [
       "<div>\n",
       "<style scoped>\n",
       "    .dataframe tbody tr th:only-of-type {\n",
       "        vertical-align: middle;\n",
       "    }\n",
       "\n",
       "    .dataframe tbody tr th {\n",
       "        vertical-align: top;\n",
       "    }\n",
       "\n",
       "    .dataframe thead th {\n",
       "        text-align: right;\n",
       "    }\n",
       "</style>\n",
       "<table border=\"1\" class=\"dataframe\">\n",
       "  <thead>\n",
       "    <tr style=\"text-align: right;\">\n",
       "      <th></th>\n",
       "      <th>State</th>\n",
       "      <th>0</th>\n",
       "      <th>1</th>\n",
       "      <th>dif</th>\n",
       "    </tr>\n",
       "  </thead>\n",
       "  <tbody>\n",
       "    <tr>\n",
       "      <th>0</th>\n",
       "      <td>Alabama</td>\n",
       "      <td>10.0</td>\n",
       "      <td>17.0</td>\n",
       "      <td>7.0</td>\n",
       "    </tr>\n",
       "    <tr>\n",
       "      <th>1</th>\n",
       "      <td>Alaska</td>\n",
       "      <td>3.0</td>\n",
       "      <td>4.0</td>\n",
       "      <td>1.0</td>\n",
       "    </tr>\n",
       "    <tr>\n",
       "      <th>2</th>\n",
       "      <td>Arizona</td>\n",
       "      <td>10.0</td>\n",
       "      <td>15.0</td>\n",
       "      <td>5.0</td>\n",
       "    </tr>\n",
       "    <tr>\n",
       "      <th>3</th>\n",
       "      <td>Arkansas</td>\n",
       "      <td>1.0</td>\n",
       "      <td>0.0</td>\n",
       "      <td>-1.0</td>\n",
       "    </tr>\n",
       "    <tr>\n",
       "      <th>4</th>\n",
       "      <td>California</td>\n",
       "      <td>147.0</td>\n",
       "      <td>131.0</td>\n",
       "      <td>-16.0</td>\n",
       "    </tr>\n",
       "  </tbody>\n",
       "</table>\n",
       "</div>"
      ],
      "text/plain": [
       "        State      0      1   dif\n",
       "0     Alabama   10.0   17.0   7.0\n",
       "1      Alaska    3.0    4.0   1.0\n",
       "2     Arizona   10.0   15.0   5.0\n",
       "3    Arkansas    1.0    0.0  -1.0\n",
       "4  California  147.0  131.0 -16.0"
      ]
     },
     "execution_count": 528,
     "metadata": {},
     "output_type": "execute_result"
    }
   ],
   "source": [
    "diferencias= cantidades.unstack().reset_index()\n",
    "diferencias.columns=['State','0','1']\n",
    "diferencias.fillna(0,inplace=True)\n",
    "diferencias['dif']=diferencias['1']-diferencias['0']\n",
    "diferencias.head(5)\n",
    "#Ejemplo"
   ]
  },
  {
   "cell_type": "markdown",
   "metadata": {},
   "source": [
    "Hagamos ahora una visualización que nos permita apreciar los resultados obtenidos:"
   ]
  },
  {
   "cell_type": "markdown",
   "metadata": {},
   "source": [
    "Carguemos un archivo shapefile del que extraeremos información para poder realizar los gráficos."
   ]
  },
  {
   "cell_type": "code",
   "execution_count": 529,
   "metadata": {},
   "outputs": [
    {
     "data": {
      "text/html": [
       "<div>\n",
       "<style scoped>\n",
       "    .dataframe tbody tr th:only-of-type {\n",
       "        vertical-align: middle;\n",
       "    }\n",
       "\n",
       "    .dataframe tbody tr th {\n",
       "        vertical-align: top;\n",
       "    }\n",
       "\n",
       "    .dataframe thead th {\n",
       "        text-align: right;\n",
       "    }\n",
       "</style>\n",
       "<table border=\"1\" class=\"dataframe\">\n",
       "  <thead>\n",
       "    <tr style=\"text-align: right;\">\n",
       "      <th></th>\n",
       "      <th>STATE_NAME</th>\n",
       "      <th>geometry</th>\n",
       "    </tr>\n",
       "  </thead>\n",
       "  <tbody>\n",
       "    <tr>\n",
       "      <th>0</th>\n",
       "      <td>Washington</td>\n",
       "      <td>MULTIPOLYGON (((-122.40202 48.22522, -122.4628...</td>\n",
       "    </tr>\n",
       "    <tr>\n",
       "      <th>1</th>\n",
       "      <td>Montana</td>\n",
       "      <td>POLYGON ((-111.47543 44.70216, -111.48080 44.6...</td>\n",
       "    </tr>\n",
       "    <tr>\n",
       "      <th>2</th>\n",
       "      <td>Maine</td>\n",
       "      <td>MULTIPOLYGON (((-69.77728 44.07415, -69.85993 ...</td>\n",
       "    </tr>\n",
       "    <tr>\n",
       "      <th>3</th>\n",
       "      <td>North Dakota</td>\n",
       "      <td>POLYGON ((-98.73044 45.93827, -99.00683 45.939...</td>\n",
       "    </tr>\n",
       "    <tr>\n",
       "      <th>4</th>\n",
       "      <td>South Dakota</td>\n",
       "      <td>POLYGON ((-102.78838 42.99530, -103.00588 42.9...</td>\n",
       "    </tr>\n",
       "  </tbody>\n",
       "</table>\n",
       "</div>"
      ],
      "text/plain": [
       "     STATE_NAME                                           geometry\n",
       "0    Washington  MULTIPOLYGON (((-122.40202 48.22522, -122.4628...\n",
       "1       Montana  POLYGON ((-111.47543 44.70216, -111.48080 44.6...\n",
       "2         Maine  MULTIPOLYGON (((-69.77728 44.07415, -69.85993 ...\n",
       "3  North Dakota  POLYGON ((-98.73044 45.93827, -99.00683 45.939...\n",
       "4  South Dakota  POLYGON ((-102.78838 42.99530, -103.00588 42.9..."
      ]
     },
     "execution_count": 529,
     "metadata": {},
     "output_type": "execute_result"
    }
   ],
   "source": [
    "usa = gpd.read_file('shapefiles/USA_States.shp')\n",
    "usa.drop(columns=['STATE_FIPS','STATE_ABBR'],inplace=True)\n",
    "usa.head(5)"
   ]
  },
  {
   "cell_type": "markdown",
   "metadata": {},
   "source": [
    "Añadimos nuestros resultados al archivo"
   ]
  },
  {
   "cell_type": "code",
   "execution_count": 530,
   "metadata": {},
   "outputs": [
    {
     "data": {
      "text/html": [
       "<div>\n",
       "<style scoped>\n",
       "    .dataframe tbody tr th:only-of-type {\n",
       "        vertical-align: middle;\n",
       "    }\n",
       "\n",
       "    .dataframe tbody tr th {\n",
       "        vertical-align: top;\n",
       "    }\n",
       "\n",
       "    .dataframe thead th {\n",
       "        text-align: right;\n",
       "    }\n",
       "</style>\n",
       "<table border=\"1\" class=\"dataframe\">\n",
       "  <thead>\n",
       "    <tr style=\"text-align: right;\">\n",
       "      <th></th>\n",
       "      <th>STATE_NAME</th>\n",
       "      <th>geometry</th>\n",
       "      <th>0</th>\n",
       "      <th>1</th>\n",
       "      <th>dif</th>\n",
       "    </tr>\n",
       "  </thead>\n",
       "  <tbody>\n",
       "    <tr>\n",
       "      <th>0</th>\n",
       "      <td>Washington</td>\n",
       "      <td>MULTIPOLYGON (((-122.40202 48.22522, -122.4628...</td>\n",
       "      <td>66.0</td>\n",
       "      <td>61.0</td>\n",
       "      <td>-5.0</td>\n",
       "    </tr>\n",
       "    <tr>\n",
       "      <th>1</th>\n",
       "      <td>Montana</td>\n",
       "      <td>POLYGON ((-111.47543 44.70216, -111.48080 44.6...</td>\n",
       "      <td>2.0</td>\n",
       "      <td>2.0</td>\n",
       "      <td>0.0</td>\n",
       "    </tr>\n",
       "    <tr>\n",
       "      <th>2</th>\n",
       "      <td>Maine</td>\n",
       "      <td>MULTIPOLYGON (((-69.77728 44.07415, -69.85993 ...</td>\n",
       "      <td>0.0</td>\n",
       "      <td>0.0</td>\n",
       "      <td>0.0</td>\n",
       "    </tr>\n",
       "    <tr>\n",
       "      <th>3</th>\n",
       "      <td>North Dakota</td>\n",
       "      <td>POLYGON ((-98.73044 45.93827, -99.00683 45.939...</td>\n",
       "      <td>0.0</td>\n",
       "      <td>1.0</td>\n",
       "      <td>1.0</td>\n",
       "    </tr>\n",
       "    <tr>\n",
       "      <th>4</th>\n",
       "      <td>South Dakota</td>\n",
       "      <td>POLYGON ((-102.78838 42.99530, -103.00588 42.9...</td>\n",
       "      <td>1.0</td>\n",
       "      <td>2.0</td>\n",
       "      <td>1.0</td>\n",
       "    </tr>\n",
       "  </tbody>\n",
       "</table>\n",
       "</div>"
      ],
      "text/plain": [
       "     STATE_NAME                                           geometry     0  \\\n",
       "0    Washington  MULTIPOLYGON (((-122.40202 48.22522, -122.4628...  66.0   \n",
       "1       Montana  POLYGON ((-111.47543 44.70216, -111.48080 44.6...   2.0   \n",
       "2         Maine  MULTIPOLYGON (((-69.77728 44.07415, -69.85993 ...   0.0   \n",
       "3  North Dakota  POLYGON ((-98.73044 45.93827, -99.00683 45.939...   0.0   \n",
       "4  South Dakota  POLYGON ((-102.78838 42.99530, -103.00588 42.9...   1.0   \n",
       "\n",
       "      1  dif  \n",
       "0  61.0 -5.0  \n",
       "1   2.0  0.0  \n",
       "2   0.0  0.0  \n",
       "3   1.0  1.0  \n",
       "4   2.0  1.0  "
      ]
     },
     "execution_count": 530,
     "metadata": {},
     "output_type": "execute_result"
    }
   ],
   "source": [
    "usa= usa.merge(diferencias,how='left',right_on='State',left_on='STATE_NAME')\n",
    "usa.drop(columns=['State'],inplace=True)\n",
    "usa.fillna(0,inplace=True)\n",
    "usa.head(5)"
   ]
  },
  {
   "cell_type": "markdown",
   "metadata": {},
   "source": [
    "Cantidad de tweets Falsos emitidos por estado"
   ]
  },
  {
   "cell_type": "markdown",
   "metadata": {},
   "source": [
    "Cantidad de tweets Verdaderos emitidos por estado"
   ]
  },
  {
   "cell_type": "markdown",
   "metadata": {},
   "source": [
    "Diferencia entre tweets verdaderos y falos"
   ]
  },
  {
   "cell_type": "code",
   "execution_count": 531,
   "metadata": {},
   "outputs": [
    {
     "data": {
      "text/plain": [
       "<matplotlib.axes._subplots.AxesSubplot at 0x7f2cc21b9400>"
      ]
     },
     "execution_count": 531,
     "metadata": {},
     "output_type": "execute_result"
    },
    {
     "data": {
      "image/png": "[encoded data removed]",
      "text/plain": [
       "<Figure size 1440x1440 with 2 Axes>"
      ]
     },
     "metadata": {
      "needs_background": "light"
     },
     "output_type": "display_data"
    }
   ],
   "source": [
    "#Control del tamaño de la figura del mapa\n",
    "fig, ax = plt.subplots(figsize=(20, 20))\n",
    "\n",
    "# Control del título y los ejes\n",
    "ax.set_title('Verdaderos vs Falsos', \n",
    "             pad = 20, \n",
    "             fontdict={'fontsize':20, 'color': 'Grey'})\n",
    " \n",
    "# Añadir la leyenda separada del mapa\n",
    "divider = make_axes_locatable(ax)\n",
    "cax = divider.append_axes(\"right\", size=\"5%\", pad=0.2) \n",
    "\n",
    "cmap = colors.ListedColormap(['maroon', 'red','orangered', 'coral', 'lightcoral','mistyrose','seashell','honeydew','palegreen'])\n",
    "boundaries = [-70, -60, -50, -40, -30, -20,-10,0,10,20]\n",
    "norm = colors.BoundaryNorm(boundaries, cmap.N, clip=True)\n",
    "\n",
    "# Generar y cargar el mapa\n",
    "usa.plot(column='dif', ax=ax,legend=True, cax=cax, zorder=5,cmap=cmap,norm=norm)\n"
   ]
  },
  {
   "cell_type": "markdown",
   "metadata": {},
   "source": [
    "## LONGITUD"
   ]
  },
  {
   "cell_type": "markdown",
   "metadata": {},
   "source": [
    "Un parámetro que puede resultar interesante es análizar si hay alguna relación entre la longitud de los tweets y la veracidad de los mismos."
   ]
  },
  {
   "cell_type": "code",
   "execution_count": 447,
   "metadata": {},
   "outputs": [
    {
     "data": {
      "text/html": [
       "<div>\n",
       "<style scoped>\n",
       "    .dataframe tbody tr th:only-of-type {\n",
       "        vertical-align: middle;\n",
       "    }\n",
       "\n",
       "    .dataframe tbody tr th {\n",
       "        vertical-align: top;\n",
       "    }\n",
       "\n",
       "    .dataframe thead th {\n",
       "        text-align: right;\n",
       "    }\n",
       "</style>\n",
       "<table border=\"1\" class=\"dataframe\">\n",
       "  <thead>\n",
       "    <tr style=\"text-align: right;\">\n",
       "      <th></th>\n",
       "      <th>len_min</th>\n",
       "      <th>len_max</th>\n",
       "      <th>len_mean</th>\n",
       "    </tr>\n",
       "    <tr>\n",
       "      <th>target</th>\n",
       "      <th></th>\n",
       "      <th></th>\n",
       "      <th></th>\n",
       "    </tr>\n",
       "  </thead>\n",
       "  <tbody>\n",
       "    <tr>\n",
       "      <th>0</th>\n",
       "      <td>11</td>\n",
       "      <td>147</td>\n",
       "      <td>103.295218</td>\n",
       "    </tr>\n",
       "    <tr>\n",
       "      <th>1</th>\n",
       "      <td>30</td>\n",
       "      <td>143</td>\n",
       "      <td>108.614994</td>\n",
       "    </tr>\n",
       "  </tbody>\n",
       "</table>\n",
       "</div>"
      ],
      "text/plain": [
       "        len_min  len_max    len_mean\n",
       "target                              \n",
       "0            11      147  103.295218\n",
       "1            30      143  108.614994"
      ]
     },
     "execution_count": 447,
     "metadata": {},
     "output_type": "execute_result"
    }
   ],
   "source": [
    "datos['len']=datos['text'].transform(len)\n",
    "datos_grouped= datos.groupby('target')\n",
    "resultado=datos_grouped.agg({'len':['min','max','mean']})\n",
    "level0= resultado.columns.get_level_values(0)\n",
    "level1= resultado.columns.get_level_values(1)\n",
    "resultado.columns= level0 + \"_\" + level1\n",
    "resultado"
   ]
  },
  {
   "cell_type": "markdown",
   "metadata": {},
   "source": [
    "Se observa que los tweet verdaderos son en promedio más largos que los tweet falsos. Sin embargo tanto el tweet mas corto \n",
    "como más largo son falsos. "
   ]
  },
  {
   "cell_type": "code",
   "execution_count": 388,
   "metadata": {},
   "outputs": [],
   "source": [
    "# Calcular esperanza y varianza"
   ]
  },
  {
   "cell_type": "markdown",
   "metadata": {},
   "source": [
    "***Keyword***"
   ]
  },
  {
   "cell_type": "markdown",
   "metadata": {},
   "source": [
    "Cuando hablamos de keyword nos referimos a palabras clave que se mencionan en el tweet. No para todos los tweets conocemos información sobre dicha palabra. Filtremos aquellos tweets para los que si contamos con esta información"
   ]
  },
  {
   "cell_type": "code",
   "execution_count": null,
   "metadata": {},
   "outputs": [],
   "source": []
  }
 ],
 "metadata": {
  "kernelspec": {
   "display_name": "Python 3",
   "language": "python",
   "name": "python3"
  },
  "language_info": {
   "codemirror_mode": {
    "name": "ipython",
    "version": 3
   },
   "file_extension": ".py",
   "mimetype": "text/x-python",
   "name": "python",
   "nbconvert_exporter": "python",
   "pygments_lexer": "ipython3",
   "version": "3.8.2"
  }
 },
 "nbformat": 4,
 "nbformat_minor": 4
}
