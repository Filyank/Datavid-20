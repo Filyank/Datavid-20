{
 "cells": [
  {
   "cell_type": "markdown",
   "metadata": {},
   "source": [
    "## [75.06 / 95.58] Organización de Datos\n",
    "## Trabajo Práctico 1: Análisis Exploratorio de Datos\n",
    "### Grupo 18: DATAVID-20\n",
    "\n",
    "* 102732 - Bilbao, Manuel\n",
    "* 101933 - Karagoz, Filyan\n",
    "* 98684 - Markarian, Darío\n",
    "* 100901 - Stroia, Lautaro"
   ]
  },
  {
   "cell_type": "markdown",
   "metadata": {},
   "source": [
    "## Importación general de librerias y set-up de datos."
   ]
  },
  {
   "cell_type": "code",
   "execution_count": 1,
   "metadata": {},
   "outputs": [
    {
     "data": {
      "text/html": [
       "<div>\n",
       "<style scoped>\n",
       "    .dataframe tbody tr th:only-of-type {\n",
       "        vertical-align: middle;\n",
       "    }\n",
       "\n",
       "    .dataframe tbody tr th {\n",
       "        vertical-align: top;\n",
       "    }\n",
       "\n",
       "    .dataframe thead th {\n",
       "        text-align: right;\n",
       "    }\n",
       "</style>\n",
       "<table border=\"1\" class=\"dataframe\">\n",
       "  <thead>\n",
       "    <tr style=\"text-align: right;\">\n",
       "      <th></th>\n",
       "      <th>id</th>\n",
       "      <th>keyword</th>\n",
       "      <th>location</th>\n",
       "      <th>text</th>\n",
       "      <th>target</th>\n",
       "    </tr>\n",
       "  </thead>\n",
       "  <tbody>\n",
       "    <tr>\n",
       "      <th>0</th>\n",
       "      <td>1</td>\n",
       "      <td>NaN</td>\n",
       "      <td>NaN</td>\n",
       "      <td>Our Deeds are the Reason of this #earthquake M...</td>\n",
       "      <td>1</td>\n",
       "    </tr>\n",
       "    <tr>\n",
       "      <th>1</th>\n",
       "      <td>4</td>\n",
       "      <td>NaN</td>\n",
       "      <td>NaN</td>\n",
       "      <td>Forest fire near La Ronge Sask. Canada</td>\n",
       "      <td>1</td>\n",
       "    </tr>\n",
       "    <tr>\n",
       "      <th>2</th>\n",
       "      <td>5</td>\n",
       "      <td>NaN</td>\n",
       "      <td>NaN</td>\n",
       "      <td>All residents asked to 'shelter in place' are ...</td>\n",
       "      <td>1</td>\n",
       "    </tr>\n",
       "    <tr>\n",
       "      <th>3</th>\n",
       "      <td>6</td>\n",
       "      <td>NaN</td>\n",
       "      <td>NaN</td>\n",
       "      <td>13,000 people receive #wildfires evacuation or...</td>\n",
       "      <td>1</td>\n",
       "    </tr>\n",
       "    <tr>\n",
       "      <th>4</th>\n",
       "      <td>7</td>\n",
       "      <td>NaN</td>\n",
       "      <td>NaN</td>\n",
       "      <td>Just got sent this photo from Ruby #Alaska as ...</td>\n",
       "      <td>1</td>\n",
       "    </tr>\n",
       "  </tbody>\n",
       "</table>\n",
       "</div>"
      ],
      "text/plain": [
       "   id keyword location                                               text  \\\n",
       "0   1     NaN      NaN  Our Deeds are the Reason of this #earthquake M...   \n",
       "1   4     NaN      NaN             Forest fire near La Ronge Sask. Canada   \n",
       "2   5     NaN      NaN  All residents asked to 'shelter in place' are ...   \n",
       "3   6     NaN      NaN  13,000 people receive #wildfires evacuation or...   \n",
       "4   7     NaN      NaN  Just got sent this photo from Ruby #Alaska as ...   \n",
       "\n",
       "   target  \n",
       "0       1  \n",
       "1       1  \n",
       "2       1  \n",
       "3       1  \n",
       "4       1  "
      ]
     },
     "execution_count": 1,
     "metadata": {},
     "output_type": "execute_result"
    }
   ],
   "source": [
    "import pandas as pd\n",
    "import seaborn as sns\n",
    "import numpy as np\n",
    "import matplotlib.pyplot as plt\n",
    "import re as re\n",
    "\n",
    "#para instalar WordCloud (para visualizaciones de nube de palabras)\n",
    "#! pip3 install wordcloud\n",
    "from wordcloud import WordCloud, STOPWORDS\n",
    "\n",
    "#Para instalar libreria Emoji\n",
    "#! pip3 install emoji\n",
    "import emoji\n",
    "\n",
    "#Para instalar libreria Geotext\n",
    "#! pip3 install https://github.com/elyase/geotext/archive/master.zip\n",
    "import geotext\n",
    "\n",
    "#Para instalar NLTK\n",
    "#! pip3 install nltk\n",
    "import nltk\n",
    "from nltk.corpus import stopwords\n",
    "from nltk.stem.snowball import SnowballStemmer\n",
    "from nltk.tokenize import word_tokenize\n",
    "\n",
    "#Para instalar Geopandas\n",
    "#! pip3 install geopandas\n",
    "import geopandas as gpd\n",
    "\n",
    "#! pip3 install descartes\n",
    "\n",
    "from mpl_toolkits.axes_grid1 import make_axes_locatable\n",
    "import matplotlib.colors as colors\n",
    "\n",
    "import warnings\n",
    "warnings.filterwarnings('ignore')\n",
    "\n",
    "pd.options.display.max_rows = None #mostrar todas las filas del df\n",
    "%matplotlib inline\n",
    "plt.style.use('default') # haciendo los graficos un poco mas bonitos en matplotlib\n",
    "plt.rcParams['figure.figsize'] = (20, 10)\n",
    "sns.set(style=\"whitegrid\") # seteando tipo de grid en seaborn\n",
    "pd.options.display.float_format = '{:20,.2f}'.format # suprimimos la notacion cientifica en los outputs\n",
    "\n",
    "dataframe = pd.read_csv('train.csv')\n",
    "dataframe.head()"
   ]
  },
  {
   "cell_type": "markdown",
   "metadata": {},
   "source": [
    "## Información general del set de datos"
   ]
  },
  {
   "cell_type": "markdown",
   "metadata": {},
   "source": [
    "#### Cantidad de filas y columnas; uso de memoria"
   ]
  },
  {
   "cell_type": "code",
   "execution_count": 2,
   "metadata": {},
   "outputs": [
    {
     "name": "stdout",
     "output_type": "stream",
     "text": [
      "Filas y columnas del set de datos: (7613, 5).\n",
      "Uso de memoria del set de datos : 0.29 MB.\n"
     ]
    }
   ],
   "source": [
    "print(\"Filas y columnas del set de datos: {}.\".format(dataframe.shape))\n",
    "print(\"Uso de memoria del set de datos : {:.2f} MB.\".format(dataframe.memory_usage().sum() / 1024**2))"
   ]
  },
  {
   "cell_type": "markdown",
   "metadata": {},
   "source": [
    "#### Tipos de datos presentes en el dataset"
   ]
  },
  {
   "cell_type": "code",
   "execution_count": 3,
   "metadata": {},
   "outputs": [
    {
     "data": {
      "text/plain": [
       "id           int64\n",
       "keyword     object\n",
       "location    object\n",
       "text        object\n",
       "target       int64\n",
       "dtype: object"
      ]
     },
     "execution_count": 3,
     "metadata": {},
     "output_type": "execute_result"
    }
   ],
   "source": [
    "dataframe.dtypes"
   ]
  },
  {
   "cell_type": "markdown",
   "metadata": {},
   "source": [
    "#### Cantidad de valores nulos/NaN en las columnas del dataset"
   ]
  },
  {
   "cell_type": "code",
   "execution_count": 4,
   "metadata": {},
   "outputs": [
    {
     "data": {
      "text/html": [
       "<div>\n",
       "<style scoped>\n",
       "    .dataframe tbody tr th:only-of-type {\n",
       "        vertical-align: middle;\n",
       "    }\n",
       "\n",
       "    .dataframe tbody tr th {\n",
       "        vertical-align: top;\n",
       "    }\n",
       "\n",
       "    .dataframe thead th {\n",
       "        text-align: right;\n",
       "    }\n",
       "</style>\n",
       "<table border=\"1\" class=\"dataframe\">\n",
       "  <thead>\n",
       "    <tr style=\"text-align: right;\">\n",
       "      <th></th>\n",
       "      <th>NaN amount</th>\n",
       "    </tr>\n",
       "  </thead>\n",
       "  <tbody>\n",
       "    <tr>\n",
       "      <th>id</th>\n",
       "      <td>0</td>\n",
       "    </tr>\n",
       "    <tr>\n",
       "      <th>keyword</th>\n",
       "      <td>61</td>\n",
       "    </tr>\n",
       "    <tr>\n",
       "      <th>location</th>\n",
       "      <td>2533</td>\n",
       "    </tr>\n",
       "    <tr>\n",
       "      <th>text</th>\n",
       "      <td>0</td>\n",
       "    </tr>\n",
       "    <tr>\n",
       "      <th>target</th>\n",
       "      <td>0</td>\n",
       "    </tr>\n",
       "  </tbody>\n",
       "</table>\n",
       "</div>"
      ],
      "text/plain": [
       "          NaN amount\n",
       "id                 0\n",
       "keyword           61\n",
       "location        2533\n",
       "text               0\n",
       "target             0"
      ]
     },
     "execution_count": 4,
     "metadata": {},
     "output_type": "execute_result"
    }
   ],
   "source": [
    "pd.DataFrame(pd.isna(dataframe).sum(), columns = ['NaN amount'])"
   ]
  },
  {
   "cell_type": "markdown",
   "metadata": {},
   "source": [
    "#### Cantidad de valores no-repetidos en las columnas del dataset"
   ]
  },
  {
   "cell_type": "code",
   "execution_count": 5,
   "metadata": {},
   "outputs": [
    {
     "data": {
      "text/html": [
       "<div>\n",
       "<style scoped>\n",
       "    .dataframe tbody tr th:only-of-type {\n",
       "        vertical-align: middle;\n",
       "    }\n",
       "\n",
       "    .dataframe tbody tr th {\n",
       "        vertical-align: top;\n",
       "    }\n",
       "\n",
       "    .dataframe thead th {\n",
       "        text-align: right;\n",
       "    }\n",
       "</style>\n",
       "<table border=\"1\" class=\"dataframe\">\n",
       "  <thead>\n",
       "    <tr style=\"text-align: right;\">\n",
       "      <th></th>\n",
       "      <th>Non Repeated amount</th>\n",
       "    </tr>\n",
       "  </thead>\n",
       "  <tbody>\n",
       "    <tr>\n",
       "      <th>id</th>\n",
       "      <td>7613</td>\n",
       "    </tr>\n",
       "    <tr>\n",
       "      <th>keyword</th>\n",
       "      <td>221</td>\n",
       "    </tr>\n",
       "    <tr>\n",
       "      <th>location</th>\n",
       "      <td>3341</td>\n",
       "    </tr>\n",
       "    <tr>\n",
       "      <th>text</th>\n",
       "      <td>7503</td>\n",
       "    </tr>\n",
       "    <tr>\n",
       "      <th>target</th>\n",
       "      <td>2</td>\n",
       "    </tr>\n",
       "  </tbody>\n",
       "</table>\n",
       "</div>"
      ],
      "text/plain": [
       "          Non Repeated amount\n",
       "id                       7613\n",
       "keyword                   221\n",
       "location                 3341\n",
       "text                     7503\n",
       "target                      2"
      ]
     },
     "execution_count": 5,
     "metadata": {},
     "output_type": "execute_result"
    }
   ],
   "source": [
    "pd.DataFrame(dataframe.nunique(), columns = ['Non Repeated amount'])"
   ]
  },
  {
   "cell_type": "markdown",
   "metadata": {},
   "source": [
    "## Análisis de la columna *text*"
   ]
  },
  {
   "cell_type": "markdown",
   "metadata": {},
   "source": [
    "#### Empezamos agregando al dataframe, una columna que indique la longitud de cada tweet."
   ]
  },
  {
   "cell_type": "code",
   "execution_count": 6,
   "metadata": {},
   "outputs": [
    {
     "data": {
      "text/html": [
       "<div>\n",
       "<style scoped>\n",
       "    .dataframe tbody tr th:only-of-type {\n",
       "        vertical-align: middle;\n",
       "    }\n",
       "\n",
       "    .dataframe tbody tr th {\n",
       "        vertical-align: top;\n",
       "    }\n",
       "\n",
       "    .dataframe thead th {\n",
       "        text-align: right;\n",
       "    }\n",
       "</style>\n",
       "<table border=\"1\" class=\"dataframe\">\n",
       "  <thead>\n",
       "    <tr style=\"text-align: right;\">\n",
       "      <th></th>\n",
       "      <th>id</th>\n",
       "      <th>keyword</th>\n",
       "      <th>location</th>\n",
       "      <th>text</th>\n",
       "      <th>target</th>\n",
       "      <th>tweet lenght</th>\n",
       "    </tr>\n",
       "  </thead>\n",
       "  <tbody>\n",
       "    <tr>\n",
       "      <th>0</th>\n",
       "      <td>1</td>\n",
       "      <td>NaN</td>\n",
       "      <td>NaN</td>\n",
       "      <td>Our Deeds are the Reason of this #earthquake M...</td>\n",
       "      <td>1</td>\n",
       "      <td>69</td>\n",
       "    </tr>\n",
       "    <tr>\n",
       "      <th>1</th>\n",
       "      <td>4</td>\n",
       "      <td>NaN</td>\n",
       "      <td>NaN</td>\n",
       "      <td>Forest fire near La Ronge Sask. Canada</td>\n",
       "      <td>1</td>\n",
       "      <td>38</td>\n",
       "    </tr>\n",
       "    <tr>\n",
       "      <th>2</th>\n",
       "      <td>5</td>\n",
       "      <td>NaN</td>\n",
       "      <td>NaN</td>\n",
       "      <td>All residents asked to 'shelter in place' are ...</td>\n",
       "      <td>1</td>\n",
       "      <td>133</td>\n",
       "    </tr>\n",
       "    <tr>\n",
       "      <th>3</th>\n",
       "      <td>6</td>\n",
       "      <td>NaN</td>\n",
       "      <td>NaN</td>\n",
       "      <td>13,000 people receive #wildfires evacuation or...</td>\n",
       "      <td>1</td>\n",
       "      <td>65</td>\n",
       "    </tr>\n",
       "    <tr>\n",
       "      <th>4</th>\n",
       "      <td>7</td>\n",
       "      <td>NaN</td>\n",
       "      <td>NaN</td>\n",
       "      <td>Just got sent this photo from Ruby #Alaska as ...</td>\n",
       "      <td>1</td>\n",
       "      <td>88</td>\n",
       "    </tr>\n",
       "  </tbody>\n",
       "</table>\n",
       "</div>"
      ],
      "text/plain": [
       "   id keyword location                                               text  \\\n",
       "0   1     NaN      NaN  Our Deeds are the Reason of this #earthquake M...   \n",
       "1   4     NaN      NaN             Forest fire near La Ronge Sask. Canada   \n",
       "2   5     NaN      NaN  All residents asked to 'shelter in place' are ...   \n",
       "3   6     NaN      NaN  13,000 people receive #wildfires evacuation or...   \n",
       "4   7     NaN      NaN  Just got sent this photo from Ruby #Alaska as ...   \n",
       "\n",
       "   target  tweet lenght  \n",
       "0       1            69  \n",
       "1       1            38  \n",
       "2       1           133  \n",
       "3       1            65  \n",
       "4       1            88  "
      ]
     },
     "execution_count": 6,
     "metadata": {},
     "output_type": "execute_result"
    }
   ],
   "source": [
    "dataframe['tweet lenght'] = dataframe['text'].str.len()\n",
    "dataframe.head()"
   ]
  },
  {
   "cell_type": "markdown",
   "metadata": {},
   "source": [
    "#### Busco la longitud del tweet más largo y del más corto."
   ]
  },
  {
   "cell_type": "code",
   "execution_count": 7,
   "metadata": {},
   "outputs": [
    {
     "name": "stdout",
     "output_type": "stream",
     "text": [
      "La longitud del tweet más largo es: 157\n",
      "La longitud del tweet más corto es: 7\n"
     ]
    }
   ],
   "source": [
    "print(\"La longitud del tweet más largo es: {}\".format(dataframe['tweet lenght'].max()))\n",
    "print(\"La longitud del tweet más corto es: {}\".format(dataframe['tweet lenght'].min()))"
   ]
  },
  {
   "cell_type": "markdown",
   "metadata": {},
   "source": [
    "#### Buscamos en qué rango de longitudes entra cada tweet, para luego poder hacer una visualizacion del tipo cantidad de tweets vs longitud de tweets."
   ]
  },
  {
   "cell_type": "code",
   "execution_count": 8,
   "metadata": {},
   "outputs": [
    {
     "data": {
      "text/html": [
       "<div>\n",
       "<style scoped>\n",
       "    .dataframe tbody tr th:only-of-type {\n",
       "        vertical-align: middle;\n",
       "    }\n",
       "\n",
       "    .dataframe tbody tr th {\n",
       "        vertical-align: top;\n",
       "    }\n",
       "\n",
       "    .dataframe thead th {\n",
       "        text-align: right;\n",
       "    }\n",
       "</style>\n",
       "<table border=\"1\" class=\"dataframe\">\n",
       "  <thead>\n",
       "    <tr style=\"text-align: right;\">\n",
       "      <th></th>\n",
       "      <th>tweet lenght</th>\n",
       "    </tr>\n",
       "  </thead>\n",
       "  <tbody>\n",
       "    <tr>\n",
       "      <th>0</th>\n",
       "      <td>(60, 70]</td>\n",
       "    </tr>\n",
       "    <tr>\n",
       "      <th>1</th>\n",
       "      <td>(30, 40]</td>\n",
       "    </tr>\n",
       "    <tr>\n",
       "      <th>2</th>\n",
       "      <td>(130, 140]</td>\n",
       "    </tr>\n",
       "    <tr>\n",
       "      <th>3</th>\n",
       "      <td>(60, 70]</td>\n",
       "    </tr>\n",
       "    <tr>\n",
       "      <th>4</th>\n",
       "      <td>(80, 90]</td>\n",
       "    </tr>\n",
       "  </tbody>\n",
       "</table>\n",
       "</div>"
      ],
      "text/plain": [
       "  tweet lenght\n",
       "0     (60, 70]\n",
       "1     (30, 40]\n",
       "2   (130, 140]\n",
       "3     (60, 70]\n",
       "4     (80, 90]"
      ]
     },
     "execution_count": 8,
     "metadata": {},
     "output_type": "execute_result"
    }
   ],
   "source": [
    "df_len_interval = pd.cut(dataframe['tweet lenght'],[i for i in range(0, dataframe['tweet lenght'].max(), 10)])\n",
    "df_len_interval.to_frame().head()"
   ]
  },
  {
   "cell_type": "markdown",
   "metadata": {},
   "source": [
    "#### Visualización que muestra la cantidad de tweets vs longitud de tweets."
   ]
  },
  {
   "cell_type": "code",
   "execution_count": 9,
   "metadata": {},
   "outputs": [
    {
     "data": {
      "text/plain": [
       "([0, 1, 2, 3, 4, 5, 6, 7, 8, 9, 10, 11, 12, 13, 14],\n",
       " <a list of 15 Text major ticklabel objects>)"
      ]
     },
     "execution_count": 9,
     "metadata": {},
     "output_type": "execute_result"
    },
    {
     "data": {
      "image/png": "[encoded data removed]",
      "text/plain": [
       "<Figure size 1440x576 with 1 Axes>"
      ]
     },
     "metadata": {
      "needs_background": "light"
     },
     "output_type": "display_data"
    }
   ],
   "source": [
    "df_lenght = dataframe.groupby(df_len_interval).size()\n",
    "fig = plt.figure(figsize = (20, 8))\n",
    "plt.bar(df_lenght.index.astype(str), df_lenght.values, color = 'lightblue',edgecolor = 'black')\n",
    "plt.xlabel(\"Longitud de tweets\", fontsize=20)\n",
    "plt.ylabel(\"Cantidad de tweets\",fontsize=20)\n",
    "plt.title(\"Cantidad de tweets por longitud\", fontsize=25)\n",
    "plt.tick_params(axis='both', labelsize = 15)\n",
    "plt.xticks(rotation = 45)"
   ]
  },
  {
   "cell_type": "markdown",
   "metadata": {},
   "source": [
    "#### Como vemos, la gran mayoria de los tweets tiene una longitud comprendida entre los 130 y los 140 caracteres."
   ]
  },
  {
   "cell_type": "markdown",
   "metadata": {},
   "source": [
    "#### Ahora vamos a analizar cuántos tweets poseen Emojis. Para ello, hacemos uso de la libreria emoji. Agregaremos una columna nueva a una copia del dataframe, que indique si ese tweet posee o no emojis."
   ]
  },
  {
   "cell_type": "code",
   "execution_count": 10,
   "metadata": {},
   "outputs": [
    {
     "data": {
      "text/plain": [
       "False    7603\n",
       "True       10\n",
       "Name: has_emoji, dtype: int64"
      ]
     },
     "execution_count": 10,
     "metadata": {},
     "output_type": "execute_result"
    }
   ],
   "source": [
    "def text_has_emoji(text):\n",
    "    for character in text:\n",
    "        if character in emoji.UNICODE_EMOJI:\n",
    "            return True\n",
    "    return False\n",
    "\n",
    "tweets_emoji_df = dataframe.copy()\n",
    "tweets_emoji_df = tweets_emoji_df.drop(['keyword','location'],axis=1)\n",
    "tweets_emoji_df['has_emoji'] = tweets_emoji_df['text'].apply(lambda x: text_has_emoji(x))\n",
    "tweets_emoji_df['has_emoji'].value_counts()"
   ]
  },
  {
   "cell_type": "markdown",
   "metadata": {},
   "source": [
    "#### Como vemos, solo 10 de 7613 tweets poseen emojis, por lo que realizar un análisis mas exhaustivo sería en vano y una perdida de tiempo\n",
    "\n",
    "#### Procedemos a analizar cuantos tweets poseen menciones hacia otros usuarios (@)"
   ]
  },
  {
   "cell_type": "code",
   "execution_count": 11,
   "metadata": {},
   "outputs": [
    {
     "name": "stdout",
     "output_type": "stream",
     "text": [
      "Cantidad de tweets con menciones: 1994\n",
      "Cantidad de menciones en total: 2687\n"
     ]
    }
   ],
   "source": [
    "mencion_reg = re.compile(r'(^|\\W)@([A-Za-z0-9_]+)(?![A-Za-z0-9_]*\\\\.)')\n",
    "\n",
    "def buscar_menciones(x):\n",
    "    coincidencias = re.findall(mencion_reg, x)\n",
    "    menciones = \"\"\n",
    "    for coincidencia in coincidencias:\n",
    "        menciones += \", {}\".format(coincidencia[1].lower())\n",
    "    return menciones[2:]\n",
    "\n",
    "df_menciones = dataframe.copy()\n",
    "df_menciones = df_menciones.loc[df_menciones['text'].str.contains(mencion_reg)]\n",
    "df_menciones['mentions'] = df_menciones['text'].map(lambda x: buscar_menciones(x))\n",
    "df_menciones['mentions amount'] = df_menciones['mentions'].map(lambda x: x.count(',')+1)\n",
    "\n",
    "print(\"Cantidad de tweets con menciones: {}\".format(len(df_menciones)))\n",
    "print(\"Cantidad de menciones en total: {}\".format(df_menciones['mentions amount'].sum()))"
   ]
  },
  {
   "cell_type": "markdown",
   "metadata": {},
   "source": [
    "#### Mismo análisis anterior pero esta vez enfocandonos en los hashtags (#)"
   ]
  },
  {
   "cell_type": "code",
   "execution_count": 12,
   "metadata": {},
   "outputs": [
    {
     "name": "stdout",
     "output_type": "stream",
     "text": [
      "Cantidad de tweets con hashtags: 1743\n",
      "Cantidad de hashtags en total: 3330\n"
     ]
    }
   ],
   "source": [
    "hashtag_reg = re.compile(r'#\\w+')\n",
    "\n",
    "def buscar_hashtags(x):\n",
    "    coincidencias = re.findall(hashtag_reg, x)\n",
    "    hashtags = \"\"\n",
    "    for coincidencia in coincidencias:\n",
    "        hashtags += \", {}\".format(coincidencia.lower())\n",
    "    return hashtags[2:]\n",
    "\n",
    "df_hashtags = dataframe.copy()\n",
    "df_hashtags = df_hashtags.loc[df_hashtags['text'].str.contains(hashtag_reg)]\n",
    "df_hashtags['hashtags'] = df_hashtags['text'].map(lambda x: buscar_hashtags(x))\n",
    "df_hashtags['hashtags amount'] = df_hashtags['hashtags'].map(lambda x: x.count(',')+1)\n",
    "\n",
    "print(\"Cantidad de tweets con hashtags: {}\".format(len(df_hashtags)))\n",
    "print(\"Cantidad de hashtags en total: {}\".format(df_hashtags['hashtags amount'].sum()))"
   ]
  },
  {
   "cell_type": "markdown",
   "metadata": {},
   "source": [
    "#### TOP-10 Hashtags más usados"
   ]
  },
  {
   "cell_type": "code",
   "execution_count": 13,
   "metadata": {},
   "outputs": [
    {
     "data": {
      "image/png": "[encoded data removed]",
      "text/plain": [
       "<Figure size 432x288 with 1 Axes>"
      ]
     },
     "metadata": {
      "needs_background": "light"
     },
     "output_type": "display_data"
    }
   ],
   "source": [
    "hashtags = {}\n",
    "for row in df_hashtags['hashtags']:\n",
    "    for hashtag in row.split(', '):\n",
    "        if hashtag in hashtags:\n",
    "            hashtags[hashtag] += 1\n",
    "        else:\n",
    "            hashtags[hashtag] = 1\n",
    "            \n",
    "MyDF = pd.DataFrame([v for v in hashtags.values()], columns = ['total'], index = [k for k in hashtags.keys()])\\\n",
    ".sort_values('total', ascending=False)\n",
    "\n",
    "(markerline, stemlines, baseline) = plt.stem(MyDF.head(10).index, MyDF.head(10).total)\n",
    "plt.setp(markerline, marker='*', markersize=15, markeredgewidth=2, color='red')\n",
    "plt.setp(stemlines, color='red')\n",
    "plt.setp(baseline, visible=False)\n",
    "plt.title(\"Top-10 hashtags más usados\", fontsize = 20)\n",
    "plt.tick_params(axis = 'both', labelsize=15)\n",
    "plt.xlabel('Hashtags', fontsize = 17)\n",
    "plt.ylabel('Cantidad', fontsize = 17)\n",
    "plt.ylim(bottom=0)\n",
    "plt.xticks(rotation = 33)\n",
    "\n",
    "plt.show()"
   ]
  },
  {
   "cell_type": "markdown",
   "metadata": {},
   "source": [
    "#### TOP-10 Menciones más frecuentes"
   ]
  },
  {
   "cell_type": "code",
   "execution_count": 14,
   "metadata": {},
   "outputs": [
    {
     "data": {
      "image/png": "[encoded data removed]",
      "text/plain": [
       "<Figure size 432x288 with 1 Axes>"
      ]
     },
     "metadata": {
      "needs_background": "light"
     },
     "output_type": "display_data"
    }
   ],
   "source": [
    "menciones = {}\n",
    "for row in df_menciones['mentions']:\n",
    "    for mencion in row.split(\", \"):\n",
    "        if mencion in menciones:\n",
    "            menciones[mencion] += 1\n",
    "        else:\n",
    "            menciones[mencion] = 1\n",
    "\n",
    "mentions = pd.DataFrame([v for v in menciones.values()], columns = ['total'], index = [k for k in menciones.keys()])\\\n",
    ".sort_values('total', ascending=False)\n",
    "\n",
    "(markerline, stemlines, baseline) = plt.stem(mentions.head(10).index, mentions.head(10).total)\n",
    "plt.setp(markerline, marker='*', markersize=15, markeredgewidth=2, color='red')\n",
    "plt.setp(stemlines, color='red')\n",
    "plt.setp(baseline, visible=False)\n",
    "plt.title(\"Top-10 menciones más usadas\", fontsize = 20)\n",
    "plt.tick_params(axis = 'both', labelsize=15)\n",
    "plt.xlabel('Menciones', fontsize = 17)\n",
    "plt.ylabel('Cantidad', fontsize = 17)\n",
    "plt.ylim(bottom=0)\n",
    "plt.xticks(rotation = 33)\n",
    "\n",
    "plt.show()"
   ]
  },
  {
   "cell_type": "markdown",
   "metadata": {},
   "source": [
    "#### Ahora vamos analizar aquellos tweets que poseen URLs"
   ]
  },
  {
   "cell_type": "code",
   "execution_count": 15,
   "metadata": {},
   "outputs": [
    {
     "name": "stdout",
     "output_type": "stream",
     "text": [
      "Cantidad de tweets con URLs: 3971\n",
      "Cantidad de URLs en total: 4723\n"
     ]
    }
   ],
   "source": [
    "url_reg = re.compile(r'https?://\\S+|www\\.\\S+')\n",
    "\n",
    "def buscar_urls(x):\n",
    "    coincidencias = re.findall(url_reg, x)\n",
    "    urls = \"\"\n",
    "    for coincidencia in coincidencias:\n",
    "        urls += \", {}\".format(coincidencia.lower)\n",
    "    return coincidencias\n",
    "\n",
    "df_urls = dataframe.copy()\n",
    "df_urls = df_urls.loc[df_urls['text'].str.contains(url_reg)]\n",
    "df_urls['urls'] = df_urls['text'].map(lambda x: buscar_urls(x))\n",
    "df_urls['urls amount'] = df_urls['urls'].str.len()\n",
    "\n",
    "print(\"Cantidad de tweets con URLs: {}\".format(len(df_urls)))\n",
    "print(\"Cantidad de URLs en total: {}\".format(df_urls['urls amount'].sum()))"
   ]
  },
  {
   "cell_type": "markdown",
   "metadata": {},
   "source": [
    "#### Analizamos los tweets que tienen palabras mayúsculas"
   ]
  },
  {
   "cell_type": "code",
   "execution_count": 16,
   "metadata": {},
   "outputs": [
    {
     "name": "stdout",
     "output_type": "stream",
     "text": [
      "Cantidad de tweets con palabras mayúsculas: 4312\n",
      "Cantidad de palabras mayúsculas en total: 10351\n"
     ]
    }
   ],
   "source": [
    "mayus_reg = re.compile(r'[A-Z]{2,}')\n",
    "\n",
    "def buscar_mayus(x):\n",
    "    coincidencias = re.findall(mayus_reg, x)\n",
    "    palabras = \"\"\n",
    "    for coincidencia in coincidencias:\n",
    "        palabras += \", {}\".format(coincidencia)\n",
    "    return palabras[2:]\n",
    "\n",
    "df_mayus = dataframe.loc[dataframe[\"text\"].str.contains(mayus_reg)]\n",
    "df_mayus[\"mayus\"] = df_mayus[\"text\"].apply(lambda x: buscar_mayus(x))\n",
    "df_mayus[\"mayus amount\"] = df_mayus[\"mayus\"].apply(lambda x: x.count(\",\") + 1)\n",
    "\n",
    "print(\"Cantidad de tweets con palabras mayúsculas: {}\".format(len(df_mayus)))\n",
    "print(\"Cantidad de palabras mayúsculas en total: {}\".format(df_mayus['mayus amount'].sum()))"
   ]
  },
  {
   "cell_type": "markdown",
   "metadata": {},
   "source": [
    "#### TOP-10 Palabras mayúculas más frecuentes"
   ]
  },
  {
   "cell_type": "code",
   "execution_count": 17,
   "metadata": {},
   "outputs": [
    {
     "data": {
      "image/png": "[encoded data removed]",
      "text/plain": [
       "<Figure size 432x288 with 1 Axes>"
      ]
     },
     "metadata": {
      "needs_background": "light"
     },
     "output_type": "display_data"
    }
   ],
   "source": [
    "palabras = {}\n",
    "for row in df_mayus[\"mayus\"]:\n",
    "    for palabra in row.split(\", \"):\n",
    "        if palabra in palabras:\n",
    "            palabras[palabra] += 1\n",
    "        else:\n",
    "            palabras[palabra] = 1\n",
    "            \n",
    "palabras = pd.DataFrame([v for v in palabras.values()], columns = ['total'], index = [k for k in palabras.keys()])\\\n",
    ".sort_values('total', ascending=False)\n",
    "\n",
    "(markerline, stemlines, baseline) = plt.stem(palabras.head(10).index, palabras.head(10).total)\n",
    "plt.setp(markerline, marker='*', markersize=15, markeredgewidth=2, color='red')\n",
    "plt.setp(stemlines, color='red')\n",
    "plt.setp(baseline, visible=False)\n",
    "plt.title(\"Top-10 palabras mayúsculas más usadas\", fontsize = 20)\n",
    "plt.tick_params(axis = 'both', labelsize=15)\n",
    "plt.xlabel('Palabras', fontsize = 17)\n",
    "plt.ylabel('Cantidad', fontsize = 17)\n",
    "plt.ylim(bottom=0)\n",
    "plt.xticks(rotation = 33)\n",
    "\n",
    "plt.show()"
   ]
  },
  {
   "cell_type": "markdown",
   "metadata": {},
   "source": [
    "Retomamos estos 4 análisis cuando hayamos analizado la veracidad de los tweets según su *target*"
   ]
  },
  {
   "cell_type": "markdown",
   "metadata": {},
   "source": [
    "## Análisis de tweets por su veracidad (columna *target*)\n",
    "#### Sabemos que, según el target, los tweets pueden ser verdaderos (target = 1) o falsos (target = 0). Vamos a analizar ambos tipos de tweets."
   ]
  },
  {
   "cell_type": "markdown",
   "metadata": {},
   "source": [
    "#### Tweets reales"
   ]
  },
  {
   "cell_type": "code",
   "execution_count": 18,
   "metadata": {},
   "outputs": [
    {
     "data": {
      "text/html": [
       "<div>\n",
       "<style scoped>\n",
       "    .dataframe tbody tr th:only-of-type {\n",
       "        vertical-align: middle;\n",
       "    }\n",
       "\n",
       "    .dataframe tbody tr th {\n",
       "        vertical-align: top;\n",
       "    }\n",
       "\n",
       "    .dataframe thead th {\n",
       "        text-align: right;\n",
       "    }\n",
       "</style>\n",
       "<table border=\"1\" class=\"dataframe\">\n",
       "  <thead>\n",
       "    <tr style=\"text-align: right;\">\n",
       "      <th></th>\n",
       "      <th>id</th>\n",
       "      <th>keyword</th>\n",
       "      <th>location</th>\n",
       "      <th>text</th>\n",
       "      <th>target</th>\n",
       "      <th>tweet lenght</th>\n",
       "    </tr>\n",
       "  </thead>\n",
       "  <tbody>\n",
       "    <tr>\n",
       "      <th>6039</th>\n",
       "      <td>8633</td>\n",
       "      <td>seismic</td>\n",
       "      <td>Mogadishu, Somalia</td>\n",
       "      <td>Exploration Takes Seismic Shift in #Gabon to #...</td>\n",
       "      <td>1</td>\n",
       "      <td>99</td>\n",
       "    </tr>\n",
       "    <tr>\n",
       "      <th>6252</th>\n",
       "      <td>8934</td>\n",
       "      <td>snowstorm</td>\n",
       "      <td>Porthcawl</td>\n",
       "      <td>I liked a @YouTube video http://t.co/z8Cp77lVz...</td>\n",
       "      <td>1</td>\n",
       "      <td>121</td>\n",
       "    </tr>\n",
       "    <tr>\n",
       "      <th>7</th>\n",
       "      <td>13</td>\n",
       "      <td>NaN</td>\n",
       "      <td>NaN</td>\n",
       "      <td>I'm on top of the hill and I can see a fire in...</td>\n",
       "      <td>1</td>\n",
       "      <td>59</td>\n",
       "    </tr>\n",
       "    <tr>\n",
       "      <th>607</th>\n",
       "      <td>876</td>\n",
       "      <td>bioterror</td>\n",
       "      <td>Espoo, Finland</td>\n",
       "      <td>USATODAY: On today's #frontpage: #Bioterror la...</td>\n",
       "      <td>1</td>\n",
       "      <td>140</td>\n",
       "    </tr>\n",
       "    <tr>\n",
       "      <th>5696</th>\n",
       "      <td>8129</td>\n",
       "      <td>rescued</td>\n",
       "      <td>NaN</td>\n",
       "      <td>Heroes! A Springer Spaniel &amp;amp; her dog dad r...</td>\n",
       "      <td>1</td>\n",
       "      <td>123</td>\n",
       "    </tr>\n",
       "    <tr>\n",
       "      <th>2348</th>\n",
       "      <td>3379</td>\n",
       "      <td>demolition</td>\n",
       "      <td>NaN</td>\n",
       "      <td>Israel continues its demolition of Palestinian...</td>\n",
       "      <td>1</td>\n",
       "      <td>105</td>\n",
       "    </tr>\n",
       "    <tr>\n",
       "      <th>2544</th>\n",
       "      <td>3650</td>\n",
       "      <td>destroy</td>\n",
       "      <td>Virginia, USA</td>\n",
       "      <td>destroy the free fandom honestly</td>\n",
       "      <td>1</td>\n",
       "      <td>32</td>\n",
       "    </tr>\n",
       "    <tr>\n",
       "      <th>5779</th>\n",
       "      <td>8246</td>\n",
       "      <td>rioting</td>\n",
       "      <td>SURROUNDED BY WEEABOOS</td>\n",
       "      <td>'Money can't buy happiness' is just a lie we t...</td>\n",
       "      <td>1</td>\n",
       "      <td>88</td>\n",
       "    </tr>\n",
       "    <tr>\n",
       "      <th>2432</th>\n",
       "      <td>3494</td>\n",
       "      <td>derailed</td>\n",
       "      <td>Alexandria, VA</td>\n",
       "      <td>.@unsuckdcmetro Is the train half-derailed or ...</td>\n",
       "      <td>1</td>\n",
       "      <td>72</td>\n",
       "    </tr>\n",
       "    <tr>\n",
       "      <th>2757</th>\n",
       "      <td>3960</td>\n",
       "      <td>devastation</td>\n",
       "      <td>United States</td>\n",
       "      <td>70 Years After Atomic Bombs Japan Still Strugg...</td>\n",
       "      <td>1</td>\n",
       "      <td>135</td>\n",
       "    </tr>\n",
       "  </tbody>\n",
       "</table>\n",
       "</div>"
      ],
      "text/plain": [
       "        id      keyword                location  \\\n",
       "6039  8633      seismic      Mogadishu, Somalia   \n",
       "6252  8934    snowstorm               Porthcawl   \n",
       "7       13          NaN                     NaN   \n",
       "607    876    bioterror          Espoo, Finland   \n",
       "5696  8129      rescued                     NaN   \n",
       "2348  3379   demolition                     NaN   \n",
       "2544  3650      destroy           Virginia, USA   \n",
       "5779  8246      rioting  SURROUNDED BY WEEABOOS   \n",
       "2432  3494     derailed          Alexandria, VA   \n",
       "2757  3960  devastation           United States   \n",
       "\n",
       "                                                   text  target  tweet lenght  \n",
       "6039  Exploration Takes Seismic Shift in #Gabon to #...       1            99  \n",
       "6252  I liked a @YouTube video http://t.co/z8Cp77lVz...       1           121  \n",
       "7     I'm on top of the hill and I can see a fire in...       1            59  \n",
       "607   USATODAY: On today's #frontpage: #Bioterror la...       1           140  \n",
       "5696  Heroes! A Springer Spaniel &amp; her dog dad r...       1           123  \n",
       "2348  Israel continues its demolition of Palestinian...       1           105  \n",
       "2544                   destroy the free fandom honestly       1            32  \n",
       "5779  'Money can't buy happiness' is just a lie we t...       1            88  \n",
       "2432  .@unsuckdcmetro Is the train half-derailed or ...       1            72  \n",
       "2757  70 Years After Atomic Bombs Japan Still Strugg...       1           135  "
      ]
     },
     "execution_count": 18,
     "metadata": {},
     "output_type": "execute_result"
    }
   ],
   "source": [
    "df_real_tweets = dataframe[dataframe['target'] == 1]\n",
    "df_real_tweets.sample(10)"
   ]
  },
  {
   "cell_type": "code",
   "execution_count": 19,
   "metadata": {},
   "outputs": [
    {
     "name": "stdout",
     "output_type": "stream",
     "text": [
      "En el dataset hay 3271 tweets reales\n"
     ]
    }
   ],
   "source": [
    "print(\"En el dataset hay {} tweets reales\".format(len(df_real_tweets)))"
   ]
  },
  {
   "cell_type": "markdown",
   "metadata": {},
   "source": [
    "#### Tweets falsos"
   ]
  },
  {
   "cell_type": "code",
   "execution_count": 20,
   "metadata": {},
   "outputs": [
    {
     "data": {
      "text/html": [
       "<div>\n",
       "<style scoped>\n",
       "    .dataframe tbody tr th:only-of-type {\n",
       "        vertical-align: middle;\n",
       "    }\n",
       "\n",
       "    .dataframe tbody tr th {\n",
       "        vertical-align: top;\n",
       "    }\n",
       "\n",
       "    .dataframe thead th {\n",
       "        text-align: right;\n",
       "    }\n",
       "</style>\n",
       "<table border=\"1\" class=\"dataframe\">\n",
       "  <thead>\n",
       "    <tr style=\"text-align: right;\">\n",
       "      <th></th>\n",
       "      <th>id</th>\n",
       "      <th>keyword</th>\n",
       "      <th>location</th>\n",
       "      <th>text</th>\n",
       "      <th>target</th>\n",
       "      <th>tweet lenght</th>\n",
       "    </tr>\n",
       "  </thead>\n",
       "  <tbody>\n",
       "    <tr>\n",
       "      <th>5117</th>\n",
       "      <td>7297</td>\n",
       "      <td>nuclear%20reactor</td>\n",
       "      <td>NaN</td>\n",
       "      <td>Finnish Nuclear Plant to Move Ahead After Fina...</td>\n",
       "      <td>0</td>\n",
       "      <td>87</td>\n",
       "    </tr>\n",
       "    <tr>\n",
       "      <th>4383</th>\n",
       "      <td>6226</td>\n",
       "      <td>hijacker</td>\n",
       "      <td>NaN</td>\n",
       "      <td>@JagexHelpDibi update JAG enabled but a hijack...</td>\n",
       "      <td>0</td>\n",
       "      <td>109</td>\n",
       "    </tr>\n",
       "    <tr>\n",
       "      <th>7485</th>\n",
       "      <td>10707</td>\n",
       "      <td>wreck</td>\n",
       "      <td>Alabama, USA</td>\n",
       "      <td>First wreck today. So so glad me and mom are o...</td>\n",
       "      <td>0</td>\n",
       "      <td>120</td>\n",
       "    </tr>\n",
       "    <tr>\n",
       "      <th>3151</th>\n",
       "      <td>4525</td>\n",
       "      <td>emergency</td>\n",
       "      <td>NaN</td>\n",
       "      <td>@runner_joy yes; especially new clients that w...</td>\n",
       "      <td>0</td>\n",
       "      <td>86</td>\n",
       "    </tr>\n",
       "    <tr>\n",
       "      <th>731</th>\n",
       "      <td>1057</td>\n",
       "      <td>bleeding</td>\n",
       "      <td>NaN</td>\n",
       "      <td>I've been bleeding in your silence \\nI feel sa...</td>\n",
       "      <td>0</td>\n",
       "      <td>67</td>\n",
       "    </tr>\n",
       "    <tr>\n",
       "      <th>248</th>\n",
       "      <td>353</td>\n",
       "      <td>annihilation</td>\n",
       "      <td>Subconscious LA</td>\n",
       "      <td>World Annihilation vs Self Transformation http...</td>\n",
       "      <td>0</td>\n",
       "      <td>123</td>\n",
       "    </tr>\n",
       "    <tr>\n",
       "      <th>6827</th>\n",
       "      <td>9778</td>\n",
       "      <td>trapped</td>\n",
       "      <td>NaN</td>\n",
       "      <td>#entertainment Hollywood movie about trapped m...</td>\n",
       "      <td>0</td>\n",
       "      <td>137</td>\n",
       "    </tr>\n",
       "    <tr>\n",
       "      <th>2909</th>\n",
       "      <td>4177</td>\n",
       "      <td>drown</td>\n",
       "      <td>mi</td>\n",
       "      <td>No one told me you can drown yourself by drink...</td>\n",
       "      <td>0</td>\n",
       "      <td>65</td>\n",
       "    </tr>\n",
       "    <tr>\n",
       "      <th>2576</th>\n",
       "      <td>3694</td>\n",
       "      <td>destroy</td>\n",
       "      <td>SEA Server</td>\n",
       "      <td>dazzle destroy the fun ??</td>\n",
       "      <td>0</td>\n",
       "      <td>25</td>\n",
       "    </tr>\n",
       "    <tr>\n",
       "      <th>5238</th>\n",
       "      <td>7490</td>\n",
       "      <td>obliteration</td>\n",
       "      <td>NaN</td>\n",
       "      <td>Why did God order obliteration of ancient Cana...</td>\n",
       "      <td>0</td>\n",
       "      <td>95</td>\n",
       "    </tr>\n",
       "  </tbody>\n",
       "</table>\n",
       "</div>"
      ],
      "text/plain": [
       "         id            keyword         location  \\\n",
       "5117   7297  nuclear%20reactor              NaN   \n",
       "4383   6226           hijacker              NaN   \n",
       "7485  10707              wreck     Alabama, USA   \n",
       "3151   4525          emergency              NaN   \n",
       "731    1057           bleeding              NaN   \n",
       "248     353       annihilation  Subconscious LA   \n",
       "6827   9778            trapped              NaN   \n",
       "2909   4177              drown               mi   \n",
       "2576   3694            destroy       SEA Server   \n",
       "5238   7490       obliteration              NaN   \n",
       "\n",
       "                                                   text  target  tweet lenght  \n",
       "5117  Finnish Nuclear Plant to Move Ahead After Fina...       0            87  \n",
       "4383  @JagexHelpDibi update JAG enabled but a hijack...       0           109  \n",
       "7485  First wreck today. So so glad me and mom are o...       0           120  \n",
       "3151  @runner_joy yes; especially new clients that w...       0            86  \n",
       "731   I've been bleeding in your silence \\nI feel sa...       0            67  \n",
       "248   World Annihilation vs Self Transformation http...       0           123  \n",
       "6827  #entertainment Hollywood movie about trapped m...       0           137  \n",
       "2909  No one told me you can drown yourself by drink...       0            65  \n",
       "2576                          dazzle destroy the fun ??       0            25  \n",
       "5238  Why did God order obliteration of ancient Cana...       0            95  "
      ]
     },
     "execution_count": 20,
     "metadata": {},
     "output_type": "execute_result"
    }
   ],
   "source": [
    "df_fake_tweets = dataframe[dataframe['target'] == 0]\n",
    "df_fake_tweets.sample(10)"
   ]
  },
  {
   "cell_type": "code",
   "execution_count": 21,
   "metadata": {},
   "outputs": [
    {
     "name": "stdout",
     "output_type": "stream",
     "text": [
      "En el dataset hay 4342 tweets falsos\n"
     ]
    }
   ],
   "source": [
    "print(\"En el dataset hay {} tweets falsos\".format(len(df_fake_tweets)))"
   ]
  },
  {
   "cell_type": "markdown",
   "metadata": {},
   "source": [
    "#### Análisis estadistico de los tweets en funcion de su longitud y su target"
   ]
  },
  {
   "cell_type": "code",
   "execution_count": 22,
   "metadata": {},
   "outputs": [
    {
     "data": {
      "text/html": [
       "<div>\n",
       "<style scoped>\n",
       "    .dataframe tbody tr th:only-of-type {\n",
       "        vertical-align: middle;\n",
       "    }\n",
       "\n",
       "    .dataframe tbody tr th {\n",
       "        vertical-align: top;\n",
       "    }\n",
       "\n",
       "    .dataframe thead th {\n",
       "        text-align: right;\n",
       "    }\n",
       "</style>\n",
       "<table border=\"1\" class=\"dataframe\">\n",
       "  <thead>\n",
       "    <tr style=\"text-align: right;\">\n",
       "      <th></th>\n",
       "      <th>tweet lenght min</th>\n",
       "      <th>tweet lenght max</th>\n",
       "      <th>tweet lenght mean</th>\n",
       "    </tr>\n",
       "    <tr>\n",
       "      <th>target</th>\n",
       "      <th></th>\n",
       "      <th></th>\n",
       "      <th></th>\n",
       "    </tr>\n",
       "  </thead>\n",
       "  <tbody>\n",
       "    <tr>\n",
       "      <th>0</th>\n",
       "      <td>7</td>\n",
       "      <td>157</td>\n",
       "      <td>95.71</td>\n",
       "    </tr>\n",
       "    <tr>\n",
       "      <th>1</th>\n",
       "      <td>14</td>\n",
       "      <td>151</td>\n",
       "      <td>108.11</td>\n",
       "    </tr>\n",
       "  </tbody>\n",
       "</table>\n",
       "</div>"
      ],
      "text/plain": [
       "        tweet lenght min  tweet lenght max    tweet lenght mean\n",
       "target                                                         \n",
       "0                      7               157                95.71\n",
       "1                     14               151               108.11"
      ]
     },
     "execution_count": 22,
     "metadata": {},
     "output_type": "execute_result"
    }
   ],
   "source": [
    "df_statistics = dataframe.groupby('target').agg({'tweet lenght':['min','max','mean']})\n",
    "level0 = df_statistics.columns.get_level_values(0)\n",
    "level1 = df_statistics.columns.get_level_values(1)\n",
    "df_statistics_one_dimension = df_statistics.copy()\n",
    "df_statistics_one_dimension.columns = level0 + ' ' + level1\n",
    "df_statistics_one_dimension"
   ]
  },
  {
   "cell_type": "markdown",
   "metadata": {},
   "source": [
    "#### Visualización del análisis anterior"
   ]
  },
  {
   "cell_type": "code",
   "execution_count": 23,
   "metadata": {},
   "outputs": [
    {
     "data": {
      "image/png": "[encoded data removed]",
      "text/plain": [
       "<Figure size 1080x576 with 1 Axes>"
      ]
     },
     "metadata": {
      "needs_background": "light"
     },
     "output_type": "display_data"
    }
   ],
   "source": [
    "df_statistics_stacked = df_statistics.stack()\n",
    "\n",
    "plt.figure(figsize = (15,8))\n",
    "graphic = sns.barplot(x = 'target', y = 'tweet lenght', hue = 'level_1', data = df_statistics_stacked.reset_index(), edgecolor = 'black')\n",
    "plt.xlabel(\"Target\", fontsize = 17)\n",
    "plt.ylabel(\"Longitud de los tweets\", fontsize = 17)\n",
    "plt.title(\"Análisis estadistico entre target y longitud\", fontsize=17)\n",
    "legend = graphic.legend()\n",
    "legend.set_title(\"\")\n",
    "for t, l in zip(legend.texts,(\"Long. minima\", \"Long. máxima\",\"Long. promedio\")):\n",
    "    t.set_text(l)\n",
    "plt.tick_params(axis='both', labelsize = 13)"
   ]
  },
  {
   "cell_type": "markdown",
   "metadata": {},
   "source": [
    "#### Cantidad de menciones y hashtags segun target."
   ]
  },
  {
   "cell_type": "code",
   "execution_count": 24,
   "metadata": {},
   "outputs": [
    {
     "data": {
      "text/plain": [
       "<matplotlib.axes._subplots.AxesSubplot at 0x7faa166dad68>"
      ]
     },
     "execution_count": 24,
     "metadata": {},
     "output_type": "execute_result"
    },
    {
     "data": {
      "image/png": "[encoded data removed]",
      "text/plain": [
       "<Figure size 432x288 with 1 Axes>"
      ]
     },
     "metadata": {
      "needs_background": "light"
     },
     "output_type": "display_data"
    }
   ],
   "source": [
    "df_targets = df_menciones.groupby('target').agg({'text':'count'})\\\n",
    ".join(df_hashtags.groupby('target').agg({'text': 'count'}), on = 'target', lsuffix = \" mentions\", rsuffix = \" hashtags\")\n",
    "df_targets.plot.bar()"
   ]
  },
  {
   "cell_type": "markdown",
   "metadata": {},
   "source": [
    "#### Analizamos los tweets que contienen #news, el hashtag más usado."
   ]
  },
  {
   "cell_type": "code",
   "execution_count": 25,
   "metadata": {},
   "outputs": [
    {
     "data": {
      "text/plain": [
       "Text(0, 0.5, '% Tweets')"
      ]
     },
     "execution_count": 25,
     "metadata": {},
     "output_type": "execute_result"
    },
    {
     "data": {
      "image/png": "[encoded data removed]",
      "text/plain": [
       "<Figure size 432x288 with 1 Axes>"
      ]
     },
     "metadata": {},
     "output_type": "display_data"
    }
   ],
   "source": [
    "df_news = df_hashtags.loc[df_hashtags[\"hashtags\"].str.contains(\"#news\")]\n",
    "df_news[\"target\"] = df_news[\"target\"].apply(lambda x: \"real\" if x else \"fake\")\n",
    "ax = df_news[\"target\"].value_counts().plot.pie(colors = [\"#4caf50\", \"#e53935\"], autopct='%1.0f %%', title = \"Tweets con #news\")\n",
    "ax.set_ylabel(\"% Tweets\")"
   ]
  },
  {
   "cell_type": "markdown",
   "metadata": {},
   "source": [
    "#### Analizamos los tweets que mencionan a @youtube, la mención más usada."
   ]
  },
  {
   "cell_type": "code",
   "execution_count": 26,
   "metadata": {},
   "outputs": [
    {
     "data": {
      "text/plain": [
       "Text(0, 0.5, '% Tweets')"
      ]
     },
     "execution_count": 26,
     "metadata": {},
     "output_type": "execute_result"
    },
    {
     "data": {
      "image/png": "[encoded data removed]",
      "text/plain": [
       "<Figure size 432x288 with 1 Axes>"
      ]
     },
     "metadata": {},
     "output_type": "display_data"
    }
   ],
   "source": [
    "df_youtube = df_menciones.loc[df_menciones[\"mentions\"].str.contains(\"youtube\")]\n",
    "df_youtube[\"target\"] = df_youtube[\"target\"].apply(lambda x: \"real\" if x else \"fake\")\n",
    "ax = df_youtube[\"target\"].value_counts().plot.pie(colors = [\"#e53935\", \"#4caf50\"], autopct='%1.0f %%', title = \"Tweets mencionando a @youtube\")\n",
    "ax.set_ylabel(\"% Tweets\")"
   ]
  },
  {
   "cell_type": "markdown",
   "metadata": {},
   "source": [
    "#### Si analizamos como se comportan los tweets que mencionan a @youtube, vemos que cuando son los únicos mencionados, la proporción de reales contra falsos crece levemente. En cambio cuando además se menciona a otro usuario, los tweets son casi en su totalidad falsos."
   ]
  },
  {
   "cell_type": "code",
   "execution_count": 27,
   "metadata": {},
   "outputs": [
    {
     "data": {
      "text/plain": [
       "Text(0, 0.5, '# Tweets')"
      ]
     },
     "execution_count": 27,
     "metadata": {},
     "output_type": "execute_result"
    },
    {
     "data": {
      "image/png": "[encoded data removed]",
      "text/plain": [
       "<Figure size 432x288 with 1 Axes>"
      ]
     },
     "metadata": {
      "needs_background": "light"
     },
     "output_type": "display_data"
    }
   ],
   "source": [
    "df_youtube = df_youtube.groupby([\"mentions amount\", \"target\"]).agg({\"mentions\": \"count\"}).unstack()\n",
    "df_youtube.columns = df_youtube.columns.droplevel()\n",
    "\n",
    "ax = df_youtube.plot.bar(colors = [\"#e53935\", \"#4caf50\"], title = \"Tweets que mencionan a @youtube según cantidad de menciones totales en el tweet\")\n",
    "ax.set_xlabel(\"Cantidad de menciones por tweet\")\n",
    "ax.set_ylabel(\"# Tweets\")"
   ]
  },
  {
   "cell_type": "markdown",
   "metadata": {},
   "source": [
    "#### Cantidad de tweets con URL segun target."
   ]
  },
  {
   "cell_type": "code",
   "execution_count": 28,
   "metadata": {},
   "outputs": [
    {
     "name": "stdout",
     "output_type": "stream",
     "text": [
      "Cantidad de tweets reales con URL: 2172\n",
      "Cantidad de tweets falsos con URL: 1799\n"
     ]
    }
   ],
   "source": [
    "real_tweets_with_url = df_urls[df_urls['target'] == 1]\n",
    "fake_tweets_with_url = df_urls[df_urls['target'] == 0]\n",
    "print(\"Cantidad de tweets reales con URL: {}\".format(len(real_tweets_with_url)))\n",
    "print(\"Cantidad de tweets falsos con URL: {}\".format(len(fake_tweets_with_url)))"
   ]
  },
  {
   "cell_type": "markdown",
   "metadata": {},
   "source": [
    "#### Analizamos la palabra mayúscula más usada (RT)"
   ]
  },
  {
   "cell_type": "code",
   "execution_count": 29,
   "metadata": {},
   "outputs": [
    {
     "data": {
      "text/plain": [
       "Text(0, 0.5, '% Tweets')"
      ]
     },
     "execution_count": 29,
     "metadata": {},
     "output_type": "execute_result"
    },
    {
     "data": {
      "image/png": "[encoded data removed]",
      "text/plain": [
       "<Figure size 432x288 with 1 Axes>"
      ]
     },
     "metadata": {},
     "output_type": "display_data"
    }
   ],
   "source": [
    "df_RT = df_mayus.loc[df_mayus[\"text\"].str.contains(\"RT\")]\n",
    "df_RT[\"target\"] = df_RT[\"target\"].apply(lambda x: \"real\" if x else \"fake\")\n",
    "ax = df_RT[\"target\"].value_counts().plot.pie(colors = [\"#e53935\", \"#4caf50\"], autopct='%1.0f %%', title = \"Tweets con la palabra 'RT'\")\n",
    "ax.set_ylabel(\"% Tweets\")"
   ]
  },
  {
   "cell_type": "markdown",
   "metadata": {},
   "source": [
    "## Análisis de la columna *keyword*"
   ]
  },
  {
   "cell_type": "markdown",
   "metadata": {},
   "source": [
    "Sabemos que hay 61 valores nulos (o **NaN**) en esta columna, por lo que voy a deshacerme de ellos."
   ]
  },
  {
   "cell_type": "code",
   "execution_count": 30,
   "metadata": {},
   "outputs": [
    {
     "data": {
      "text/html": [
       "<div>\n",
       "<style scoped>\n",
       "    .dataframe tbody tr th:only-of-type {\n",
       "        vertical-align: middle;\n",
       "    }\n",
       "\n",
       "    .dataframe tbody tr th {\n",
       "        vertical-align: top;\n",
       "    }\n",
       "\n",
       "    .dataframe thead th {\n",
       "        text-align: right;\n",
       "    }\n",
       "</style>\n",
       "<table border=\"1\" class=\"dataframe\">\n",
       "  <thead>\n",
       "    <tr style=\"text-align: right;\">\n",
       "      <th></th>\n",
       "      <th>keyword</th>\n",
       "    </tr>\n",
       "  </thead>\n",
       "  <tbody>\n",
       "    <tr>\n",
       "      <th>6170</th>\n",
       "      <td>sirens</td>\n",
       "    </tr>\n",
       "    <tr>\n",
       "      <th>4477</th>\n",
       "      <td>hostages</td>\n",
       "    </tr>\n",
       "    <tr>\n",
       "      <th>3681</th>\n",
       "      <td>fatality</td>\n",
       "    </tr>\n",
       "    <tr>\n",
       "      <th>6164</th>\n",
       "      <td>siren</td>\n",
       "    </tr>\n",
       "    <tr>\n",
       "      <th>4380</th>\n",
       "      <td>hijacker</td>\n",
       "    </tr>\n",
       "    <tr>\n",
       "      <th>2212</th>\n",
       "      <td>deluge</td>\n",
       "    </tr>\n",
       "    <tr>\n",
       "      <th>2072</th>\n",
       "      <td>dead</td>\n",
       "    </tr>\n",
       "    <tr>\n",
       "      <th>4638</th>\n",
       "      <td>inundated</td>\n",
       "    </tr>\n",
       "    <tr>\n",
       "      <th>3647</th>\n",
       "      <td>fatalities</td>\n",
       "    </tr>\n",
       "    <tr>\n",
       "      <th>3156</th>\n",
       "      <td>emergency</td>\n",
       "    </tr>\n",
       "  </tbody>\n",
       "</table>\n",
       "</div>"
      ],
      "text/plain": [
       "         keyword\n",
       "6170      sirens\n",
       "4477    hostages\n",
       "3681    fatality\n",
       "6164       siren\n",
       "4380    hijacker\n",
       "2212      deluge\n",
       "2072        dead\n",
       "4638   inundated\n",
       "3647  fatalities\n",
       "3156   emergency"
      ]
     },
     "execution_count": 30,
     "metadata": {},
     "output_type": "execute_result"
    }
   ],
   "source": [
    "keywords = dataframe[~dataframe['keyword'].isnull()]\n",
    "keywords['keyword'].to_frame().sample(10)"
   ]
  },
  {
   "cell_type": "markdown",
   "metadata": {},
   "source": [
    "Vemos que varias keywords poseen los simbolos '%20', por lo que procedemos a eliminarlos gracias a la libreria **Re**."
   ]
  },
  {
   "cell_type": "code",
   "execution_count": 31,
   "metadata": {},
   "outputs": [
    {
     "data": {
      "text/html": [
       "<div>\n",
       "<style scoped>\n",
       "    .dataframe tbody tr th:only-of-type {\n",
       "        vertical-align: middle;\n",
       "    }\n",
       "\n",
       "    .dataframe tbody tr th {\n",
       "        vertical-align: top;\n",
       "    }\n",
       "\n",
       "    .dataframe thead th {\n",
       "        text-align: right;\n",
       "    }\n",
       "</style>\n",
       "<table border=\"1\" class=\"dataframe\">\n",
       "  <thead>\n",
       "    <tr style=\"text-align: right;\">\n",
       "      <th></th>\n",
       "      <th>keyword</th>\n",
       "    </tr>\n",
       "  </thead>\n",
       "  <tbody>\n",
       "    <tr>\n",
       "      <th>2633</th>\n",
       "      <td>destruction</td>\n",
       "    </tr>\n",
       "    <tr>\n",
       "      <th>5391</th>\n",
       "      <td>panic</td>\n",
       "    </tr>\n",
       "    <tr>\n",
       "      <th>7096</th>\n",
       "      <td>violent storm</td>\n",
       "    </tr>\n",
       "    <tr>\n",
       "      <th>250</th>\n",
       "      <td>annihilation</td>\n",
       "    </tr>\n",
       "    <tr>\n",
       "      <th>2896</th>\n",
       "      <td>drown</td>\n",
       "    </tr>\n",
       "    <tr>\n",
       "      <th>3833</th>\n",
       "      <td>first responders</td>\n",
       "    </tr>\n",
       "    <tr>\n",
       "      <th>5568</th>\n",
       "      <td>rainstorm</td>\n",
       "    </tr>\n",
       "    <tr>\n",
       "      <th>3000</th>\n",
       "      <td>dust storm</td>\n",
       "    </tr>\n",
       "    <tr>\n",
       "      <th>309</th>\n",
       "      <td>armageddon</td>\n",
       "    </tr>\n",
       "    <tr>\n",
       "      <th>4401</th>\n",
       "      <td>hijacking</td>\n",
       "    </tr>\n",
       "    <tr>\n",
       "      <th>957</th>\n",
       "      <td>body bag</td>\n",
       "    </tr>\n",
       "    <tr>\n",
       "      <th>2028</th>\n",
       "      <td>danger</td>\n",
       "    </tr>\n",
       "    <tr>\n",
       "      <th>654</th>\n",
       "      <td>blaze</td>\n",
       "    </tr>\n",
       "    <tr>\n",
       "      <th>6597</th>\n",
       "      <td>terrorism</td>\n",
       "    </tr>\n",
       "    <tr>\n",
       "      <th>7135</th>\n",
       "      <td>volcano</td>\n",
       "    </tr>\n",
       "    <tr>\n",
       "      <th>3214</th>\n",
       "      <td>emergency services</td>\n",
       "    </tr>\n",
       "    <tr>\n",
       "      <th>6594</th>\n",
       "      <td>terrorism</td>\n",
       "    </tr>\n",
       "    <tr>\n",
       "      <th>4386</th>\n",
       "      <td>hijacker</td>\n",
       "    </tr>\n",
       "    <tr>\n",
       "      <th>1885</th>\n",
       "      <td>crushed</td>\n",
       "    </tr>\n",
       "    <tr>\n",
       "      <th>7508</th>\n",
       "      <td>wreckage</td>\n",
       "    </tr>\n",
       "  </tbody>\n",
       "</table>\n",
       "</div>"
      ],
      "text/plain": [
       "                 keyword\n",
       "2633         destruction\n",
       "5391               panic\n",
       "7096       violent storm\n",
       "250         annihilation\n",
       "2896               drown\n",
       "3833    first responders\n",
       "5568           rainstorm\n",
       "3000          dust storm\n",
       "309           armageddon\n",
       "4401           hijacking\n",
       "957             body bag\n",
       "2028              danger\n",
       "654                blaze\n",
       "6597           terrorism\n",
       "7135             volcano\n",
       "3214  emergency services\n",
       "6594           terrorism\n",
       "4386            hijacker\n",
       "1885             crushed\n",
       "7508            wreckage"
      ]
     },
     "execution_count": 31,
     "metadata": {},
     "output_type": "execute_result"
    }
   ],
   "source": [
    "keywords['keyword'] = keywords['keyword'].map(lambda x: re.sub(r'%20',' ', str(x)))\n",
    "keywords['keyword'].to_frame().sample(20)"
   ]
  },
  {
   "cell_type": "markdown",
   "metadata": {},
   "source": [
    "#### TOP-10 keywords mas usadas en tweets reales."
   ]
  },
  {
   "cell_type": "code",
   "execution_count": 32,
   "metadata": {},
   "outputs": [
    {
     "data": {
      "image/png": "[encoded data removed]",
      "text/plain": [
       "<Figure size 432x288 with 1 Axes>"
      ]
     },
     "metadata": {
      "needs_background": "light"
     },
     "output_type": "display_data"
    }
   ],
   "source": [
    "real_tweets_keywords = keywords[keywords['target'] == 1]\n",
    "real_tweets_keywords = real_tweets_keywords['keyword'].value_counts().to_frame()\n",
    "real_tweets_keywords.columns = ['keyword appearances']\n",
    "\n",
    "keywords_string = ' '.join(real_tweets_keywords.head(10).index)\n",
    "wordcloud = WordCloud(stopwords=STOPWORDS, background_color='black',\n",
    "                      width=600,\n",
    "                      height=200\n",
    "                     ).generate(keywords_string)\n",
    "plt.imshow(wordcloud)\n",
    "plt.axis('off')\n",
    "plt.show()"
   ]
  },
  {
   "cell_type": "markdown",
   "metadata": {},
   "source": [
    "#### TOP-10 keywords mas usadas en tweets falsos."
   ]
  },
  {
   "cell_type": "code",
   "execution_count": 33,
   "metadata": {},
   "outputs": [
    {
     "data": {
      "image/png": "[encoded data removed]",
      "text/plain": [
       "<Figure size 432x288 with 1 Axes>"
      ]
     },
     "metadata": {
      "needs_background": "light"
     },
     "output_type": "display_data"
    }
   ],
   "source": [
    "fake_tweets_keywords = keywords[keywords['target'] == 0]\n",
    "fake_tweets_keywords = fake_tweets_keywords['keyword'].value_counts().to_frame()\n",
    "fake_tweets_keywords.columns = ['keyword appearances']\n",
    "\n",
    "keywords_string = ' '.join(fake_tweets_keywords.head(10).index)\n",
    "wordcloud = WordCloud(stopwords=STOPWORDS, background_color='black',\n",
    "                      width=600,\n",
    "                      height=200\n",
    "                     ).generate(keywords_string)\n",
    "plt.imshow(wordcloud)\n",
    "plt.axis('off')\n",
    "plt.show()"
   ]
  },
  {
   "cell_type": "markdown",
   "metadata": {},
   "source": [
    "#### Podríamos ver qué palabras más repetidas en las falsas, también se repiten en las verdaderas y viceversa, para ver si hay palabras que solo (o casi) aparecen en una de las dos."
   ]
  },
  {
   "cell_type": "code",
   "execution_count": 34,
   "metadata": {},
   "outputs": [
    {
     "data": {
      "text/html": [
       "<div>\n",
       "<style scoped>\n",
       "    .dataframe tbody tr th:only-of-type {\n",
       "        vertical-align: middle;\n",
       "    }\n",
       "\n",
       "    .dataframe tbody tr th {\n",
       "        vertical-align: top;\n",
       "    }\n",
       "\n",
       "    .dataframe thead th {\n",
       "        text-align: right;\n",
       "    }\n",
       "</style>\n",
       "<table border=\"1\" class=\"dataframe\">\n",
       "  <thead>\n",
       "    <tr style=\"text-align: right;\">\n",
       "      <th></th>\n",
       "      <th>keyword appearances (fakes)</th>\n",
       "      <th>keyword appearances (reals)</th>\n",
       "      <th>diff</th>\n",
       "    </tr>\n",
       "    <tr>\n",
       "      <th>keyword</th>\n",
       "      <th></th>\n",
       "      <th></th>\n",
       "      <th></th>\n",
       "    </tr>\n",
       "  </thead>\n",
       "  <tbody>\n",
       "    <tr>\n",
       "      <th>body bags</th>\n",
       "      <td>40</td>\n",
       "      <td>1</td>\n",
       "      <td>39</td>\n",
       "    </tr>\n",
       "    <tr>\n",
       "      <th>outbreak</th>\n",
       "      <td>1</td>\n",
       "      <td>39</td>\n",
       "      <td>38</td>\n",
       "    </tr>\n",
       "    <tr>\n",
       "      <th>typhoon</th>\n",
       "      <td>1</td>\n",
       "      <td>37</td>\n",
       "      <td>36</td>\n",
       "    </tr>\n",
       "    <tr>\n",
       "      <th>oil spill</th>\n",
       "      <td>1</td>\n",
       "      <td>37</td>\n",
       "      <td>36</td>\n",
       "    </tr>\n",
       "    <tr>\n",
       "      <th>ruin</th>\n",
       "      <td>36</td>\n",
       "      <td>1</td>\n",
       "      <td>35</td>\n",
       "    </tr>\n",
       "  </tbody>\n",
       "</table>\n",
       "</div>"
      ],
      "text/plain": [
       "           keyword appearances (fakes)  keyword appearances (reals)  diff\n",
       "keyword                                                                  \n",
       "body bags                           40                            1    39\n",
       "outbreak                             1                           39    38\n",
       "typhoon                              1                           37    36\n",
       "oil spill                            1                           37    36\n",
       "ruin                                36                            1    35"
      ]
     },
     "execution_count": 34,
     "metadata": {},
     "output_type": "execute_result"
    }
   ],
   "source": [
    "merged = fake_tweets_keywords.reset_index().merge(real_tweets_keywords.reset_index(),on = 'index',suffixes=(' (fakes)', ' (reals)'))\n",
    "merged = merged.rename(columns = {'index':'keyword'}).set_index('keyword')\n",
    "merged['diff'] = abs(merged['keyword appearances (reals)'] - merged['keyword appearances (fakes)'])\n",
    "merged = merged.sort_values(by = [\"diff\"], ascending = [False])\n",
    "merged.head()"
   ]
  },
  {
   "cell_type": "markdown",
   "metadata": {},
   "source": [
    "#### Visualización lmplot: combina *regplot()* con *FacetGrid*. Se pretende que sea una interfaz conveniente para ajustar modelos de regresión a través de subconjuntos condicionales de un conjunto de datos"
   ]
  },
  {
   "cell_type": "code",
   "execution_count": 35,
   "metadata": {},
   "outputs": [
    {
     "data": {
      "text/plain": [
       "Text(9.924999999999997, 0.5, 'Apariciones en tweets reales')"
      ]
     },
     "execution_count": 35,
     "metadata": {},
     "output_type": "execute_result"
    },
    {
     "data": {
      "text/plain": [
       "<Figure size 1080x576 with 0 Axes>"
      ]
     },
     "metadata": {},
     "output_type": "display_data"
    },
    {
     "data": {
      "image/png": "[encoded data removed]",
      "text/plain": [
       "<Figure size 360x360 with 1 Axes>"
      ]
     },
     "metadata": {
      "needs_background": "light"
     },
     "output_type": "display_data"
    }
   ],
   "source": [
    "x = 'keyword appearances (fakes)'\n",
    "y = 'keyword appearances (reals)'\n",
    "\n",
    "plt.figure(figsize = (15,8))\n",
    "graphic = sns.lmplot(x, y, data = merged, palette = \"Set2\", scatter = True, fit_reg = True)\n",
    "plt.title('Relacion entre apariciones keywords')\n",
    "plt.xlabel('Apariciones en tweets falsos')\n",
    "plt.ylabel('Apariciones en tweets reales')\n"
   ]
  },
  {
   "cell_type": "markdown",
   "metadata": {},
   "source": [
    "#### Para explicar un poco el gráfico: los puntos en la parte superior izquierda indican que hay keywords que aparecen muchas veces en tweets reales pero pocas veces en tweets falsos;  en la parte inferior derecha indican que hay keywords que aparecen muchas veces en tweets falsos, pero pocas en tweets reales. La linea es una regresión lineal."
   ]
  },
  {
   "cell_type": "markdown",
   "metadata": {},
   "source": [
    "#### En los análisis anteriores sobre keywords, vimos que hay muchas que estan relacionadas. Por ej: ablaze, ablazing. Ahora procedemos a buscar las raices de esas palabras clave."
   ]
  },
  {
   "cell_type": "code",
   "execution_count": 36,
   "metadata": {},
   "outputs": [
    {
     "data": {
      "text/html": [
       "<div>\n",
       "<style scoped>\n",
       "    .dataframe tbody tr th:only-of-type {\n",
       "        vertical-align: middle;\n",
       "    }\n",
       "\n",
       "    .dataframe tbody tr th {\n",
       "        vertical-align: top;\n",
       "    }\n",
       "\n",
       "    .dataframe thead th {\n",
       "        text-align: right;\n",
       "    }\n",
       "</style>\n",
       "<table border=\"1\" class=\"dataframe\">\n",
       "  <thead>\n",
       "    <tr style=\"text-align: right;\">\n",
       "      <th></th>\n",
       "      <th>id</th>\n",
       "      <th>keyword</th>\n",
       "      <th>location</th>\n",
       "      <th>text</th>\n",
       "      <th>target</th>\n",
       "      <th>tweet lenght</th>\n",
       "    </tr>\n",
       "  </thead>\n",
       "  <tbody>\n",
       "    <tr>\n",
       "      <th>2988</th>\n",
       "      <td>4295</td>\n",
       "      <td>drown</td>\n",
       "      <td>NaN</td>\n",
       "      <td>@Homukami Only URs and SRs matter Rs you'll be...</td>\n",
       "      <td>0</td>\n",
       "      <td>98</td>\n",
       "    </tr>\n",
       "    <tr>\n",
       "      <th>6576</th>\n",
       "      <td>9411</td>\n",
       "      <td>survivor</td>\n",
       "      <td>NaN</td>\n",
       "      <td>@MithiTennis @CrackedGem Which is why I want h...</td>\n",
       "      <td>0</td>\n",
       "      <td>135</td>\n",
       "    </tr>\n",
       "    <tr>\n",
       "      <th>4833</th>\n",
       "      <td>6880</td>\n",
       "      <td>mass murd</td>\n",
       "      <td>Realville</td>\n",
       "      <td>@FLGovScott We allow Farrakhan to  to challeng...</td>\n",
       "      <td>1</td>\n",
       "      <td>143</td>\n",
       "    </tr>\n",
       "    <tr>\n",
       "      <th>6143</th>\n",
       "      <td>8762</td>\n",
       "      <td>siren</td>\n",
       "      <td>Brizzle City !</td>\n",
       "      <td>@tomarse99 they all are intending to go. Just ...</td>\n",
       "      <td>1</td>\n",
       "      <td>140</td>\n",
       "    </tr>\n",
       "    <tr>\n",
       "      <th>7341</th>\n",
       "      <td>10511</td>\n",
       "      <td>wildfir</td>\n",
       "      <td>USA</td>\n",
       "      <td>The Latest: Washington #Wildfire misses town; ...</td>\n",
       "      <td>1</td>\n",
       "      <td>100</td>\n",
       "    </tr>\n",
       "    <tr>\n",
       "      <th>4373</th>\n",
       "      <td>6213</td>\n",
       "      <td>hijack</td>\n",
       "      <td>Sacramento, CA</td>\n",
       "      <td>California School Bus Hijacker Parole Stands h...</td>\n",
       "      <td>1</td>\n",
       "      <td>79</td>\n",
       "    </tr>\n",
       "    <tr>\n",
       "      <th>1822</th>\n",
       "      <td>2619</td>\n",
       "      <td>crash</td>\n",
       "      <td>NaN</td>\n",
       "      <td>My iPod crashed..... \\n#WeLoveYouLouis \\n#MTVH...</td>\n",
       "      <td>1</td>\n",
       "      <td>64</td>\n",
       "    </tr>\n",
       "    <tr>\n",
       "      <th>3499</th>\n",
       "      <td>5000</td>\n",
       "      <td>explos</td>\n",
       "      <td>NaN</td>\n",
       "      <td>Was in a bad ass mood today got on the elevato...</td>\n",
       "      <td>0</td>\n",
       "      <td>132</td>\n",
       "    </tr>\n",
       "    <tr>\n",
       "      <th>5825</th>\n",
       "      <td>8317</td>\n",
       "      <td>rubbl</td>\n",
       "      <td>ON</td>\n",
       "      <td>China's Stock Market Crash: Are There Gems In ...</td>\n",
       "      <td>1</td>\n",
       "      <td>92</td>\n",
       "    </tr>\n",
       "    <tr>\n",
       "      <th>7425</th>\n",
       "      <td>10622</td>\n",
       "      <td>wound</td>\n",
       "      <td>worldwide</td>\n",
       "      <td>Officer Wounded Suspect Killed in Exchange of ...</td>\n",
       "      <td>1</td>\n",
       "      <td>134</td>\n",
       "    </tr>\n",
       "  </tbody>\n",
       "</table>\n",
       "</div>"
      ],
      "text/plain": [
       "         id    keyword        location  \\\n",
       "2988   4295      drown             NaN   \n",
       "6576   9411   survivor             NaN   \n",
       "4833   6880  mass murd       Realville   \n",
       "6143   8762      siren  Brizzle City !   \n",
       "7341  10511    wildfir             USA   \n",
       "4373   6213     hijack  Sacramento, CA   \n",
       "1822   2619      crash             NaN   \n",
       "3499   5000     explos             NaN   \n",
       "5825   8317      rubbl              ON   \n",
       "7425  10622      wound       worldwide   \n",
       "\n",
       "                                                   text  target  tweet lenght  \n",
       "2988  @Homukami Only URs and SRs matter Rs you'll be...       0            98  \n",
       "6576  @MithiTennis @CrackedGem Which is why I want h...       0           135  \n",
       "4833  @FLGovScott We allow Farrakhan to  to challeng...       1           143  \n",
       "6143  @tomarse99 they all are intending to go. Just ...       1           140  \n",
       "7341  The Latest: Washington #Wildfire misses town; ...       1           100  \n",
       "4373  California School Bus Hijacker Parole Stands h...       1            79  \n",
       "1822  My iPod crashed..... \\n#WeLoveYouLouis \\n#MTVH...       1            64  \n",
       "3499  Was in a bad ass mood today got on the elevato...       0           132  \n",
       "5825  China's Stock Market Crash: Are There Gems In ...       1            92  \n",
       "7425  Officer Wounded Suspect Killed in Exchange of ...       1           134  "
      ]
     },
     "execution_count": 36,
     "metadata": {},
     "output_type": "execute_result"
    }
   ],
   "source": [
    "stemmer = SnowballStemmer(\"english\")\n",
    "keywords['keyword'] = keywords['keyword'].apply(lambda x: stemmer.stem(str(x)))\n",
    "keywords.sample(10)"
   ]
  },
  {
   "cell_type": "markdown",
   "metadata": {},
   "source": [
    "#### Ahora vamos a buscar las raices de las 10 keywords mas usadas en tweets reales"
   ]
  },
  {
   "cell_type": "code",
   "execution_count": 37,
   "metadata": {},
   "outputs": [
    {
     "data": {
      "image/png": "[encoded data removed]",
      "text/plain": [
       "<Figure size 432x288 with 1 Axes>"
      ]
     },
     "metadata": {
      "needs_background": "light"
     },
     "output_type": "display_data"
    }
   ],
   "source": [
    "stem_real = keywords[keywords['target'] == 1]\n",
    "stem_real = stem_real['keyword'].value_counts().to_frame()\n",
    "stem_real.columns = ['keyword appearances']\n",
    "\n",
    "keywords_string = ' '.join(stem_real.head(10).index)\n",
    "wordcloud = WordCloud(stopwords=STOPWORDS, background_color='lightblue',\n",
    "                      width=600,\n",
    "                      height=200\n",
    "                     ).generate(keywords_string)\n",
    "plt.imshow(wordcloud)\n",
    "plt.axis('off')\n",
    "plt.show()\n"
   ]
  },
  {
   "cell_type": "markdown",
   "metadata": {},
   "source": [
    "#### Ahora lo mismo pero con las 10 más usadas en tweets falsos."
   ]
  },
  {
   "cell_type": "code",
   "execution_count": 38,
   "metadata": {},
   "outputs": [
    {
     "data": {
      "image/png": "[encoded data removed]",
      "text/plain": [
       "<Figure size 432x288 with 1 Axes>"
      ]
     },
     "metadata": {
      "needs_background": "light"
     },
     "output_type": "display_data"
    }
   ],
   "source": [
    "stem_fake = keywords[keywords['target'] == 0]\n",
    "stem_fake = stem_fake['keyword'].value_counts().to_frame()\n",
    "stem_fake.columns = ['keyword appearances']\n",
    "\n",
    "keywords_string = ' '.join(stem_fake.head(10).index)\n",
    "wordcloud = WordCloud(stopwords=STOPWORDS, background_color='lightblue',\n",
    "                      width=600,\n",
    "                      height=200\n",
    "                     ).generate(keywords_string)\n",
    "plt.imshow(wordcloud)\n",
    "plt.axis('off')\n",
    "plt.show()"
   ]
  },
  {
   "cell_type": "markdown",
   "metadata": {},
   "source": [
    "## Análisis de la columna *location*\n",
    "#### Vamos a eliminar los tweets cuya ubicacion sea un valor NaN o nulo, que ya vimos que son 2533\n"
   ]
  },
  {
   "cell_type": "code",
   "execution_count": 39,
   "metadata": {},
   "outputs": [
    {
     "data": {
      "text/html": [
       "<div>\n",
       "<style scoped>\n",
       "    .dataframe tbody tr th:only-of-type {\n",
       "        vertical-align: middle;\n",
       "    }\n",
       "\n",
       "    .dataframe tbody tr th {\n",
       "        vertical-align: top;\n",
       "    }\n",
       "\n",
       "    .dataframe thead th {\n",
       "        text-align: right;\n",
       "    }\n",
       "</style>\n",
       "<table border=\"1\" class=\"dataframe\">\n",
       "  <thead>\n",
       "    <tr style=\"text-align: right;\">\n",
       "      <th></th>\n",
       "      <th>id</th>\n",
       "      <th>keyword</th>\n",
       "      <th>location</th>\n",
       "      <th>text</th>\n",
       "      <th>target</th>\n",
       "      <th>tweet lenght</th>\n",
       "    </tr>\n",
       "  </thead>\n",
       "  <tbody>\n",
       "    <tr>\n",
       "      <th>31</th>\n",
       "      <td>48</td>\n",
       "      <td>ablaze</td>\n",
       "      <td>Birmingham</td>\n",
       "      <td>@bbcmtd Wholesale Markets ablaze http://t.co/l...</td>\n",
       "      <td>1</td>\n",
       "      <td>55</td>\n",
       "    </tr>\n",
       "    <tr>\n",
       "      <th>32</th>\n",
       "      <td>49</td>\n",
       "      <td>ablaze</td>\n",
       "      <td>Est. September 2012 - Bristol</td>\n",
       "      <td>We always try to bring the heavy. #metal #RT h...</td>\n",
       "      <td>0</td>\n",
       "      <td>67</td>\n",
       "    </tr>\n",
       "    <tr>\n",
       "      <th>33</th>\n",
       "      <td>50</td>\n",
       "      <td>ablaze</td>\n",
       "      <td>AFRICA</td>\n",
       "      <td>#AFRICANBAZE: Breaking news:Nigeria flag set a...</td>\n",
       "      <td>1</td>\n",
       "      <td>82</td>\n",
       "    </tr>\n",
       "    <tr>\n",
       "      <th>34</th>\n",
       "      <td>52</td>\n",
       "      <td>ablaze</td>\n",
       "      <td>Philadelphia, PA</td>\n",
       "      <td>Crying out for more! Set me ablaze</td>\n",
       "      <td>0</td>\n",
       "      <td>34</td>\n",
       "    </tr>\n",
       "    <tr>\n",
       "      <th>35</th>\n",
       "      <td>53</td>\n",
       "      <td>ablaze</td>\n",
       "      <td>London, UK</td>\n",
       "      <td>On plus side LOOK AT THE SKY LAST NIGHT IT WAS...</td>\n",
       "      <td>0</td>\n",
       "      <td>76</td>\n",
       "    </tr>\n",
       "  </tbody>\n",
       "</table>\n",
       "</div>"
      ],
      "text/plain": [
       "    id keyword                       location  \\\n",
       "31  48  ablaze                     Birmingham   \n",
       "32  49  ablaze  Est. September 2012 - Bristol   \n",
       "33  50  ablaze                         AFRICA   \n",
       "34  52  ablaze               Philadelphia, PA   \n",
       "35  53  ablaze                     London, UK   \n",
       "\n",
       "                                                 text  target  tweet lenght  \n",
       "31  @bbcmtd Wholesale Markets ablaze http://t.co/l...       1            55  \n",
       "32  We always try to bring the heavy. #metal #RT h...       0            67  \n",
       "33  #AFRICANBAZE: Breaking news:Nigeria flag set a...       1            82  \n",
       "34                 Crying out for more! Set me ablaze       0            34  \n",
       "35  On plus side LOOK AT THE SKY LAST NIGHT IT WAS...       0            76  "
      ]
     },
     "execution_count": 39,
     "metadata": {},
     "output_type": "execute_result"
    }
   ],
   "source": [
    "dataframe_location = dataframe[~dataframe['location'].isnull()]\n",
    "dataframe_location.head()"
   ]
  },
  {
   "cell_type": "markdown",
   "metadata": {},
   "source": [
    "#### Sacamos los puntos finales de cada location."
   ]
  },
  {
   "cell_type": "code",
   "execution_count": 40,
   "metadata": {},
   "outputs": [
    {
     "data": {
      "text/html": [
       "<div>\n",
       "<style scoped>\n",
       "    .dataframe tbody tr th:only-of-type {\n",
       "        vertical-align: middle;\n",
       "    }\n",
       "\n",
       "    .dataframe tbody tr th {\n",
       "        vertical-align: top;\n",
       "    }\n",
       "\n",
       "    .dataframe thead th {\n",
       "        text-align: right;\n",
       "    }\n",
       "</style>\n",
       "<table border=\"1\" class=\"dataframe\">\n",
       "  <thead>\n",
       "    <tr style=\"text-align: right;\">\n",
       "      <th></th>\n",
       "      <th>id</th>\n",
       "      <th>keyword</th>\n",
       "      <th>location</th>\n",
       "      <th>text</th>\n",
       "      <th>target</th>\n",
       "      <th>tweet lenght</th>\n",
       "    </tr>\n",
       "  </thead>\n",
       "  <tbody>\n",
       "    <tr>\n",
       "      <th>31</th>\n",
       "      <td>48</td>\n",
       "      <td>ablaze</td>\n",
       "      <td>Birmingham</td>\n",
       "      <td>@bbcmtd Wholesale Markets ablaze http://t.co/l...</td>\n",
       "      <td>1</td>\n",
       "      <td>55</td>\n",
       "    </tr>\n",
       "    <tr>\n",
       "      <th>32</th>\n",
       "      <td>49</td>\n",
       "      <td>ablaze</td>\n",
       "      <td>Est September 2012 - Bristol</td>\n",
       "      <td>We always try to bring the heavy. #metal #RT h...</td>\n",
       "      <td>0</td>\n",
       "      <td>67</td>\n",
       "    </tr>\n",
       "    <tr>\n",
       "      <th>33</th>\n",
       "      <td>50</td>\n",
       "      <td>ablaze</td>\n",
       "      <td>AFRICA</td>\n",
       "      <td>#AFRICANBAZE: Breaking news:Nigeria flag set a...</td>\n",
       "      <td>1</td>\n",
       "      <td>82</td>\n",
       "    </tr>\n",
       "    <tr>\n",
       "      <th>34</th>\n",
       "      <td>52</td>\n",
       "      <td>ablaze</td>\n",
       "      <td>Philadelphia, PA</td>\n",
       "      <td>Crying out for more! Set me ablaze</td>\n",
       "      <td>0</td>\n",
       "      <td>34</td>\n",
       "    </tr>\n",
       "    <tr>\n",
       "      <th>35</th>\n",
       "      <td>53</td>\n",
       "      <td>ablaze</td>\n",
       "      <td>London, UK</td>\n",
       "      <td>On plus side LOOK AT THE SKY LAST NIGHT IT WAS...</td>\n",
       "      <td>0</td>\n",
       "      <td>76</td>\n",
       "    </tr>\n",
       "  </tbody>\n",
       "</table>\n",
       "</div>"
      ],
      "text/plain": [
       "    id keyword                      location  \\\n",
       "31  48  ablaze                    Birmingham   \n",
       "32  49  ablaze  Est September 2012 - Bristol   \n",
       "33  50  ablaze                        AFRICA   \n",
       "34  52  ablaze              Philadelphia, PA   \n",
       "35  53  ablaze                    London, UK   \n",
       "\n",
       "                                                 text  target  tweet lenght  \n",
       "31  @bbcmtd Wholesale Markets ablaze http://t.co/l...       1            55  \n",
       "32  We always try to bring the heavy. #metal #RT h...       0            67  \n",
       "33  #AFRICANBAZE: Breaking news:Nigeria flag set a...       1            82  \n",
       "34                 Crying out for more! Set me ablaze       0            34  \n",
       "35  On plus side LOOK AT THE SKY LAST NIGHT IT WAS...       0            76  "
      ]
     },
     "execution_count": 40,
     "metadata": {},
     "output_type": "execute_result"
    }
   ],
   "source": [
    "dataframe_location['location'] = dataframe_location['location'].str.replace('.','')\n",
    "dataframe_location.head()"
   ]
  },
  {
   "cell_type": "markdown",
   "metadata": {},
   "source": [
    "#### Vamos a cambiar las ubicaciones que existan en la libreria GeoText"
   ]
  },
  {
   "cell_type": "code",
   "execution_count": 41,
   "metadata": {},
   "outputs": [
    {
     "data": {
      "text/html": [
       "<div>\n",
       "<style scoped>\n",
       "    .dataframe tbody tr th:only-of-type {\n",
       "        vertical-align: middle;\n",
       "    }\n",
       "\n",
       "    .dataframe tbody tr th {\n",
       "        vertical-align: top;\n",
       "    }\n",
       "\n",
       "    .dataframe thead th {\n",
       "        text-align: right;\n",
       "    }\n",
       "</style>\n",
       "<table border=\"1\" class=\"dataframe\">\n",
       "  <thead>\n",
       "    <tr style=\"text-align: right;\">\n",
       "      <th></th>\n",
       "      <th>id</th>\n",
       "      <th>keyword</th>\n",
       "      <th>location</th>\n",
       "      <th>text</th>\n",
       "      <th>target</th>\n",
       "      <th>tweet lenght</th>\n",
       "    </tr>\n",
       "  </thead>\n",
       "  <tbody>\n",
       "    <tr>\n",
       "      <th>31</th>\n",
       "      <td>48</td>\n",
       "      <td>ablaze</td>\n",
       "      <td>Birmingham</td>\n",
       "      <td>@bbcmtd Wholesale Markets ablaze http://t.co/l...</td>\n",
       "      <td>1</td>\n",
       "      <td>55</td>\n",
       "    </tr>\n",
       "    <tr>\n",
       "      <th>32</th>\n",
       "      <td>49</td>\n",
       "      <td>ablaze</td>\n",
       "      <td>Bristol</td>\n",
       "      <td>We always try to bring the heavy. #metal #RT h...</td>\n",
       "      <td>0</td>\n",
       "      <td>67</td>\n",
       "    </tr>\n",
       "    <tr>\n",
       "      <th>33</th>\n",
       "      <td>50</td>\n",
       "      <td>ablaze</td>\n",
       "      <td>Africa</td>\n",
       "      <td>#AFRICANBAZE: Breaking news:Nigeria flag set a...</td>\n",
       "      <td>1</td>\n",
       "      <td>82</td>\n",
       "    </tr>\n",
       "    <tr>\n",
       "      <th>34</th>\n",
       "      <td>52</td>\n",
       "      <td>ablaze</td>\n",
       "      <td>Philadelphia</td>\n",
       "      <td>Crying out for more! Set me ablaze</td>\n",
       "      <td>0</td>\n",
       "      <td>34</td>\n",
       "    </tr>\n",
       "    <tr>\n",
       "      <th>35</th>\n",
       "      <td>53</td>\n",
       "      <td>ablaze</td>\n",
       "      <td>London</td>\n",
       "      <td>On plus side LOOK AT THE SKY LAST NIGHT IT WAS...</td>\n",
       "      <td>0</td>\n",
       "      <td>76</td>\n",
       "    </tr>\n",
       "  </tbody>\n",
       "</table>\n",
       "</div>"
      ],
      "text/plain": [
       "    id keyword      location  \\\n",
       "31  48  ablaze    Birmingham   \n",
       "32  49  ablaze       Bristol   \n",
       "33  50  ablaze        Africa   \n",
       "34  52  ablaze  Philadelphia   \n",
       "35  53  ablaze        London   \n",
       "\n",
       "                                                 text  target  tweet lenght  \n",
       "31  @bbcmtd Wholesale Markets ablaze http://t.co/l...       1            55  \n",
       "32  We always try to bring the heavy. #metal #RT h...       0            67  \n",
       "33  #AFRICANBAZE: Breaking news:Nigeria flag set a...       1            82  \n",
       "34                 Crying out for more! Set me ablaze       0            34  \n",
       "35  On plus side LOOK AT THE SKY LAST NIGHT IT WAS...       0            76  "
      ]
     },
     "execution_count": 41,
     "metadata": {},
     "output_type": "execute_result"
    }
   ],
   "source": [
    "def localization(string):\n",
    "   \n",
    "    places = geotext.GeoText(string)\n",
    "    cities = places.cities\n",
    "    if len(cities) == 0:\n",
    "        return string\n",
    "    return cities[0]\n",
    "\n",
    "dataframe_location['location'] = dataframe_location['location'].str.title()\n",
    "dataframe_location['location'] = dataframe_location['location'].map(lambda x: localization(x))\n",
    "dataframe_location.head()"
   ]
  },
  {
   "cell_type": "markdown",
   "metadata": {},
   "source": [
    "#### ¿En qué ubicación se redactaron la mayoria de los tweets?"
   ]
  },
  {
   "cell_type": "code",
   "execution_count": 42,
   "metadata": {},
   "outputs": [
    {
     "data": {
      "text/html": [
       "<div>\n",
       "<style scoped>\n",
       "    .dataframe tbody tr th:only-of-type {\n",
       "        vertical-align: middle;\n",
       "    }\n",
       "\n",
       "    .dataframe tbody tr th {\n",
       "        vertical-align: top;\n",
       "    }\n",
       "\n",
       "    .dataframe thead th {\n",
       "        text-align: right;\n",
       "    }\n",
       "</style>\n",
       "<table border=\"1\" class=\"dataframe\">\n",
       "  <thead>\n",
       "    <tr style=\"text-align: right;\">\n",
       "      <th></th>\n",
       "      <th>location</th>\n",
       "      <th>target</th>\n",
       "      <th>appearances</th>\n",
       "    </tr>\n",
       "  </thead>\n",
       "  <tbody>\n",
       "    <tr>\n",
       "      <th>1784</th>\n",
       "      <td>New York</td>\n",
       "      <td>0</td>\n",
       "      <td>90</td>\n",
       "    </tr>\n",
       "    <tr>\n",
       "      <th>2691</th>\n",
       "      <td>Usa</td>\n",
       "      <td>1</td>\n",
       "      <td>70</td>\n",
       "    </tr>\n",
       "    <tr>\n",
       "      <th>1508</th>\n",
       "      <td>London</td>\n",
       "      <td>0</td>\n",
       "      <td>65</td>\n",
       "    </tr>\n",
       "    <tr>\n",
       "      <th>1785</th>\n",
       "      <td>New York</td>\n",
       "      <td>1</td>\n",
       "      <td>38</td>\n",
       "    </tr>\n",
       "    <tr>\n",
       "      <th>2690</th>\n",
       "      <td>Usa</td>\n",
       "      <td>0</td>\n",
       "      <td>38</td>\n",
       "    </tr>\n",
       "  </tbody>\n",
       "</table>\n",
       "</div>"
      ],
      "text/plain": [
       "      location  target  appearances\n",
       "1784  New York       0           90\n",
       "2691       Usa       1           70\n",
       "1508    London       0           65\n",
       "1785  New York       1           38\n",
       "2690       Usa       0           38"
      ]
     },
     "execution_count": 42,
     "metadata": {},
     "output_type": "execute_result"
    }
   ],
   "source": [
    "location_appearances = dataframe_location.copy()\n",
    "location_appearances['appearances'] = 1\n",
    "location_appearances = location_appearances.groupby(['location','target'],as_index=False).agg({'appearances':'sum'})\n",
    "location_appearances = location_appearances.sort_values('appearances', ascending = False)\n",
    "location_appearances = location_appearances[location_appearances['appearances'] >= 10]\n",
    "location_appearances.head()"
   ]
  },
  {
   "cell_type": "markdown",
   "metadata": {},
   "source": [
    "#### TOP-10 de ubicaciones donde se hayan redactado tweets reales."
   ]
  },
  {
   "cell_type": "code",
   "execution_count": 43,
   "metadata": {},
   "outputs": [
    {
     "data": {
      "image/png": "[encoded data removed]",
      "text/plain": [
       "<Figure size 432x288 with 1 Axes>"
      ]
     },
     "metadata": {
      "needs_background": "light"
     },
     "output_type": "display_data"
    }
   ],
   "source": [
    "real_tweets_location = location_appearances[location_appearances['target'] == 1]\n",
    "\n",
    "ax = sns.barplot(x = \"location\", y = \"appearances\", data = real_tweets_location.head(10))\n",
    "ax.set_title('Cantidad de tweets verdaderos por ubicacion', fontsize=22)\n",
    "ax.set_xlabel('Ubicacion', fontsize=17)\n",
    "ax.set_ylabel('Cantidad de tweets', fontsize=17)\n",
    "ax.tick_params(axis='both', labelsize = 13)"
   ]
  },
  {
   "cell_type": "markdown",
   "metadata": {},
   "source": [
    "#### TOP-10 de ubicaciones donde se hayan redactado tweets falsos."
   ]
  },
  {
   "cell_type": "code",
   "execution_count": 44,
   "metadata": {},
   "outputs": [
    {
     "data": {
      "image/png": "[encoded data removed]",
      "text/plain": [
       "<Figure size 432x288 with 1 Axes>"
      ]
     },
     "metadata": {
      "needs_background": "light"
     },
     "output_type": "display_data"
    }
   ],
   "source": [
    "fake_tweets_location = location_appearances[location_appearances['target'] == 0]\n",
    "\n",
    "ax = sns.barplot(x = \"location\", y = \"appearances\", data = fake_tweets_location.head(10))\n",
    "ax.set_title('Cantidad de tweets falsos por ubicacion', fontsize=22)\n",
    "ax.set_xlabel('Ubicacion', fontsize=17)\n",
    "ax.set_ylabel('Cantidad de tweets', fontsize=17)\n",
    "ax.tick_params(axis='both', labelsize = 13)"
   ]
  },
  {
   "cell_type": "markdown",
   "metadata": {},
   "source": [
    "## Análisis exploratorio de datos provenientes de Estados Unidos\n",
    "#### El *¿Por qué?* de éste análisis\n",
    "Notamos que para un gran porcentje de tweets la ubicación conocida es o bien su país de procedencia, siendo este Estados Unidos, o bien un estado o ciudad ubicados dentro del territorio estadounidense.\n",
    "\n",
    "#### Agregamos al dataframe dos columnas: 1.Columna **located**: contendrá la ubicación detectada. 2.Columna **location_type**: me servirá para saber el tipo de ubicación, es decir si corresponde al pais(P), a un estado(E) o a una ciudad(C)"
   ]
  },
  {
   "cell_type": "code",
   "execution_count": 45,
   "metadata": {},
   "outputs": [
    {
     "data": {
      "text/html": [
       "<div>\n",
       "<style scoped>\n",
       "    .dataframe tbody tr th:only-of-type {\n",
       "        vertical-align: middle;\n",
       "    }\n",
       "\n",
       "    .dataframe tbody tr th {\n",
       "        vertical-align: top;\n",
       "    }\n",
       "\n",
       "    .dataframe thead th {\n",
       "        text-align: right;\n",
       "    }\n",
       "</style>\n",
       "<table border=\"1\" class=\"dataframe\">\n",
       "  <thead>\n",
       "    <tr style=\"text-align: right;\">\n",
       "      <th></th>\n",
       "      <th>id</th>\n",
       "      <th>keyword</th>\n",
       "      <th>location</th>\n",
       "      <th>text</th>\n",
       "      <th>target</th>\n",
       "      <th>tweet lenght</th>\n",
       "      <th>located</th>\n",
       "      <th>location_type</th>\n",
       "    </tr>\n",
       "  </thead>\n",
       "  <tbody>\n",
       "    <tr>\n",
       "      <th>31</th>\n",
       "      <td>48</td>\n",
       "      <td>ablaze</td>\n",
       "      <td>Birmingham</td>\n",
       "      <td>@bbcmtd Wholesale Markets ablaze http://t.co/l...</td>\n",
       "      <td>1</td>\n",
       "      <td>55</td>\n",
       "      <td>-</td>\n",
       "      <td>-</td>\n",
       "    </tr>\n",
       "    <tr>\n",
       "      <th>32</th>\n",
       "      <td>49</td>\n",
       "      <td>ablaze</td>\n",
       "      <td>Est. September 2012 - Bristol</td>\n",
       "      <td>We always try to bring the heavy. #metal #RT h...</td>\n",
       "      <td>0</td>\n",
       "      <td>67</td>\n",
       "      <td>-</td>\n",
       "      <td>-</td>\n",
       "    </tr>\n",
       "    <tr>\n",
       "      <th>33</th>\n",
       "      <td>50</td>\n",
       "      <td>ablaze</td>\n",
       "      <td>AFRICA</td>\n",
       "      <td>#AFRICANBAZE: Breaking news:Nigeria flag set a...</td>\n",
       "      <td>1</td>\n",
       "      <td>82</td>\n",
       "      <td>-</td>\n",
       "      <td>-</td>\n",
       "    </tr>\n",
       "    <tr>\n",
       "      <th>34</th>\n",
       "      <td>52</td>\n",
       "      <td>ablaze</td>\n",
       "      <td>Philadelphia, PA</td>\n",
       "      <td>Crying out for more! Set me ablaze</td>\n",
       "      <td>0</td>\n",
       "      <td>34</td>\n",
       "      <td>-</td>\n",
       "      <td>-</td>\n",
       "    </tr>\n",
       "    <tr>\n",
       "      <th>35</th>\n",
       "      <td>53</td>\n",
       "      <td>ablaze</td>\n",
       "      <td>London, UK</td>\n",
       "      <td>On plus side LOOK AT THE SKY LAST NIGHT IT WAS...</td>\n",
       "      <td>0</td>\n",
       "      <td>76</td>\n",
       "      <td>-</td>\n",
       "      <td>-</td>\n",
       "    </tr>\n",
       "  </tbody>\n",
       "</table>\n",
       "</div>"
      ],
      "text/plain": [
       "    id keyword                       location  \\\n",
       "31  48  ablaze                     Birmingham   \n",
       "32  49  ablaze  Est. September 2012 - Bristol   \n",
       "33  50  ablaze                         AFRICA   \n",
       "34  52  ablaze               Philadelphia, PA   \n",
       "35  53  ablaze                     London, UK   \n",
       "\n",
       "                                                 text  target  tweet lenght  \\\n",
       "31  @bbcmtd Wholesale Markets ablaze http://t.co/l...       1            55   \n",
       "32  We always try to bring the heavy. #metal #RT h...       0            67   \n",
       "33  #AFRICANBAZE: Breaking news:Nigeria flag set a...       1            82   \n",
       "34                 Crying out for more! Set me ablaze       0            34   \n",
       "35  On plus side LOOK AT THE SKY LAST NIGHT IT WAS...       0            76   \n",
       "\n",
       "   located location_type  \n",
       "31       -             -  \n",
       "32       -             -  \n",
       "33       -             -  \n",
       "34       -             -  \n",
       "35       -             -  "
      ]
     },
     "execution_count": 45,
     "metadata": {},
     "output_type": "execute_result"
    }
   ],
   "source": [
    "dataframe_usa = dataframe[~dataframe['location'].isnull()]\n",
    "dataframe_usa['located'] = '-'\n",
    "dataframe_usa['location_type'] = '-'\n",
    "dataframe_usa.head()"
   ]
  },
  {
   "cell_type": "markdown",
   "metadata": {},
   "source": [
    "Se comenzará con el proceso de detección de ubicaciones relacionadas a Estados Unidos. Se irá de lo más específico a lo más global(ciudad->estado->pais) con el objetivo de no perder información en el camino."
   ]
  },
  {
   "cell_type": "markdown",
   "metadata": {},
   "source": [
    "#### Para ayudarnos en el análisis vamos a utilizar un archivo csv el cual contiene todos los estados y ciudades de Estados unidos"
   ]
  },
  {
   "cell_type": "code",
   "execution_count": 46,
   "metadata": {},
   "outputs": [
    {
     "data": {
      "text/html": [
       "<div>\n",
       "<style scoped>\n",
       "    .dataframe tbody tr th:only-of-type {\n",
       "        vertical-align: middle;\n",
       "    }\n",
       "\n",
       "    .dataframe tbody tr th {\n",
       "        vertical-align: top;\n",
       "    }\n",
       "\n",
       "    .dataframe thead th {\n",
       "        text-align: right;\n",
       "    }\n",
       "</style>\n",
       "<table border=\"1\" class=\"dataframe\">\n",
       "  <thead>\n",
       "    <tr style=\"text-align: right;\">\n",
       "      <th></th>\n",
       "      <th>City</th>\n",
       "      <th>State</th>\n",
       "    </tr>\n",
       "  </thead>\n",
       "  <tbody>\n",
       "    <tr>\n",
       "      <th>0</th>\n",
       "      <td>Abilene</td>\n",
       "      <td>Texas</td>\n",
       "    </tr>\n",
       "    <tr>\n",
       "      <th>1</th>\n",
       "      <td>Akron</td>\n",
       "      <td>Ohio</td>\n",
       "    </tr>\n",
       "    <tr>\n",
       "      <th>2</th>\n",
       "      <td>Albuquerque</td>\n",
       "      <td>New Mexico</td>\n",
       "    </tr>\n",
       "    <tr>\n",
       "      <th>3</th>\n",
       "      <td>Alexandria</td>\n",
       "      <td>Virginia</td>\n",
       "    </tr>\n",
       "    <tr>\n",
       "      <th>4</th>\n",
       "      <td>Allentown</td>\n",
       "      <td>Pennsylvania</td>\n",
       "    </tr>\n",
       "  </tbody>\n",
       "</table>\n",
       "</div>"
      ],
      "text/plain": [
       "          City         State\n",
       "0      Abilene         Texas\n",
       "1        Akron          Ohio\n",
       "2  Albuquerque    New Mexico\n",
       "3   Alexandria      Virginia\n",
       "4    Allentown  Pennsylvania"
      ]
     },
     "execution_count": 46,
     "metadata": {},
     "output_type": "execute_result"
    }
   ],
   "source": [
    "united_states = pd.read_csv('archivo.csv')\n",
    "united_states.dropna(inplace=True)\n",
    "united_states.head()"
   ]
  },
  {
   "cell_type": "markdown",
   "metadata": {},
   "source": [
    "#### OBSERVACIÓN IMPORTANTE\n",
    "**New York** es nombre tanto de ciudad como de estado. Los registros que se correspondan con este string serán considerados que pertenecen a la ciudad de Nueva York y seran considerados tambien cuando se haga referencia a dicho estado."
   ]
  },
  {
   "cell_type": "code",
   "execution_count": 47,
   "metadata": {},
   "outputs": [
    {
     "data": {
      "text/plain": [
       "New York    1\n",
       "Name: City, dtype: int64"
      ]
     },
     "execution_count": 47,
     "metadata": {},
     "output_type": "execute_result"
    }
   ],
   "source": [
    "def detectar_iguales(ciudad):\n",
    "    estados = united_states['State'].drop_duplicates().tolist()\n",
    "    if str(ciudad) in estados:\n",
    "        return ciudad\n",
    "    return None\n",
    "\n",
    "united_states['City'].transform(detectar_iguales).value_counts()"
   ]
  },
  {
   "cell_type": "markdown",
   "metadata": {},
   "source": [
    "### Paso 1: detectar ciudad\n",
    "En primer lugar vamos detectar todos aquellos registros cuya ubicación contenga el nombre de alguna ciudad de Estados Unidos. Con este objetivo se define la siguiente función:"
   ]
  },
  {
   "cell_type": "code",
   "execution_count": 48,
   "metadata": {},
   "outputs": [
    {
     "data": {
      "text/plain": [
       "-    3987\n",
       "C    1093\n",
       "Name: location_type, dtype: int64"
      ]
     },
     "execution_count": 48,
     "metadata": {},
     "output_type": "execute_result"
    }
   ],
   "source": [
    "def detectar_ciudades(x):\n",
    "    ciudades = united_states['City'].tolist()\n",
    "    for ciudad in ciudades:\n",
    "        if ciudad.upper() in str(x).upper():\n",
    "            return ciudad\n",
    "    return \"-\"\n",
    "\n",
    "result = dataframe_usa[dataframe_usa['located']==\"-\"]['location'].transform(detectar_ciudades)\n",
    "for indice in result.index.tolist():\n",
    "    deteccion = result.loc[indice]\n",
    "    if deteccion != '-':\n",
    "        dataframe_usa.loc[indice,'located']= deteccion\n",
    "        dataframe_usa.loc[indice,'location_type']='C'\n",
    "        \n",
    "dataframe_usa['location_type'].value_counts()"
   ]
  },
  {
   "cell_type": "markdown",
   "metadata": {},
   "source": [
    "Hasta el momento tenemos detectada la procedencia de 1093 registros provenientes de Estados Unidos.Hasta el momento tenemos detectada la procedencia de 1093 registros provenientes de Estados Unidos.\n",
    "\n",
    "### Paso 2: detectar estados\n",
    "Vamos a investigar los registros que aún no fueron localizados. La intención es detectar todos aquellos registros cuya ubicación contenga un estado de Estados Unidos.\n",
    "#### Definamos una función que me permita detectar si un string coincide con el nombre de un estado de Estados Unidos."
   ]
  },
  {
   "cell_type": "code",
   "execution_count": 49,
   "metadata": {},
   "outputs": [
    {
     "data": {
      "text/plain": [
       "-    3527\n",
       "C    1093\n",
       "E     460\n",
       "Name: location_type, dtype: int64"
      ]
     },
     "execution_count": 49,
     "metadata": {},
     "output_type": "execute_result"
    }
   ],
   "source": [
    "def detectar_estados(x):\n",
    "    \"\"\"indica si una cadena es exactamente igual al nombre de un estado de Estados Unidos\"\"\"\n",
    "    estados = united_states['State'].drop_duplicates().tolist()\n",
    "    \n",
    "    for estado in estados:\n",
    "        if estado.upper() in str(x).upper():\n",
    "            return estado\n",
    "    return \"-\"\n",
    "\n",
    "result = dataframe_usa[dataframe_usa['located'] == '-']['location'].transform(detectar_estados)\n",
    "for indice in result.index.tolist():\n",
    "    deteccion = result.loc[indice]\n",
    "    if deteccion != '-':\n",
    "        dataframe_usa.loc[indice,'located'] = deteccion\n",
    "        dataframe_usa.loc[indice,'location_type'] = 'E'\n",
    "        \n",
    "dataframe_usa['location_type'].value_counts()"
   ]
  },
  {
   "cell_type": "markdown",
   "metadata": {},
   "source": [
    "### Paso 3: detectar pais\n",
    "Solo nos queda detectar todos aquellos registros que contienen explicitamente el nombre del pais en Estados Unidos en cualquiera de sus variantes\n",
    "#### Se crea entonces una función que será la encargada de hacer las comparaciones"
   ]
  },
  {
   "cell_type": "code",
   "execution_count": 50,
   "metadata": {},
   "outputs": [
    {
     "data": {
      "text/plain": [
       "-    3358\n",
       "C    1093\n",
       "E     460\n",
       "P     169\n",
       "Name: location_type, dtype: int64"
      ]
     },
     "execution_count": 50,
     "metadata": {},
     "output_type": "execute_result"
    }
   ],
   "source": [
    "def reconocer_estados_unidos(x):\n",
    "    \n",
    "    \"Indica si una cadena contiene la palabra estados unidos en alguna de sus variantes\"\n",
    "    posibilidades = ['UNITED STATES','USA','US','U.S.A','EE.UU.','EEUU','EE UU','ESTADOS UNIDOS','840']\n",
    "    for posibilidad in posibilidades:\n",
    "        if posibilidad.upper() == str(x).upper():\n",
    "            return 'United States'\n",
    "    return \"-\"\n",
    "\n",
    "result = dataframe_usa[dataframe_usa['located']=='-']['location'].transform(reconocer_estados_unidos)\n",
    "for indice in result.index.tolist():\n",
    "    deteccion = result.loc[indice]\n",
    "    if deteccion != '-':\n",
    "        dataframe_usa.loc[indice,'located'] = deteccion\n",
    "        dataframe_usa.loc[indice,'location_type'] = 'P'\n",
    "\n",
    "dataframe_usa['location_type'].value_counts()"
   ]
  },
  {
   "cell_type": "markdown",
   "metadata": {},
   "source": [
    "Se detectaron 169 registros contienen como ubicación alguna referencia a Estados Unidos. **Total detectados: 1722**.\n",
    "### Paso 4: agregamos algunos manualmente\n",
    "Se revisan algunos casos particulares.\n",
    "Se observa algunos registros que no fueron detectados, podemos agregarlos a mano"
   ]
  },
  {
   "cell_type": "code",
   "execution_count": 51,
   "metadata": {},
   "outputs": [
    {
     "data": {
      "text/plain": [
       "-    3331\n",
       "C    1116\n",
       "E     464\n",
       "P     169\n",
       "Name: location_type, dtype: int64"
      ]
     },
     "execution_count": 51,
     "metadata": {},
     "output_type": "execute_result"
    }
   ],
   "source": [
    "list_unmatched_states = ['NYC','NY','Brooklyn, NY']\n",
    "indices = dataframe_usa[dataframe_usa['location'].isin(list_unmatched_states)].index.tolist()\n",
    "\n",
    "for indice in indices:\n",
    "    dataframe_usa.loc[indice,'located'] = 'New York'\n",
    "    dataframe_usa.loc[indice,'location_type'] = 'C'\n",
    "    \n",
    "indices = dataframe_usa[dataframe_usa['location'] == \"Haddonfield, NJ\"].index.tolist()\n",
    "for indice in indices:\n",
    "    dataframe_usa.loc[indice,'located'] = 'New Jersey'\n",
    "    dataframe_usa.loc[indice,'location_type'] = 'E'\n",
    "    \n",
    "dataframe_usa['location_type'].value_counts()"
   ]
  },
  {
   "cell_type": "markdown",
   "metadata": {},
   "source": [
    "Resultado final: **1749 registros localizados**.\n",
    "\n",
    "Ahora vemos como quedó nuestro dataframe sobre el cual realizaremos un nuevo análissi exploratorio"
   ]
  },
  {
   "cell_type": "code",
   "execution_count": 52,
   "metadata": {},
   "outputs": [
    {
     "data": {
      "text/html": [
       "<div>\n",
       "<style scoped>\n",
       "    .dataframe tbody tr th:only-of-type {\n",
       "        vertical-align: middle;\n",
       "    }\n",
       "\n",
       "    .dataframe tbody tr th {\n",
       "        vertical-align: top;\n",
       "    }\n",
       "\n",
       "    .dataframe thead th {\n",
       "        text-align: right;\n",
       "    }\n",
       "</style>\n",
       "<table border=\"1\" class=\"dataframe\">\n",
       "  <thead>\n",
       "    <tr style=\"text-align: right;\">\n",
       "      <th></th>\n",
       "      <th>id</th>\n",
       "      <th>keyword</th>\n",
       "      <th>text</th>\n",
       "      <th>target</th>\n",
       "      <th>tweet lenght</th>\n",
       "      <th>located</th>\n",
       "      <th>location_type</th>\n",
       "    </tr>\n",
       "  </thead>\n",
       "  <tbody>\n",
       "    <tr>\n",
       "      <th>1155</th>\n",
       "      <td>1663</td>\n",
       "      <td>bombing</td>\n",
       "      <td>I think bombing Iran would be kinder... https:...</td>\n",
       "      <td>0</td>\n",
       "      <td>63</td>\n",
       "      <td>Washington</td>\n",
       "      <td>E</td>\n",
       "    </tr>\n",
       "    <tr>\n",
       "      <th>757</th>\n",
       "      <td>1093</td>\n",
       "      <td>blew%20up</td>\n",
       "      <td>The universe might not actually exist scientis...</td>\n",
       "      <td>0</td>\n",
       "      <td>118</td>\n",
       "      <td>Hampton</td>\n",
       "      <td>C</td>\n",
       "    </tr>\n",
       "    <tr>\n",
       "      <th>3840</th>\n",
       "      <td>5465</td>\n",
       "      <td>flames</td>\n",
       "      <td>*NEW* Snap On Tools Black baseball Hat/Cap Sil...</td>\n",
       "      <td>0</td>\n",
       "      <td>139</td>\n",
       "      <td>New York</td>\n",
       "      <td>C</td>\n",
       "    </tr>\n",
       "    <tr>\n",
       "      <th>276</th>\n",
       "      <td>402</td>\n",
       "      <td>apocalypse</td>\n",
       "      <td>Apocalypse please</td>\n",
       "      <td>0</td>\n",
       "      <td>17</td>\n",
       "      <td>Texas</td>\n",
       "      <td>E</td>\n",
       "    </tr>\n",
       "    <tr>\n",
       "      <th>6998</th>\n",
       "      <td>10035</td>\n",
       "      <td>twister</td>\n",
       "      <td>@briannafrost Twister with Bill Paxton and Hel...</td>\n",
       "      <td>0</td>\n",
       "      <td>54</td>\n",
       "      <td>Plano</td>\n",
       "      <td>C</td>\n",
       "    </tr>\n",
       "    <tr>\n",
       "      <th>63</th>\n",
       "      <td>91</td>\n",
       "      <td>ablaze</td>\n",
       "      <td>@Navista7 Steve these fires out here are somet...</td>\n",
       "      <td>1</td>\n",
       "      <td>138</td>\n",
       "      <td>Concord</td>\n",
       "      <td>C</td>\n",
       "    </tr>\n",
       "    <tr>\n",
       "      <th>3672</th>\n",
       "      <td>5227</td>\n",
       "      <td>fatality</td>\n",
       "      <td>@Tellyfckngo @JayCootchi nah you hit homie wit...</td>\n",
       "      <td>0</td>\n",
       "      <td>125</td>\n",
       "      <td>New Jersey</td>\n",
       "      <td>E</td>\n",
       "    </tr>\n",
       "    <tr>\n",
       "      <th>2404</th>\n",
       "      <td>3462</td>\n",
       "      <td>derailed</td>\n",
       "      <td>DC Media: tip for getting updates on the derai...</td>\n",
       "      <td>1</td>\n",
       "      <td>129</td>\n",
       "      <td>Washington</td>\n",
       "      <td>E</td>\n",
       "    </tr>\n",
       "    <tr>\n",
       "      <th>4067</th>\n",
       "      <td>5780</td>\n",
       "      <td>forest%20fires</td>\n",
       "      <td>U.S. Forest Service says spending more than ha...</td>\n",
       "      <td>1</td>\n",
       "      <td>109</td>\n",
       "      <td>Pennsylvania</td>\n",
       "      <td>E</td>\n",
       "    </tr>\n",
       "    <tr>\n",
       "      <th>3686</th>\n",
       "      <td>5245</td>\n",
       "      <td>fatality</td>\n",
       "      <td>@Chrisman528 fatality ...</td>\n",
       "      <td>0</td>\n",
       "      <td>25</td>\n",
       "      <td>Houston</td>\n",
       "      <td>C</td>\n",
       "    </tr>\n",
       "  </tbody>\n",
       "</table>\n",
       "</div>"
      ],
      "text/plain": [
       "         id         keyword  \\\n",
       "1155   1663         bombing   \n",
       "757    1093       blew%20up   \n",
       "3840   5465          flames   \n",
       "276     402      apocalypse   \n",
       "6998  10035         twister   \n",
       "63       91          ablaze   \n",
       "3672   5227        fatality   \n",
       "2404   3462        derailed   \n",
       "4067   5780  forest%20fires   \n",
       "3686   5245        fatality   \n",
       "\n",
       "                                                   text  target  tweet lenght  \\\n",
       "1155  I think bombing Iran would be kinder... https:...       0            63   \n",
       "757   The universe might not actually exist scientis...       0           118   \n",
       "3840  *NEW* Snap On Tools Black baseball Hat/Cap Sil...       0           139   \n",
       "276                                   Apocalypse please       0            17   \n",
       "6998  @briannafrost Twister with Bill Paxton and Hel...       0            54   \n",
       "63    @Navista7 Steve these fires out here are somet...       1           138   \n",
       "3672  @Tellyfckngo @JayCootchi nah you hit homie wit...       0           125   \n",
       "2404  DC Media: tip for getting updates on the derai...       1           129   \n",
       "4067  U.S. Forest Service says spending more than ha...       1           109   \n",
       "3686                          @Chrisman528 fatality ...       0            25   \n",
       "\n",
       "           located location_type  \n",
       "1155    Washington             E  \n",
       "757        Hampton             C  \n",
       "3840      New York             C  \n",
       "276          Texas             E  \n",
       "6998         Plano             C  \n",
       "63         Concord             C  \n",
       "3672    New Jersey             E  \n",
       "2404    Washington             E  \n",
       "4067  Pennsylvania             E  \n",
       "3686       Houston             C  "
      ]
     },
     "execution_count": 52,
     "metadata": {},
     "output_type": "execute_result"
    }
   ],
   "source": [
    "dataframe_usa = dataframe_usa[dataframe_usa['location_type'] != '-'].drop('location',axis=1)\n",
    "dataframe_usa.sample(10)"
   ]
  },
  {
   "cell_type": "markdown",
   "metadata": {},
   "source": [
    "Ya limpio nuestro set de datos, iniciaremos un análisis sobre la veracidad de los tweets sobre desastres emitidos desde Estados Unidos. La idea es analizar la veracidad de los tweet a nivel país e intentar identificar fuentes de tweets falsos dentro del territorio estadounidense. Por otra parte se intentará descifrar si hay alguna relación entre la longitud de los tweet y su contenido con la veracidad o la falsedad de los mismos."
   ]
  },
  {
   "cell_type": "code",
   "execution_count": 53,
   "metadata": {},
   "outputs": [
    {
     "data": {
      "text/plain": [
       "0    962\n",
       "1    787\n",
       "Name: target, dtype: int64"
      ]
     },
     "execution_count": 53,
     "metadata": {},
     "output_type": "execute_result"
    }
   ],
   "source": [
    "amount_tweets_usa = dataframe_usa['target'].value_counts()\n",
    "amount_tweets_usa"
   ]
  },
  {
   "cell_type": "code",
   "execution_count": 54,
   "metadata": {},
   "outputs": [
    {
     "data": {
      "image/png": "[encoded data removed]",
      "text/plain": [
       "<Figure size 216x216 with 1 Axes>"
      ]
     },
     "metadata": {},
     "output_type": "display_data"
    }
   ],
   "source": [
    "colores = ['tomato','mediumseagreen']\n",
    "plt.figure(figsize=(3,3))\n",
    "plt.title('Veracidad de tweets emitidos en Estados Unidos',fontsize=16,fontweight='bold')\n",
    "plt.pie(dataframe_usa['target'].value_counts(), labels=['tweets falsos','tweets verdaderos'],autopct=\"%0.1f %%\",colors = colores)\n",
    "plt.show()"
   ]
  },
  {
   "cell_type": "markdown",
   "metadata": {},
   "source": [
    "Analicemos la veracidad de los tweets por estado. Veamos si encontramos algún estado en donde: o bien la diferencia porcentual encontrada a nivel país se agrande o bien se invierta la tendencia y detectemos que la cantidad de tweets verdaderos supera a los falsos.\n",
    "\n",
    "#### Seleccionemos aquellos tweets para los que tenemos información sobre su estado"
   ]
  },
  {
   "cell_type": "code",
   "execution_count": 55,
   "metadata": {},
   "outputs": [
    {
     "data": {
      "text/html": [
       "<div>\n",
       "<style scoped>\n",
       "    .dataframe tbody tr th:only-of-type {\n",
       "        vertical-align: middle;\n",
       "    }\n",
       "\n",
       "    .dataframe tbody tr th {\n",
       "        vertical-align: top;\n",
       "    }\n",
       "\n",
       "    .dataframe thead th {\n",
       "        text-align: right;\n",
       "    }\n",
       "</style>\n",
       "<table border=\"1\" class=\"dataframe\">\n",
       "  <thead>\n",
       "    <tr style=\"text-align: right;\">\n",
       "      <th></th>\n",
       "      <th>id</th>\n",
       "      <th>keyword</th>\n",
       "      <th>text</th>\n",
       "      <th>target</th>\n",
       "      <th>tweet lenght</th>\n",
       "      <th>State</th>\n",
       "      <th>location_type</th>\n",
       "    </tr>\n",
       "  </thead>\n",
       "  <tbody>\n",
       "    <tr>\n",
       "      <th>50</th>\n",
       "      <td>73</td>\n",
       "      <td>ablaze</td>\n",
       "      <td>Deputies: Man shot before Brighton home set ab...</td>\n",
       "      <td>1</td>\n",
       "      <td>73</td>\n",
       "      <td>Ohio</td>\n",
       "      <td>E</td>\n",
       "    </tr>\n",
       "    <tr>\n",
       "      <th>72</th>\n",
       "      <td>104</td>\n",
       "      <td>accident</td>\n",
       "      <td>Reported motor vehicle accident in Curry on He...</td>\n",
       "      <td>1</td>\n",
       "      <td>139</td>\n",
       "      <td>Alabama</td>\n",
       "      <td>E</td>\n",
       "    </tr>\n",
       "    <tr>\n",
       "      <th>74</th>\n",
       "      <td>107</td>\n",
       "      <td>accident</td>\n",
       "      <td>I-77 Mile Marker 31 South Mooresville  Iredell...</td>\n",
       "      <td>1</td>\n",
       "      <td>90</td>\n",
       "      <td>North Carolina</td>\n",
       "      <td>E</td>\n",
       "    </tr>\n",
       "    <tr>\n",
       "      <th>78</th>\n",
       "      <td>113</td>\n",
       "      <td>accident</td>\n",
       "      <td>I-77 Mile Marker 31 to 40 South Mooresville  I...</td>\n",
       "      <td>1</td>\n",
       "      <td>95</td>\n",
       "      <td>North Carolina</td>\n",
       "      <td>E</td>\n",
       "    </tr>\n",
       "    <tr>\n",
       "      <th>94</th>\n",
       "      <td>136</td>\n",
       "      <td>accident</td>\n",
       "      <td>Suffield Alberta Accident https://t.co/bPTmlF4P10</td>\n",
       "      <td>1</td>\n",
       "      <td>49</td>\n",
       "      <td>Montana</td>\n",
       "      <td>E</td>\n",
       "    </tr>\n",
       "  </tbody>\n",
       "</table>\n",
       "</div>"
      ],
      "text/plain": [
       "     id   keyword                                               text  target  \\\n",
       "50   73    ablaze  Deputies: Man shot before Brighton home set ab...       1   \n",
       "72  104  accident  Reported motor vehicle accident in Curry on He...       1   \n",
       "74  107  accident  I-77 Mile Marker 31 South Mooresville  Iredell...       1   \n",
       "78  113  accident  I-77 Mile Marker 31 to 40 South Mooresville  I...       1   \n",
       "94  136  accident  Suffield Alberta Accident https://t.co/bPTmlF4P10       1   \n",
       "\n",
       "    tweet lenght           State location_type  \n",
       "50            73            Ohio             E  \n",
       "72           139         Alabama             E  \n",
       "74            90  North Carolina             E  \n",
       "78            95  North Carolina             E  \n",
       "94            49         Montana             E  "
      ]
     },
     "execution_count": 55,
     "metadata": {},
     "output_type": "execute_result"
    }
   ],
   "source": [
    "tweets_by_state = dataframe_usa[dataframe_usa['location_type'] == 'E']\n",
    "tweets_by_state = tweets_by_state.rename(columns={'located':'State'})\n",
    "tweets_by_state.head()"
   ]
  },
  {
   "cell_type": "markdown",
   "metadata": {},
   "source": [
    "#### Seleccionemos ahora aquellos tweets para los que conocemos su ciudad pero  no su estado y obtengamos el estado desde el archivo que utilizamos anteriormente"
   ]
  },
  {
   "cell_type": "code",
   "execution_count": 56,
   "metadata": {},
   "outputs": [
    {
     "data": {
      "text/html": [
       "<div>\n",
       "<style scoped>\n",
       "    .dataframe tbody tr th:only-of-type {\n",
       "        vertical-align: middle;\n",
       "    }\n",
       "\n",
       "    .dataframe tbody tr th {\n",
       "        vertical-align: top;\n",
       "    }\n",
       "\n",
       "    .dataframe thead th {\n",
       "        text-align: right;\n",
       "    }\n",
       "</style>\n",
       "<table border=\"1\" class=\"dataframe\">\n",
       "  <thead>\n",
       "    <tr style=\"text-align: right;\">\n",
       "      <th></th>\n",
       "      <th>id</th>\n",
       "      <th>keyword</th>\n",
       "      <th>text</th>\n",
       "      <th>target</th>\n",
       "      <th>tweet lenght</th>\n",
       "      <th>State</th>\n",
       "      <th>location_type</th>\n",
       "      <th>City</th>\n",
       "    </tr>\n",
       "  </thead>\n",
       "  <tbody>\n",
       "    <tr>\n",
       "      <th>0</th>\n",
       "      <td>48</td>\n",
       "      <td>ablaze</td>\n",
       "      <td>@bbcmtd Wholesale Markets ablaze http://t.co/l...</td>\n",
       "      <td>1</td>\n",
       "      <td>55</td>\n",
       "      <td>Alabama</td>\n",
       "      <td>C</td>\n",
       "      <td>Birmingham</td>\n",
       "    </tr>\n",
       "    <tr>\n",
       "      <th>1</th>\n",
       "      <td>52</td>\n",
       "      <td>ablaze</td>\n",
       "      <td>Crying out for more! Set me ablaze</td>\n",
       "      <td>0</td>\n",
       "      <td>34</td>\n",
       "      <td>Pennsylvania</td>\n",
       "      <td>C</td>\n",
       "      <td>Philadelphia</td>\n",
       "    </tr>\n",
       "    <tr>\n",
       "      <th>2</th>\n",
       "      <td>66</td>\n",
       "      <td>ablaze</td>\n",
       "      <td>How the West was burned: Thousands of wildfire...</td>\n",
       "      <td>1</td>\n",
       "      <td>97</td>\n",
       "      <td>North Carolina</td>\n",
       "      <td>C</td>\n",
       "      <td>Greensboro</td>\n",
       "    </tr>\n",
       "    <tr>\n",
       "      <th>3</th>\n",
       "      <td>77</td>\n",
       "      <td>ablaze</td>\n",
       "      <td>Police: Arsonist Deliberately Set Black Church...</td>\n",
       "      <td>1</td>\n",
       "      <td>95</td>\n",
       "      <td>California</td>\n",
       "      <td>C</td>\n",
       "      <td>Anaheim</td>\n",
       "    </tr>\n",
       "    <tr>\n",
       "      <th>4</th>\n",
       "      <td>82</td>\n",
       "      <td>ablaze</td>\n",
       "      <td>They sky was ablaze tonight in Los Angeles. I'...</td>\n",
       "      <td>0</td>\n",
       "      <td>119</td>\n",
       "      <td>Florida</td>\n",
       "      <td>C</td>\n",
       "      <td>Hollywood</td>\n",
       "    </tr>\n",
       "  </tbody>\n",
       "</table>\n",
       "</div>"
      ],
      "text/plain": [
       "   id keyword                                               text  target  \\\n",
       "0  48  ablaze  @bbcmtd Wholesale Markets ablaze http://t.co/l...       1   \n",
       "1  52  ablaze                 Crying out for more! Set me ablaze       0   \n",
       "2  66  ablaze  How the West was burned: Thousands of wildfire...       1   \n",
       "3  77  ablaze  Police: Arsonist Deliberately Set Black Church...       1   \n",
       "4  82  ablaze  They sky was ablaze tonight in Los Angeles. I'...       0   \n",
       "\n",
       "   tweet lenght           State location_type          City  \n",
       "0            55         Alabama             C    Birmingham  \n",
       "1            34    Pennsylvania             C  Philadelphia  \n",
       "2            97  North Carolina             C    Greensboro  \n",
       "3            95      California             C       Anaheim  \n",
       "4           119         Florida             C     Hollywood  "
      ]
     },
     "execution_count": 56,
     "metadata": {},
     "output_type": "execute_result"
    }
   ],
   "source": [
    "tweets_by_city = dataframe_usa[dataframe_usa['location_type']=='C']\\\n",
    ".merge(united_states,left_on = 'located',right_on = 'City',how = 'left')\n",
    "tweets_by_city['located'] = tweets_by_city['State']\n",
    "tweets_by_city = tweets_by_city.drop(columns = ['State'])\n",
    "tweets_by_city = tweets_by_city.rename(columns={'located':'State'})\n",
    "tweets_by_city.head()"
   ]
  },
  {
   "cell_type": "markdown",
   "metadata": {},
   "source": [
    "#### Combinamos ambos dataframes en una misma tabla"
   ]
  },
  {
   "cell_type": "code",
   "execution_count": 57,
   "metadata": {},
   "outputs": [
    {
     "data": {
      "text/html": [
       "<div>\n",
       "<style scoped>\n",
       "    .dataframe tbody tr th:only-of-type {\n",
       "        vertical-align: middle;\n",
       "    }\n",
       "\n",
       "    .dataframe tbody tr th {\n",
       "        vertical-align: top;\n",
       "    }\n",
       "\n",
       "    .dataframe thead th {\n",
       "        text-align: right;\n",
       "    }\n",
       "</style>\n",
       "<table border=\"1\" class=\"dataframe\">\n",
       "  <thead>\n",
       "    <tr style=\"text-align: right;\">\n",
       "      <th></th>\n",
       "      <th>City</th>\n",
       "      <th>State</th>\n",
       "      <th>id</th>\n",
       "      <th>keyword</th>\n",
       "      <th>location_type</th>\n",
       "      <th>target</th>\n",
       "      <th>text</th>\n",
       "      <th>tweet lenght</th>\n",
       "    </tr>\n",
       "  </thead>\n",
       "  <tbody>\n",
       "    <tr>\n",
       "      <th>50</th>\n",
       "      <td>NaN</td>\n",
       "      <td>Ohio</td>\n",
       "      <td>73</td>\n",
       "      <td>ablaze</td>\n",
       "      <td>E</td>\n",
       "      <td>1</td>\n",
       "      <td>Deputies: Man shot before Brighton home set ab...</td>\n",
       "      <td>73</td>\n",
       "    </tr>\n",
       "    <tr>\n",
       "      <th>72</th>\n",
       "      <td>NaN</td>\n",
       "      <td>Alabama</td>\n",
       "      <td>104</td>\n",
       "      <td>accident</td>\n",
       "      <td>E</td>\n",
       "      <td>1</td>\n",
       "      <td>Reported motor vehicle accident in Curry on He...</td>\n",
       "      <td>139</td>\n",
       "    </tr>\n",
       "    <tr>\n",
       "      <th>74</th>\n",
       "      <td>NaN</td>\n",
       "      <td>North Carolina</td>\n",
       "      <td>107</td>\n",
       "      <td>accident</td>\n",
       "      <td>E</td>\n",
       "      <td>1</td>\n",
       "      <td>I-77 Mile Marker 31 South Mooresville  Iredell...</td>\n",
       "      <td>90</td>\n",
       "    </tr>\n",
       "    <tr>\n",
       "      <th>78</th>\n",
       "      <td>NaN</td>\n",
       "      <td>North Carolina</td>\n",
       "      <td>113</td>\n",
       "      <td>accident</td>\n",
       "      <td>E</td>\n",
       "      <td>1</td>\n",
       "      <td>I-77 Mile Marker 31 to 40 South Mooresville  I...</td>\n",
       "      <td>95</td>\n",
       "    </tr>\n",
       "    <tr>\n",
       "      <th>94</th>\n",
       "      <td>NaN</td>\n",
       "      <td>Montana</td>\n",
       "      <td>136</td>\n",
       "      <td>accident</td>\n",
       "      <td>E</td>\n",
       "      <td>1</td>\n",
       "      <td>Suffield Alberta Accident https://t.co/bPTmlF4P10</td>\n",
       "      <td>49</td>\n",
       "    </tr>\n",
       "  </tbody>\n",
       "</table>\n",
       "</div>"
      ],
      "text/plain": [
       "   City           State   id   keyword location_type  target  \\\n",
       "50  NaN            Ohio   73    ablaze             E       1   \n",
       "72  NaN         Alabama  104  accident             E       1   \n",
       "74  NaN  North Carolina  107  accident             E       1   \n",
       "78  NaN  North Carolina  113  accident             E       1   \n",
       "94  NaN         Montana  136  accident             E       1   \n",
       "\n",
       "                                                 text  tweet lenght  \n",
       "50  Deputies: Man shot before Brighton home set ab...            73  \n",
       "72  Reported motor vehicle accident in Curry on He...           139  \n",
       "74  I-77 Mile Marker 31 South Mooresville  Iredell...            90  \n",
       "78  I-77 Mile Marker 31 to 40 South Mooresville  I...            95  \n",
       "94  Suffield Alberta Accident https://t.co/bPTmlF4P10            49  "
      ]
     },
     "execution_count": 57,
     "metadata": {},
     "output_type": "execute_result"
    }
   ],
   "source": [
    "tweets_merged = pd.concat([tweets_by_state, tweets_by_city])\n",
    "tweets_merged.head()"
   ]
  },
  {
   "cell_type": "markdown",
   "metadata": {},
   "source": [
    "#### Calculamos la cantidad de tweets falsos y verdaderos por estado"
   ]
  },
  {
   "cell_type": "code",
   "execution_count": 58,
   "metadata": {},
   "outputs": [
    {
     "data": {
      "text/html": [
       "<div>\n",
       "<style scoped>\n",
       "    .dataframe tbody tr th:only-of-type {\n",
       "        vertical-align: middle;\n",
       "    }\n",
       "\n",
       "    .dataframe tbody tr th {\n",
       "        vertical-align: top;\n",
       "    }\n",
       "\n",
       "    .dataframe thead th {\n",
       "        text-align: right;\n",
       "    }\n",
       "</style>\n",
       "<table border=\"1\" class=\"dataframe\">\n",
       "  <thead>\n",
       "    <tr style=\"text-align: right;\">\n",
       "      <th></th>\n",
       "      <th></th>\n",
       "      <th>amount</th>\n",
       "    </tr>\n",
       "    <tr>\n",
       "      <th>State</th>\n",
       "      <th>target</th>\n",
       "      <th></th>\n",
       "    </tr>\n",
       "  </thead>\n",
       "  <tbody>\n",
       "    <tr>\n",
       "      <th rowspan=\"2\" valign=\"top\">Alabama</th>\n",
       "      <th>1</th>\n",
       "      <td>17</td>\n",
       "    </tr>\n",
       "    <tr>\n",
       "      <th>0</th>\n",
       "      <td>10</td>\n",
       "    </tr>\n",
       "    <tr>\n",
       "      <th rowspan=\"2\" valign=\"top\">Alaska</th>\n",
       "      <th>1</th>\n",
       "      <td>4</td>\n",
       "    </tr>\n",
       "    <tr>\n",
       "      <th>0</th>\n",
       "      <td>3</td>\n",
       "    </tr>\n",
       "    <tr>\n",
       "      <th>Arizona</th>\n",
       "      <th>1</th>\n",
       "      <td>15</td>\n",
       "    </tr>\n",
       "  </tbody>\n",
       "</table>\n",
       "</div>"
      ],
      "text/plain": [
       "                amount\n",
       "State   target        \n",
       "Alabama 1           17\n",
       "        0           10\n",
       "Alaska  1            4\n",
       "        0            3\n",
       "Arizona 1           15"
      ]
     },
     "execution_count": 58,
     "metadata": {},
     "output_type": "execute_result"
    }
   ],
   "source": [
    "tweets_amount = tweets_merged.groupby(['State']).agg({'target':'value_counts'})\n",
    "tweets_amount.columns = ['amount']\n",
    "tweets_amount.head()"
   ]
  },
  {
   "cell_type": "markdown",
   "metadata": {},
   "source": [
    "#### Calculamos la diferencia entre la cantidad de tweets verdaderos y falsos. De esta forma en todos aquellos estados en donde haya más tweet verdaderos que verdaderos el resultado será negativo y será positivo en el caso contrario."
   ]
  },
  {
   "cell_type": "code",
   "execution_count": 59,
   "metadata": {},
   "outputs": [
    {
     "data": {
      "text/html": [
       "<div>\n",
       "<style scoped>\n",
       "    .dataframe tbody tr th:only-of-type {\n",
       "        vertical-align: middle;\n",
       "    }\n",
       "\n",
       "    .dataframe tbody tr th {\n",
       "        vertical-align: top;\n",
       "    }\n",
       "\n",
       "    .dataframe thead th {\n",
       "        text-align: right;\n",
       "    }\n",
       "</style>\n",
       "<table border=\"1\" class=\"dataframe\">\n",
       "  <thead>\n",
       "    <tr style=\"text-align: right;\">\n",
       "      <th></th>\n",
       "      <th>State</th>\n",
       "      <th>0</th>\n",
       "      <th>1</th>\n",
       "      <th>diff</th>\n",
       "    </tr>\n",
       "  </thead>\n",
       "  <tbody>\n",
       "    <tr>\n",
       "      <th>0</th>\n",
       "      <td>Alabama</td>\n",
       "      <td>10.00</td>\n",
       "      <td>17.00</td>\n",
       "      <td>7.00</td>\n",
       "    </tr>\n",
       "    <tr>\n",
       "      <th>1</th>\n",
       "      <td>Alaska</td>\n",
       "      <td>3.00</td>\n",
       "      <td>4.00</td>\n",
       "      <td>1.00</td>\n",
       "    </tr>\n",
       "    <tr>\n",
       "      <th>2</th>\n",
       "      <td>Arizona</td>\n",
       "      <td>10.00</td>\n",
       "      <td>15.00</td>\n",
       "      <td>5.00</td>\n",
       "    </tr>\n",
       "    <tr>\n",
       "      <th>3</th>\n",
       "      <td>Arkansas</td>\n",
       "      <td>1.00</td>\n",
       "      <td>0.00</td>\n",
       "      <td>-1.00</td>\n",
       "    </tr>\n",
       "    <tr>\n",
       "      <th>4</th>\n",
       "      <td>California</td>\n",
       "      <td>147.00</td>\n",
       "      <td>131.00</td>\n",
       "      <td>-16.00</td>\n",
       "    </tr>\n",
       "  </tbody>\n",
       "</table>\n",
       "</div>"
      ],
      "text/plain": [
       "        State                    0                    1                 diff\n",
       "0     Alabama                10.00                17.00                 7.00\n",
       "1      Alaska                 3.00                 4.00                 1.00\n",
       "2     Arizona                10.00                15.00                 5.00\n",
       "3    Arkansas                 1.00                 0.00                -1.00\n",
       "4  California               147.00               131.00               -16.00"
      ]
     },
     "execution_count": 59,
     "metadata": {},
     "output_type": "execute_result"
    }
   ],
   "source": [
    "diff = tweets_amount.unstack().reset_index()\n",
    "diff.columns=['State','0','1']\n",
    "diff.fillna(0,inplace=True)\n",
    "diff['diff'] = diff['1'] - diff['0']\n",
    "diff.head()"
   ]
  },
  {
   "cell_type": "markdown",
   "metadata": {},
   "source": [
    "#### Hagamos ahora una visualización que nos permita apreciar los resultados obtenidos: Carguemos un archivo shapefile del que extraeremos información para poder realizar los gráficos."
   ]
  },
  {
   "cell_type": "code",
   "execution_count": 60,
   "metadata": {},
   "outputs": [
    {
     "data": {
      "text/html": [
       "<div>\n",
       "<style scoped>\n",
       "    .dataframe tbody tr th:only-of-type {\n",
       "        vertical-align: middle;\n",
       "    }\n",
       "\n",
       "    .dataframe tbody tr th {\n",
       "        vertical-align: top;\n",
       "    }\n",
       "\n",
       "    .dataframe thead th {\n",
       "        text-align: right;\n",
       "    }\n",
       "</style>\n",
       "<table border=\"1\" class=\"dataframe\">\n",
       "  <thead>\n",
       "    <tr style=\"text-align: right;\">\n",
       "      <th></th>\n",
       "      <th>STATE_NAME</th>\n",
       "      <th>geometry</th>\n",
       "    </tr>\n",
       "  </thead>\n",
       "  <tbody>\n",
       "    <tr>\n",
       "      <th>0</th>\n",
       "      <td>Washington</td>\n",
       "      <td>MULTIPOLYGON (((-122.40202 48.22522, -122.4628...</td>\n",
       "    </tr>\n",
       "    <tr>\n",
       "      <th>1</th>\n",
       "      <td>Montana</td>\n",
       "      <td>POLYGON ((-111.47543 44.70216, -111.48080 44.6...</td>\n",
       "    </tr>\n",
       "    <tr>\n",
       "      <th>2</th>\n",
       "      <td>Maine</td>\n",
       "      <td>MULTIPOLYGON (((-69.77728 44.07415, -69.85993 ...</td>\n",
       "    </tr>\n",
       "    <tr>\n",
       "      <th>3</th>\n",
       "      <td>North Dakota</td>\n",
       "      <td>POLYGON ((-98.73044 45.93827, -99.00683 45.939...</td>\n",
       "    </tr>\n",
       "    <tr>\n",
       "      <th>4</th>\n",
       "      <td>South Dakota</td>\n",
       "      <td>POLYGON ((-102.78838 42.99530, -103.00588 42.9...</td>\n",
       "    </tr>\n",
       "  </tbody>\n",
       "</table>\n",
       "</div>"
      ],
      "text/plain": [
       "     STATE_NAME                                           geometry\n",
       "0    Washington  MULTIPOLYGON (((-122.40202 48.22522, -122.4628...\n",
       "1       Montana  POLYGON ((-111.47543 44.70216, -111.48080 44.6...\n",
       "2         Maine  MULTIPOLYGON (((-69.77728 44.07415, -69.85993 ...\n",
       "3  North Dakota  POLYGON ((-98.73044 45.93827, -99.00683 45.939...\n",
       "4  South Dakota  POLYGON ((-102.78838 42.99530, -103.00588 42.9..."
      ]
     },
     "execution_count": 60,
     "metadata": {},
     "output_type": "execute_result"
    }
   ],
   "source": [
    "usa = gpd.read_file('shapefiles/USA_States.shp')\n",
    "usa.drop(columns = ['STATE_FIPS','STATE_ABBR'],inplace=True)\n",
    "usa.head(5)"
   ]
  },
  {
   "cell_type": "markdown",
   "metadata": {},
   "source": [
    "#### Añadimos nuestros resultados al archivo"
   ]
  },
  {
   "cell_type": "code",
   "execution_count": 61,
   "metadata": {},
   "outputs": [],
   "source": [
    "usa = usa.merge(diff,how = 'left',right_on = 'State',left_on = 'STATE_NAME')\n",
    "usa.drop(columns=['State'],inplace=True)\n",
    "usa.fillna(0,inplace=True)\n"
   ]
  },
  {
   "cell_type": "code",
   "execution_count": 62,
   "metadata": {},
   "outputs": [
    {
     "data": {
      "image/png": "[encoded data removed]",
      "text/plain": [
       "<Figure size 1440x1440 with 2 Axes>"
      ]
     },
     "metadata": {
      "needs_background": "light"
     },
     "output_type": "display_data"
    }
   ],
   "source": [
    "\n",
    "fig, ax = plt.subplots(figsize=(20, 20))\n",
    "\n",
    "# Control del título y los ejes\n",
    "ax.set_title('Verdaderos vs Falsos', \n",
    "             pad = 20, \n",
    "             fontdict={'fontsize':20, 'color': 'k'})\n",
    "ax.set_xlabel('Longitud')\n",
    "ax.set_ylabel('Latitud')\n",
    " \n",
    "# Añadir la leyenda separada del mapa\n",
    "divider = make_axes_locatable(ax)\n",
    "cax = divider.append_axes(\"right\", size=\"5%\", pad=0.2) \n",
    "\n",
    "#Colores\n",
    "cmap = colors.ListedColormap(['#b71c1c', '#c62828', '#d32f2f','#f44336', '#ef5350','#e57373','#ef9a9a','#81c784','#43a047'])\n",
    "boundaries = [-70, -60, -50, -40, -30, -20,-10,0,10,20]\n",
    "norm = colors.BoundaryNorm(boundaries, cmap.N, clip=True)\n",
    "\n",
    "#Agrego etiquetas\n",
    "plt.text(-330, -28, 'New York', bbox=dict(boxstyle='square,pad=0.1', fc='white', ec='none')) # 300m x offset added.\n",
    "plt.text(-655, -47, 'Texas', bbox=dict(boxstyle='square,pad=0.3', fc='white', ec='none')) # 300m x offset added.\n",
    "plt.text(-430, -53, 'Florida', bbox=dict(boxstyle='square,pad=0.1', fc='white', ec='none')) # 300m x offset added.\n",
    "plt.text(-500, -40, 'Tennessee', bbox=dict(boxstyle='square,pad=0.1', fc='palegreen', ec='none')) # 300m x offset added.\n",
    "\n",
    "# Generar y cargar el mapa\n",
    "usa.plot(column ='diff', ax=ax,legend=True, cax=cax, zorder=5,cmap=cmap,norm=norm)\n",
    "plt.show()\n",
    "plt.close()"
   ]
  },
  {
   "cell_type": "markdown",
   "metadata": {},
   "source": [
    "**Conclusión:** Se observa que en la mayoria de los estados la situación es pareja. Solo hay un estado en donde la cantidad de tweets verdaderos supera a los falsos en mas de 10 unidades, el estado de Tennessee. Sin embargo hay varios estados en donde la cantidad de tweets falsos supera a los verdaderos en más de 10, Siendo la diferencia muy marcada en Florida, Texas y New york siendo este último dónde la situación es mucho más preocupante."
   ]
  },
  {
   "cell_type": "markdown",
   "metadata": {},
   "source": [
    "#### Otro análisis interesante es chequear si hay alguna relación entre la longitud de los tweets y su veracidad"
   ]
  },
  {
   "cell_type": "code",
   "execution_count": 63,
   "metadata": {},
   "outputs": [
    {
     "data": {
      "text/html": [
       "<div>\n",
       "<style scoped>\n",
       "    .dataframe tbody tr th:only-of-type {\n",
       "        vertical-align: middle;\n",
       "    }\n",
       "\n",
       "    .dataframe tbody tr th {\n",
       "        vertical-align: top;\n",
       "    }\n",
       "\n",
       "    .dataframe thead th {\n",
       "        text-align: right;\n",
       "    }\n",
       "</style>\n",
       "<table border=\"1\" class=\"dataframe\">\n",
       "  <thead>\n",
       "    <tr style=\"text-align: right;\">\n",
       "      <th></th>\n",
       "      <th>tweet lenght min</th>\n",
       "      <th>tweet lenght max</th>\n",
       "      <th>tweet lenght mean</th>\n",
       "    </tr>\n",
       "    <tr>\n",
       "      <th>target</th>\n",
       "      <th></th>\n",
       "      <th></th>\n",
       "      <th></th>\n",
       "    </tr>\n",
       "  </thead>\n",
       "  <tbody>\n",
       "    <tr>\n",
       "      <th>0</th>\n",
       "      <td>11</td>\n",
       "      <td>147</td>\n",
       "      <td>103.30</td>\n",
       "    </tr>\n",
       "    <tr>\n",
       "      <th>1</th>\n",
       "      <td>30</td>\n",
       "      <td>143</td>\n",
       "      <td>108.61</td>\n",
       "    </tr>\n",
       "  </tbody>\n",
       "</table>\n",
       "</div>"
      ],
      "text/plain": [
       "        tweet lenght min  tweet lenght max    tweet lenght mean\n",
       "target                                                         \n",
       "0                     11               147               103.30\n",
       "1                     30               143               108.61"
      ]
     },
     "execution_count": 63,
     "metadata": {},
     "output_type": "execute_result"
    }
   ],
   "source": [
    "df_statistics_usa = dataframe_usa.groupby('target').agg({'tweet lenght':['min','max','mean']})\n",
    "level0 = df_statistics_usa.columns.get_level_values(0)\n",
    "level1 = df_statistics_usa.columns.get_level_values(1)\n",
    "df_statistics_one_dimension = df_statistics_usa.copy()\n",
    "df_statistics_one_dimension.columns = level0 + ' ' + level1\n",
    "df_statistics_one_dimension"
   ]
  },
  {
   "cell_type": "code",
   "execution_count": 64,
   "metadata": {},
   "outputs": [
    {
     "data": {
      "image/png": "[encoded data removed]",
      "text/plain": [
       "<Figure size 1080x576 with 1 Axes>"
      ]
     },
     "metadata": {
      "needs_background": "light"
     },
     "output_type": "display_data"
    }
   ],
   "source": [
    "df_statistics_stacked = df_statistics_usa.stack()\n",
    "\n",
    "plt.figure(figsize = (15,8))\n",
    "graphic = sns.barplot(x = 'target', y = 'tweet lenght', hue = 'level_1', data = df_statistics_stacked.reset_index(),\n",
    "                      edgecolor = 'black', palette = ['#d32f2f','#43a047','#ef9a9a'])\n",
    "plt.xlabel(\"Target\", fontsize = 17)\n",
    "plt.ylabel(\"Longitud de los tweets\", fontsize = 17)\n",
    "plt.title(\"Análisis estadistico entre target y longitud (Estados Unidos)\", fontsize=17)\n",
    "legend = graphic.legend()\n",
    "legend.set_title(\"\")\n",
    "for t, l in zip(legend.texts,(\"Long. minima\", \"Long. máxima\",\"Long. promedio\")):\n",
    "    t.set_text(l)\n",
    "plt.tick_params(axis='both', labelsize = 13)"
   ]
  },
  {
   "cell_type": "markdown",
   "metadata": {},
   "source": [
    "#### Se observa que los tweet verdaderos son en promedio más largos que los tweet falsos. Sin embargo tanto el tweet mas corto como más largo son falsos.\n",
    "\n",
    "#### Enfoquemosnos ahora en las diferentes ciudades de USA. Encontremos cuales de ellas son las principales emisoras de twets y en cuales longitud de los tweet falsos y verdaderos se enecuentran por encima y por debajo de los respectivos promedios"
   ]
  },
  {
   "cell_type": "code",
   "execution_count": 65,
   "metadata": {},
   "outputs": [
    {
     "data": {
      "text/html": [
       "<div>\n",
       "<style scoped>\n",
       "    .dataframe tbody tr th:only-of-type {\n",
       "        vertical-align: middle;\n",
       "    }\n",
       "\n",
       "    .dataframe tbody tr th {\n",
       "        vertical-align: top;\n",
       "    }\n",
       "\n",
       "    .dataframe thead th {\n",
       "        text-align: right;\n",
       "    }\n",
       "</style>\n",
       "<table border=\"1\" class=\"dataframe\">\n",
       "  <thead>\n",
       "    <tr style=\"text-align: right;\">\n",
       "      <th></th>\n",
       "      <th>id</th>\n",
       "      <th>keyword</th>\n",
       "      <th>text</th>\n",
       "      <th>target</th>\n",
       "      <th>tweet lenght</th>\n",
       "      <th>located</th>\n",
       "      <th>location_type</th>\n",
       "    </tr>\n",
       "  </thead>\n",
       "  <tbody>\n",
       "    <tr>\n",
       "      <th>31</th>\n",
       "      <td>48</td>\n",
       "      <td>ablaze</td>\n",
       "      <td>@bbcmtd Wholesale Markets ablaze http://t.co/l...</td>\n",
       "      <td>1</td>\n",
       "      <td>55</td>\n",
       "      <td>Birmingham</td>\n",
       "      <td>C</td>\n",
       "    </tr>\n",
       "    <tr>\n",
       "      <th>34</th>\n",
       "      <td>52</td>\n",
       "      <td>ablaze</td>\n",
       "      <td>Crying out for more! Set me ablaze</td>\n",
       "      <td>0</td>\n",
       "      <td>34</td>\n",
       "      <td>Philadelphia</td>\n",
       "      <td>C</td>\n",
       "    </tr>\n",
       "    <tr>\n",
       "      <th>46</th>\n",
       "      <td>66</td>\n",
       "      <td>ablaze</td>\n",
       "      <td>How the West was burned: Thousands of wildfire...</td>\n",
       "      <td>1</td>\n",
       "      <td>97</td>\n",
       "      <td>Greensboro</td>\n",
       "      <td>C</td>\n",
       "    </tr>\n",
       "    <tr>\n",
       "      <th>53</th>\n",
       "      <td>77</td>\n",
       "      <td>ablaze</td>\n",
       "      <td>Police: Arsonist Deliberately Set Black Church...</td>\n",
       "      <td>1</td>\n",
       "      <td>95</td>\n",
       "      <td>Anaheim</td>\n",
       "      <td>C</td>\n",
       "    </tr>\n",
       "    <tr>\n",
       "      <th>58</th>\n",
       "      <td>82</td>\n",
       "      <td>ablaze</td>\n",
       "      <td>They sky was ablaze tonight in Los Angeles. I'...</td>\n",
       "      <td>0</td>\n",
       "      <td>119</td>\n",
       "      <td>Hollywood</td>\n",
       "      <td>C</td>\n",
       "    </tr>\n",
       "  </tbody>\n",
       "</table>\n",
       "</div>"
      ],
      "text/plain": [
       "    id keyword                                               text  target  \\\n",
       "31  48  ablaze  @bbcmtd Wholesale Markets ablaze http://t.co/l...       1   \n",
       "34  52  ablaze                 Crying out for more! Set me ablaze       0   \n",
       "46  66  ablaze  How the West was burned: Thousands of wildfire...       1   \n",
       "53  77  ablaze  Police: Arsonist Deliberately Set Black Church...       1   \n",
       "58  82  ablaze  They sky was ablaze tonight in Los Angeles. I'...       0   \n",
       "\n",
       "    tweet lenght       located location_type  \n",
       "31            55    Birmingham             C  \n",
       "34            34  Philadelphia             C  \n",
       "46            97    Greensboro             C  \n",
       "53            95       Anaheim             C  \n",
       "58           119     Hollywood             C  "
      ]
     },
     "execution_count": 65,
     "metadata": {},
     "output_type": "execute_result"
    }
   ],
   "source": [
    "tweets_by_city = dataframe_usa[dataframe_usa['location_type'] == 'C']\n",
    "tweets_by_city.head(5)"
   ]
  },
  {
   "cell_type": "markdown",
   "metadata": {},
   "source": [
    "#### Promedio por ciudad y target"
   ]
  },
  {
   "cell_type": "code",
   "execution_count": 66,
   "metadata": {},
   "outputs": [
    {
     "data": {
      "text/html": [
       "<div>\n",
       "<style scoped>\n",
       "    .dataframe tbody tr th:only-of-type {\n",
       "        vertical-align: middle;\n",
       "    }\n",
       "\n",
       "    .dataframe tbody tr th {\n",
       "        vertical-align: top;\n",
       "    }\n",
       "\n",
       "    .dataframe thead th {\n",
       "        text-align: right;\n",
       "    }\n",
       "</style>\n",
       "<table border=\"1\" class=\"dataframe\">\n",
       "  <thead>\n",
       "    <tr style=\"text-align: right;\">\n",
       "      <th></th>\n",
       "      <th>city</th>\n",
       "      <th>amount_t0</th>\n",
       "      <th>lenght_avg_t0</th>\n",
       "      <th>exceeds_avg_t0</th>\n",
       "      <th>amount_t1</th>\n",
       "      <th>lenght_avg_t1</th>\n",
       "      <th>exceeds_avg_t1</th>\n",
       "    </tr>\n",
       "  </thead>\n",
       "  <tbody>\n",
       "    <tr>\n",
       "      <th>0</th>\n",
       "      <td>Albuquerque</td>\n",
       "      <td>1.00</td>\n",
       "      <td>121.00</td>\n",
       "      <td>True</td>\n",
       "      <td>1.00</td>\n",
       "      <td>49.00</td>\n",
       "      <td>False</td>\n",
       "    </tr>\n",
       "    <tr>\n",
       "      <th>1</th>\n",
       "      <td>Alexandria</td>\n",
       "      <td>1.00</td>\n",
       "      <td>95.00</td>\n",
       "      <td>False</td>\n",
       "      <td>3.00</td>\n",
       "      <td>112.33</td>\n",
       "      <td>True</td>\n",
       "    </tr>\n",
       "    <tr>\n",
       "      <th>2</th>\n",
       "      <td>Anchorage</td>\n",
       "      <td>1.00</td>\n",
       "      <td>135.00</td>\n",
       "      <td>True</td>\n",
       "      <td>2.00</td>\n",
       "      <td>77.00</td>\n",
       "      <td>False</td>\n",
       "    </tr>\n",
       "    <tr>\n",
       "      <th>3</th>\n",
       "      <td>Antioch</td>\n",
       "      <td>2.00</td>\n",
       "      <td>100.50</td>\n",
       "      <td>False</td>\n",
       "      <td>0.00</td>\n",
       "      <td>0.00</td>\n",
       "      <td>False</td>\n",
       "    </tr>\n",
       "    <tr>\n",
       "      <th>4</th>\n",
       "      <td>Arlington</td>\n",
       "      <td>4.00</td>\n",
       "      <td>107.25</td>\n",
       "      <td>True</td>\n",
       "      <td>2.00</td>\n",
       "      <td>134.50</td>\n",
       "      <td>True</td>\n",
       "    </tr>\n",
       "    <tr>\n",
       "      <th>5</th>\n",
       "      <td>Asheville</td>\n",
       "      <td>2.00</td>\n",
       "      <td>87.50</td>\n",
       "      <td>False</td>\n",
       "      <td>3.00</td>\n",
       "      <td>97.67</td>\n",
       "      <td>False</td>\n",
       "    </tr>\n",
       "    <tr>\n",
       "      <th>6</th>\n",
       "      <td>Athens</td>\n",
       "      <td>1.00</td>\n",
       "      <td>139.00</td>\n",
       "      <td>True</td>\n",
       "      <td>2.00</td>\n",
       "      <td>91.50</td>\n",
       "      <td>False</td>\n",
       "    </tr>\n",
       "    <tr>\n",
       "      <th>7</th>\n",
       "      <td>Atlanta</td>\n",
       "      <td>22.00</td>\n",
       "      <td>102.50</td>\n",
       "      <td>False</td>\n",
       "      <td>11.00</td>\n",
       "      <td>112.09</td>\n",
       "      <td>True</td>\n",
       "    </tr>\n",
       "    <tr>\n",
       "      <th>8</th>\n",
       "      <td>Augusta</td>\n",
       "      <td>2.00</td>\n",
       "      <td>113.50</td>\n",
       "      <td>True</td>\n",
       "      <td>0.00</td>\n",
       "      <td>0.00</td>\n",
       "      <td>False</td>\n",
       "    </tr>\n",
       "    <tr>\n",
       "      <th>9</th>\n",
       "      <td>Aurora, I</td>\n",
       "      <td>1.00</td>\n",
       "      <td>116.00</td>\n",
       "      <td>True</td>\n",
       "      <td>0.00</td>\n",
       "      <td>0.00</td>\n",
       "      <td>False</td>\n",
       "    </tr>\n",
       "  </tbody>\n",
       "</table>\n",
       "</div>"
      ],
      "text/plain": [
       "          city            amount_t0        lenght_avg_t0 exceeds_avg_t0  \\\n",
       "0  Albuquerque                 1.00               121.00           True   \n",
       "1   Alexandria                 1.00                95.00          False   \n",
       "2    Anchorage                 1.00               135.00           True   \n",
       "3      Antioch                 2.00               100.50          False   \n",
       "4    Arlington                 4.00               107.25           True   \n",
       "5    Asheville                 2.00                87.50          False   \n",
       "6       Athens                 1.00               139.00           True   \n",
       "7      Atlanta                22.00               102.50          False   \n",
       "8      Augusta                 2.00               113.50           True   \n",
       "9    Aurora, I                 1.00               116.00           True   \n",
       "\n",
       "             amount_t1        lenght_avg_t1 exceeds_avg_t1  \n",
       "0                 1.00                49.00          False  \n",
       "1                 3.00               112.33           True  \n",
       "2                 2.00                77.00          False  \n",
       "3                 0.00                 0.00          False  \n",
       "4                 2.00               134.50           True  \n",
       "5                 3.00                97.67          False  \n",
       "6                 2.00                91.50          False  \n",
       "7                11.00               112.09           True  \n",
       "8                 0.00                 0.00          False  \n",
       "9                 0.00                 0.00          False  "
      ]
     },
     "execution_count": 66,
     "metadata": {},
     "output_type": "execute_result"
    }
   ],
   "source": [
    "def supera_promedio(target,promedio):\n",
    "    if (target==1 and promedio>=df_statistics_one_dimension.loc[1,'tweet lenght mean'])\\\n",
    "    or (target==0 and promedio>=df_statistics_one_dimension.loc[0,'tweet lenght mean']):\n",
    "        return True\n",
    "    return False\n",
    "\n",
    "totals = tweets_by_city.groupby(['located','target']).agg({'tweet lenght':['sum','count']})\n",
    "totals.columns = ['sum','amount']\n",
    "totals['avg'] = (totals['sum']/totals['amount'])\n",
    "totals.reset_index(inplace=True)\n",
    "totals['exceeds_avg']= totals.apply(lambda x: supera_promedio(x.target,x.avg),axis=1)\n",
    "totals.drop(columns=['sum'],inplace=True)\n",
    "\n",
    "\n",
    "totals = totals[totals['target']==0].merge(totals[totals['target']==1],left_on='located',\n",
    "                                           right_on='located',how='outer')\n",
    "\n",
    "totals.rename(columns = {\n",
    "    'located':'city',\\\n",
    "    'target_x':'target_t0',\\\n",
    "    'amount_x':'amount_t0',\\\n",
    "    'avg_x':'lenght_avg_t0',\\\n",
    "    'exceeds_avg_x':'exceeds_avg_t0',\\\n",
    "    'target_y':'target_t1',\\\n",
    "    'amount_y':'amount_t1',\\\n",
    "    'avg_y':'lenght_avg_t1',\\\n",
    "    'exceeds_avg_y':'exceeds_avg_t1'},inplace=True)\n",
    "totals.drop(columns=['target_t0','target_t1'],inplace=True)\n",
    "\n",
    "totals['exceeds_avg_t0'] = totals['exceeds_avg_t0'].fillna('False')\n",
    "totals['exceeds_avg_t1']=totals['exceeds_avg_t1'].fillna('False')\n",
    "totals.fillna(0,inplace=True)\n",
    "totals.head(10)\n",
    "\n"
   ]
  },
  {
   "cell_type": "markdown",
   "metadata": {},
   "source": [
    "#### ¿Que sucede en las principales ciudades emisoras?\n",
    "Quedemonos ahora con las ciudades que tienen mayor relevancia, pidiendo como condición que la cantidad de tweets emitidos desde dicha ciudad sea por lo menos 30 y saquemos algunas conclusiones:"
   ]
  },
  {
   "cell_type": "code",
   "execution_count": 67,
   "metadata": {},
   "outputs": [
    {
     "data": {
      "text/html": [
       "<div>\n",
       "<style scoped>\n",
       "    .dataframe tbody tr th:only-of-type {\n",
       "        vertical-align: middle;\n",
       "    }\n",
       "\n",
       "    .dataframe tbody tr th {\n",
       "        vertical-align: top;\n",
       "    }\n",
       "\n",
       "    .dataframe thead th {\n",
       "        text-align: right;\n",
       "    }\n",
       "</style>\n",
       "<table border=\"1\" class=\"dataframe\">\n",
       "  <thead>\n",
       "    <tr style=\"text-align: right;\">\n",
       "      <th></th>\n",
       "      <th>city</th>\n",
       "      <th>amount_t0</th>\n",
       "      <th>lenght_avg_t0</th>\n",
       "      <th>exceeds_avg_t0</th>\n",
       "      <th>amount_t1</th>\n",
       "      <th>lenght_avg_t1</th>\n",
       "      <th>exceeds_avg_t1</th>\n",
       "    </tr>\n",
       "  </thead>\n",
       "  <tbody>\n",
       "    <tr>\n",
       "      <th>7</th>\n",
       "      <td>Atlanta</td>\n",
       "      <td>22.00</td>\n",
       "      <td>102.50</td>\n",
       "      <td>False</td>\n",
       "      <td>11.00</td>\n",
       "      <td>112.09</td>\n",
       "      <td>True</td>\n",
       "    </tr>\n",
       "    <tr>\n",
       "      <th>22</th>\n",
       "      <td>Chicago</td>\n",
       "      <td>27.00</td>\n",
       "      <td>100.48</td>\n",
       "      <td>False</td>\n",
       "      <td>22.00</td>\n",
       "      <td>110.14</td>\n",
       "      <td>True</td>\n",
       "    </tr>\n",
       "    <tr>\n",
       "      <th>73</th>\n",
       "      <td>Los Angeles</td>\n",
       "      <td>35.00</td>\n",
       "      <td>110.29</td>\n",
       "      <td>True</td>\n",
       "      <td>20.00</td>\n",
       "      <td>118.80</td>\n",
       "      <td>True</td>\n",
       "    </tr>\n",
       "    <tr>\n",
       "      <th>88</th>\n",
       "      <td>New York</td>\n",
       "      <td>111.00</td>\n",
       "      <td>115.95</td>\n",
       "      <td>True</td>\n",
       "      <td>47.00</td>\n",
       "      <td>118.87</td>\n",
       "      <td>True</td>\n",
       "    </tr>\n",
       "    <tr>\n",
       "      <th>117</th>\n",
       "      <td>San Francisco</td>\n",
       "      <td>15.00</td>\n",
       "      <td>98.80</td>\n",
       "      <td>False</td>\n",
       "      <td>17.00</td>\n",
       "      <td>99.24</td>\n",
       "      <td>False</td>\n",
       "    </tr>\n",
       "  </tbody>\n",
       "</table>\n",
       "</div>"
      ],
      "text/plain": [
       "              city            amount_t0        lenght_avg_t0 exceeds_avg_t0  \\\n",
       "7          Atlanta                22.00               102.50          False   \n",
       "22         Chicago                27.00               100.48          False   \n",
       "73     Los Angeles                35.00               110.29           True   \n",
       "88        New York               111.00               115.95           True   \n",
       "117  San Francisco                15.00                98.80          False   \n",
       "\n",
       "               amount_t1        lenght_avg_t1 exceeds_avg_t1  \n",
       "7                  11.00               112.09           True  \n",
       "22                 22.00               110.14           True  \n",
       "73                 20.00               118.80           True  \n",
       "88                 47.00               118.87           True  \n",
       "117                17.00                99.24          False  "
      ]
     },
     "execution_count": 67,
     "metadata": {},
     "output_type": "execute_result"
    }
   ],
   "source": [
    "filter_30_tweets = totals[totals['amount_t0'] + totals['amount_t1'] >=30]\n",
    "filter_30_tweets.head()"
   ]
  },
  {
   "cell_type": "markdown",
   "metadata": {},
   "source": [
    "**Conclusión 1:**\n",
    "\n",
    "De las 5 ciudades desde las que se emitieron más tweets, en 4 de ellas la cantidad de tweets falsos emitidos supera a la cantidad de tweets verdaderos. La exepción es San Francisco, aunque la diferencia es de solo 2 tweets. En contraposición al caso de San Francisco, en las restantes cuatro ciudades, la cantidad de tweets falsos supera a la de tweets verdaderos en por lo menos 5 tweets en el caso más leve."
   ]
  },
  {
   "cell_type": "markdown",
   "metadata": {},
   "source": [
    "#### Visualicemos esto"
   ]
  },
  {
   "cell_type": "code",
   "execution_count": 68,
   "metadata": {},
   "outputs": [
    {
     "data": {
      "image/png": "[encoded data removed]",
      "text/plain": [
       "<Figure size 864x576 with 1 Axes>"
      ]
     },
     "metadata": {
      "needs_background": "light"
     },
     "output_type": "display_data"
    }
   ],
   "source": [
    "#Tamaño\n",
    "fig, ax = plt.subplots(figsize=(12, 8))\n",
    "\n",
    "#ancho barras\n",
    "bar_width=0.4\n",
    "\n",
    "#Aux para ubicar ejes\n",
    "x = np.arange(5)\n",
    "\n",
    "#grafico\n",
    "plt.bar(x,height = filter_30_tweets['amount_t0'],color='tomato',label = 'Falsos',\n",
    "        width=bar_width, edgecolor='black')\n",
    "plt.bar(x+ bar_width,height = filter_30_tweets['amount_t1'],color='mediumseagreen',\n",
    "        label='Verdaderos', width=bar_width, edgecolor='black')\n",
    "\n",
    "#Nombre ejes\n",
    "plt.ylabel('Cantidad de tweets', fontsize=15)\n",
    "plt.xlabel('Ciudad', fontsize=15)\n",
    "\n",
    "#Caja indicadora\n",
    "plt.legend(bbox_to_anchor=(1.05, 1), loc='upper left', borderaxespad=0.)\n",
    "\n",
    "\n",
    "#titulo\n",
    "plt.title('Cantidad de tweets emitidos en las principales ciudades fuente',color='k', fontsize=20)\n",
    "\n",
    "#Acomodo nombre eje x\n",
    "ax.set_xticks(x + bar_width / 2)\n",
    "ax.set_xticklabels(filter_30_tweets.city.unique())\n",
    "\n",
    "plt.show()"
   ]
  },
  {
   "cell_type": "markdown",
   "metadata": {},
   "source": [
    "**Conclusión 2**:\n",
    "\n",
    "A pesar de ser la unica ciudad con una cantidad significativa de tweets en donde la cantidad de tweets verdaderos supera a los falsos, San Francisco es la unica ciudad de las 5 que cumplen con los requisitos en donde la longitud de tweets verdaderos se encuentra por debajo de la longitud de tweets verdaderos a nivel pais.\n",
    "\n",
    "Por otra parte resulta curioso que en las restantes 4 ciudades en donde se da el caso opuesto y la cantidad de falsos suspera a los verdaderos, en todas, la longitud promedio de tweets verdaderos supera a la longitud promedio de tweets verdaderos a nivel pais.\n",
    "\n",
    "**Conclusión 3:**\n",
    "\n",
    "En cuanto a la emisión de tweets falsos la situación es más variada.En tres de las cinco ciudades la longitud promedio de los tweets falsos no supera a al promedio en esa categoria a nivel pais, mientras que en las dos restantes si lo hace."
   ]
  },
  {
   "cell_type": "markdown",
   "metadata": {},
   "source": [
    "#### Cantidad de apariciones de hashtags, menciones y URL's en tweets provenientes de USA"
   ]
  },
  {
   "cell_type": "code",
   "execution_count": 69,
   "metadata": {},
   "outputs": [],
   "source": [
    "df_usa_patterns = dataframe_usa.copy()\n",
    "df_usa_patterns = df_usa_patterns.drop(['keyword','tweet lenght','location_type'],1)\n",
    "\n",
    "df_usa_patterns['hashtags'] = df_usa_patterns['text'].apply(lambda x: buscar_hashtags(x))\n",
    "df_usa_patterns['htg amount'] = df_usa_patterns['hashtags'].map(lambda x: len(x.split(',')))\n",
    "\n",
    "\n",
    "df_usa_patterns['mentions'] = df_usa_patterns['text'].apply(lambda x: buscar_menciones(x))\n",
    "df_usa_patterns['mentions amount'] =  df_usa_patterns['mentions'].map(lambda x: len(x.split(',')))\n",
    "\n",
    "\n",
    "df_usa_patterns['urls'] = df_usa_patterns['text'].apply(lambda x: buscar_urls(x))\n",
    "df_usa_patterns['urls amount'] = df_usa_patterns['urls'].str.len()\n",
    "\n",
    "df_usa_patterns = df_usa_patterns.groupby(['target','htg amount','mentions amount','urls amount'])\\\n",
    ".agg({'id':'count'}).reset_index()\n",
    "\n",
    "df_usa_patterns_real = df_usa_patterns[df_usa_patterns['target'] == 1]\n",
    "df_usa_patterns_fake = df_usa_patterns[df_usa_patterns['target'] == 0]"
   ]
  },
  {
   "cell_type": "code",
   "execution_count": 70,
   "metadata": {},
   "outputs": [
    {
     "data": {
      "image/png": "[encoded data removed]",
      "text/plain": [
       "<Figure size 432x288 with 1 Axes>"
      ]
     },
     "metadata": {
      "needs_background": "light"
     },
     "output_type": "display_data"
    }
   ],
   "source": [
    "df= df_usa_patterns_real.groupby(['htg amount']).agg({'id':'sum'})\\\n",
    ".merge(df_usa_patterns_fake.groupby(['htg amount']).agg({'id':'sum'}), on = 'htg amount')\n",
    "df = df.rename(columns={'id_x': 'Tweets Veridicos','id_y': 'Tweets Falsos' })\n",
    "df.plot.bar(color=('mediumseagreen','tomato'))\n",
    "plt.xlabel('Cantidad de hashtags', fontsize = 17)\n",
    "plt.ylabel('Cantidad de tweets', fontsize = 17)\n",
    "plt.title('Cantidad de tweets con determinada cantidad de hashtags', fontsize = 20)\n",
    "plt.tick_params(axis='both', labelsize = 13)\n",
    "plt.xticks(rotation = 0)\n",
    "plt.show()\n"
   ]
  },
  {
   "cell_type": "code",
   "execution_count": 71,
   "metadata": {},
   "outputs": [
    {
     "data": {
      "image/png": "[encoded data removed]",
      "text/plain": [
       "<Figure size 432x288 with 1 Axes>"
      ]
     },
     "metadata": {
      "needs_background": "light"
     },
     "output_type": "display_data"
    }
   ],
   "source": [
    "df = df_usa_patterns_real.groupby(['mentions amount']).agg({'id':'sum'})\\\n",
    ".merge(df_usa_patterns_fake.groupby(['mentions amount']).agg({'id':'sum'}), on = 'mentions amount')\n",
    "df = df.rename(columns={'id_x': 'Tweets Veridicos','id_y': 'Tweets Falsos' })\n",
    "df.plot.bar(color=('mediumseagreen','tomato'))\n",
    "plt.xlabel('Cantidad de menciones', fontsize = 17)\n",
    "plt.ylabel('Cantidad de tweets', fontsize = 17)\n",
    "plt.title('Cantidad de tweets con determinada cantidad de menciones', fontsize = 20)\n",
    "plt.tick_params(axis='both', labelsize = 13)\n",
    "plt.xticks(rotation = 0)\n",
    "plt.show()"
   ]
  },
  {
   "cell_type": "code",
   "execution_count": 72,
   "metadata": {},
   "outputs": [
    {
     "data": {
      "image/png": "[encoded data removed]",
      "text/plain": [
       "<Figure size 432x288 with 1 Axes>"
      ]
     },
     "metadata": {
      "needs_background": "light"
     },
     "output_type": "display_data"
    }
   ],
   "source": [
    "df = df_usa_patterns_real.groupby(['urls amount']).agg({'id':'sum'})\\\n",
    ".merge(df_usa_patterns_fake.groupby(['urls amount']).agg({'id':'sum'}), on = 'urls amount')\n",
    "df = df.rename(columns={'id_x': 'Tweets Veridicos','id_y': 'Tweets Falsos' })\n",
    "df.plot.bar(color=('mediumseagreen','tomato'))\n",
    "plt.xlabel('Cantidad de URLs', fontsize = 17)\n",
    "plt.ylabel('Cantidad de tweets', fontsize = 17)\n",
    "plt.title('Cantidad de tweets con determinada cantidad de URLs', fontsize = 20)\n",
    "plt.tick_params(axis='both', labelsize = 13)\n",
    "plt.xticks(rotation = 0)\n",
    "plt.show()"
   ]
  }
 ],
 "metadata": {
  "kernelspec": {
   "display_name": "Python 3",
   "language": "python",
   "name": "python3"
  },
  "language_info": {
   "codemirror_mode": {
    "name": "ipython",
    "version": 3
   },
   "file_extension": ".py",
   "mimetype": "text/x-python",
   "name": "python",
   "nbconvert_exporter": "python",
   "pygments_lexer": "ipython3",
   "version": "3.6.9"
  }
 },
 "nbformat": 4,
 "nbformat_minor": 4
}
